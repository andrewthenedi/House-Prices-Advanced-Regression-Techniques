{
  "nbformat": 4,
  "nbformat_minor": 0,
  "metadata": {
    "colab": {
      "name": "IPython-Notebook_Competition_COMP4433_18079969D_THENEDI-Andrew",
      "provenance": [],
      "collapsed_sections": []
    },
    "kernelspec": {
      "name": "python3",
      "display_name": "Python 3"
    },
    "language_info": {
      "name": "python"
    }
  },
  "cells": [
    {
      "cell_type": "markdown",
      "metadata": {
        "id": "LTm0agEn65NE"
      },
      "source": [
        "Importing the Libraries and Setting Up the Configuration"
      ]
    },
    {
      "cell_type": "code",
      "metadata": {
        "id": "EcY9a4skVWxO"
      },
      "source": [
        "# !pip install seaborn\n",
        "# !pip install datawig\n",
        "# !pip install -U imbalanced-learn\n",
        "# !pip install numpy --upgrade\n",
        "# !pip install pandas --upgrade\n",
        "# !pip install apyori\n",
        "\n",
        "# # IMPORTANT: Comment and start runtime after executing the code above!"
      ],
      "execution_count": 1,
      "outputs": []
    },
    {
      "cell_type": "code",
      "metadata": {
        "id": "o22Kth1TxWjq"
      },
      "source": [
        "import numpy as np\n",
        "np.set_printoptions(suppress=True)\n",
        "import matplotlib.pyplot as plt\n",
        "import pandas as pd\n",
        "import seaborn as sns\n",
        "import datawig\n",
        "from sklearn.preprocessing import minmax_scale, MinMaxScaler\n",
        "from sklearn.metrics import mean_squared_log_error\n",
        "from math import sqrt\n",
        "from sklearn.metrics import accuracy_score\n",
        "from sklearn.model_selection import train_test_split\n",
        "from apyori import apriori"
      ],
      "execution_count": 2,
      "outputs": []
    },
    {
      "cell_type": "code",
      "metadata": {
        "id": "zAmVKayE6xPB",
        "colab": {
          "base_uri": "https://localhost:8080/"
        },
        "outputId": "c85dd470-cb9b-4859-cb70-eb244af06aa8"
      },
      "source": [
        "from google.colab import drive\n",
        "\n",
        "drive.mount('/content/drive')\n",
        "%cd /content/drive/My\\ Drive/COMP4433/Competition"
      ],
      "execution_count": 3,
      "outputs": [
        {
          "output_type": "stream",
          "name": "stdout",
          "text": [
            "Drive already mounted at /content/drive; to attempt to forcibly remount, call drive.mount(\"/content/drive\", force_remount=True).\n",
            "/content/drive/My Drive/COMP4433/Competition\n"
          ]
        }
      ]
    },
    {
      "cell_type": "markdown",
      "metadata": {
        "id": "eCQeW-ZB7Et9"
      },
      "source": [
        "Importing the dataset"
      ]
    },
    {
      "cell_type": "code",
      "metadata": {
        "id": "67QktF2jWzTS"
      },
      "source": [
        "train = pd.read_csv('train.csv')"
      ],
      "execution_count": 4,
      "outputs": []
    },
    {
      "cell_type": "code",
      "metadata": {
        "id": "t2-3Dsg28K_R"
      },
      "source": [
        "test = pd.read_csv('test.csv')"
      ],
      "execution_count": 5,
      "outputs": []
    },
    {
      "cell_type": "code",
      "metadata": {
        "id": "ds_FqW1J8aJ2"
      },
      "source": [
        "train_test_X = pd.concat([train.iloc[:,:-1], test], ignore_index=True)\n",
        "train_y = train.iloc[:,-1].copy()"
      ],
      "execution_count": 6,
      "outputs": []
    },
    {
      "cell_type": "markdown",
      "metadata": {
        "id": "_S3_OT826y4B"
      },
      "source": [
        "Data Cleaning"
      ]
    },
    {
      "cell_type": "code",
      "metadata": {
        "id": "xCYMNONT7HR4"
      },
      "source": [
        "# Create 'filled_train_test' dataframe which ALL of the values in its column ('filled_columns') ARE FILLED\n",
        "filled_columns = train_test_X.columns[~train_test_X.isnull().any()]\n",
        "filled_train_test = train_test_X[filled_columns].copy()\n",
        "# Create 'empty_train_test' dataframe which SOME OR ALL of the values of in column ('empty_columns') are NOT FILLED\n",
        "empty_columns = train_test_X.columns[train_test_X.isnull().any()]\n",
        "empty_train_test = train_test_X[empty_columns].copy()\n",
        "# Create 'list_empty_columns_true' list which ALL of the empty values count of in column ARE LESS THAN 365 (= 25% of the row length of the train dataframe)\n",
        "list_empty_columns_true = train_test_X[empty_columns].isnull().sum().sort_values(ascending=True)\n",
        "list_empty_columns_true = list_empty_columns_true[list_empty_columns_true <= (0.25*len(train_test_X))]\n",
        "# Filter the 'empty_train_test' dataframe to ONLY CONTAIN the columns that EXIST in 'list_empty_columns_true' list\n",
        "empty_train_test = empty_train_test.loc[:, empty_train_test.columns.isin(list_empty_columns_true.keys())]\n",
        "# Add the 'Id' column from 'train_test_X' dataframe to 'empty_train_test' dataframe\n",
        "empty_train_test.insert(loc=0, column='Id', value=train_test_X.iloc[:, 0])"
      ],
      "execution_count": 7,
      "outputs": []
    },
    {
      "cell_type": "code",
      "metadata": {
        "id": "bEQeCdU2mCHv"
      },
      "source": [
        "dict_plot_rmsle = {}\n",
        "dict_plot_acc = {}"
      ],
      "execution_count": 8,
      "outputs": []
    },
    {
      "cell_type": "code",
      "metadata": {
        "id": "5pjdLEfQNvZr",
        "colab": {
          "base_uri": "https://localhost:8080/"
        },
        "outputId": "f787a1cd-7876-490a-84dc-2951e91f9b5a"
      },
      "source": [
        "# Iterate the column name (cols_at_end/predicted column) from the 'list_empty_columns_true' list\n",
        "for cols_at_end in list_empty_columns_true.index:\n",
        "  print(\"####################################\")\n",
        "  print(\"Current: \", cols_at_end)\n",
        "  print(\"####################################\")\n",
        "  # Create 'pd_train_test' dataframe which ALL of the values in 'cols_at_end' column are NOT EMPTY\n",
        "  pd_train_test = empty_train_test[empty_train_test[cols_at_end].notna()]\n",
        "  # Rearrange 'pd_train' columns into the following order: column{'Id'} -> dtype{Object/String} -> dtype{Float} -> dtype{Integer} -> column{cols_at_end/predicted column}\n",
        "  pd_train_test = pd_train_test[[c for c in pd_train_test if c == 'Id']\n",
        "                      + [c for c in pd_train_test if c not in cols_at_end and pd_train_test[c].dtype == 'O']\n",
        "                      + [c for c in pd_train_test if c not in cols_at_end and pd_train_test[c].dtype == 'float']\n",
        "                      + [c for c in pd_train_test if c not in cols_at_end and c != 'Id' and pd_train_test[c].dtype == 'int'] \n",
        "                      + [c for c in pd_train_test if c in cols_at_end]]\n",
        "  # Create 'pd_train_test_train' dataframe which ALL of the values in its columns are NOT EMPTY\n",
        "  pd_train_test_filled_columns = pd_train_test.columns[~pd_train_test.isnull().any()]\n",
        "  pd_train_test_train = pd_train_test[pd_train_test_filled_columns]\n",
        "  pd_train_test_train = pd_train_test_train.drop([cols_at_end], axis=1)\n",
        "  # Create 'pd_predict' dataframe which ALL of the values in 'cols_at_end' column ARE EMPTY\n",
        "  pd_predict = empty_train_test[empty_train_test[cols_at_end].isna()]\n",
        "  # Rearrange 'pd_predict' columns into the following order: column{'Id'} -> dtype{Object/String} -> dtype{Float} -> dtype{Integer} -> column{cols_at_end/predicted column}\n",
        "  pd_predict = pd_predict[[c for c in pd_predict if c == 'Id']\n",
        "                          + [c for c in pd_predict if c not in cols_at_end and pd_predict[c].dtype == 'O']\n",
        "                          + [c for c in pd_predict if c not in cols_at_end and pd_predict[c].dtype == 'float'] \n",
        "                          + [c for c in pd_predict if c not in cols_at_end and c != 'Id' and pd_predict[c].dtype == 'int'] \n",
        "                          + [c for c in pd_predict if c in cols_at_end]]\n",
        "  # Create 'pd_predict_train' dataframe which ALL of the values in its columns EXCEPT 'cols_at_end' are NOT EMPTY\n",
        "  pd_predict_filled_columns = pd_predict.columns[~pd_predict.isnull().any()]\n",
        "  pd_predict_train = pd_predict[pd_predict_filled_columns]\n",
        "  # Split 'pd_train_test' and 'pd_predict' dataframes into train ('X_pd_train_test', 'y_pd_train_test') and predict ('X_pd_predict', 'y_pd_predict') dataframes\n",
        "  X_pd_train_test = pd_train_test.iloc[:, :-1]\n",
        "  X_pd_predict = pd_predict.iloc[:, :-1]\n",
        "  y_pd_train_test = pd_train_test.iloc[:, -1]\n",
        "  y_pd_predict = pd_predict.iloc[:, -1]\n",
        "  # Create 'list_is_columns_same' list which contains ALL the column names that are identical to the ones in both 'pd_train_test_train' AND 'pd_predict_train' dataframes\n",
        "  list_is_columns_same = [i for i, j in zip(pd_train_test_train.columns, pd_predict_train.columns) if i == j]\n",
        "  # Create 'X_pd' dataframe which contains the resulted appending of 'X_pd_train_test' AND 'X_pd_predict' dataframes\n",
        "  X_pd = X_pd_train_test.append(X_pd_predict)\n",
        "  # Create 'start_idx_list_float' as a starting column index position AND 'end_idx_list_O' as an ending column index position OF 'X_pd' dataframe\n",
        "  list_float = [idx for idx,c in enumerate(X_pd) if c not in cols_at_end and c != 'Id' and X_pd[c].dtype == 'float']\n",
        "  list_O = [idx for idx,c in enumerate(X_pd) if c not in cols_at_end and c != 'Id' and X_pd[c].dtype == 'O']\n",
        "  start_idx_list_float = list_float[0]\n",
        "  end_idx_list_O = list_O[-1]\n",
        "  # Apply feature scaling using min-max normalization on 'X_pd' dataframe\n",
        "  sc = MinMaxScaler(feature_range=(0,1))\n",
        "  X_pd.iloc[:, start_idx_list_float:] = sc.fit_transform(X_pd.iloc[:, start_idx_list_float:])\n",
        "  # Apply feature encoding using one hot 'X_pd' dataframe\n",
        "  one_hot = pd.get_dummies(X_pd.iloc[:, 1:end_idx_list_O+1])\n",
        "  X_pd = pd.concat([X_pd, one_hot], axis = 1)\n",
        "  # Split the 'X_pd' dataframe into train ('X_pd_train_test') and predict ('X_pd_predict') dataframes\n",
        "  X_pd_train_test = X_pd[:len(X_pd_train_test)]\n",
        "  X_pd_predict = X_pd[len(X_pd_train_test):]\n",
        "  # Create 'pd_train_test' and 'pd_predict' dataframes which contain train ('X_pd_train_test', 'y_pd_train_test') and predict ('X_pd_predict', 'y_pd_predict') dataframes\n",
        "  pd_train_test = X_pd_train_test.join(y_pd_train_test)\n",
        "  pd_predict = X_pd_predict.join(y_pd_predict)\n",
        "  # Create 'pd_train_test_train' and 'pd_predict_train' dataframes which contain the random split of 'pd_train_test' dataframe\n",
        "  pd_train_test_train, pd_predict_train = datawig.utils.random_split(pd_train_test)\n",
        "  # Predict the missing values in 'cols_at_end' column ON 'pd_predict_train' dataframe\n",
        "  imputer = datawig.SimpleImputer(\n",
        "    input_columns=pd_train_test_train.iloc[:, start_idx_list_float:-1].columns, # column(s) containing information about the column we want to impute\n",
        "    output_column= pd_predict_train.iloc[:, -1].name, # the column we'd like to impute values for\n",
        "    )\n",
        "  imputer.fit(train_df=pd_train_test_train.iloc[:,1:])\n",
        "  imputed = imputer.predict(pd_predict_train.iloc[:,1:])\n",
        "  # If the predicted value is equal to negative value, replace it with the mean of 'cols_at_end' column values\n",
        "  if (imputed[cols_at_end+'_imputed'].dtype == 'float') or (imputed[cols_at_end+'_imputed'].dtype == 'int'):\n",
        "    imputed.reset_index(drop=True)\n",
        "    count = 0\n",
        "    for p in imputed[cols_at_end+'_imputed']:\n",
        "      if p < 0:\n",
        "        imputed[cols_at_end+'_imputed'].iloc[[count]] = imputed[cols_at_end].mean()\n",
        "      count+=1\n",
        "  # Store the RMSLE (numerical column values) AND accuracy (categorical column values) values, which will be used in the visualization stage\n",
        "  if (pd_train_test.iloc[:, -1].dtype == 'float') or (pd_train_test.iloc[:, -1].dtype == 'int'):\n",
        "    dw_rmsle = sqrt(mean_squared_log_error(imputed[cols_at_end+'_imputed'],imputed[cols_at_end]))\n",
        "    dict_plot_rmsle[cols_at_end] = dw_rmsle\n",
        "  else:\n",
        "    dw_acc = accuracy_score(imputed[cols_at_end], imputed[cols_at_end+'_imputed'])\n",
        "    dict_plot_acc[cols_at_end] = dw_acc\n",
        "  # Predict the missing values in 'cols_at_end' column ON 'pd_predict' dataframe\n",
        "  imputer = datawig.SimpleImputer(\n",
        "    input_columns=pd_train_test.iloc[:, start_idx_list_float:-1].columns, # column(s) containing information about the column we want to impute\n",
        "    output_column= pd_predict.iloc[:, -1].name, # the column we'd like to impute values for\n",
        "    )\n",
        "  imputer.fit(train_df=pd_train_test.iloc[:,1:])\n",
        "  imputed = imputer.predict(pd_predict.iloc[:,1:])\n",
        "  # If the predicted value is equal to negative value, replace it with the mean of 'cols_at_end' column values\n",
        "  if (imputed[cols_at_end+'_imputed'].dtype == 'float') or (imputed[cols_at_end+'_imputed'].dtype == 'int'):\n",
        "    imputed.reset_index(drop=True)\n",
        "    count = 0\n",
        "    for p in imputed[cols_at_end+'_imputed']:\n",
        "      if p < 0:\n",
        "        imputed[cols_at_end+'_imputed'].iloc[[count]] = pd_train_test[cols_at_end].mean()\n",
        "      count+=1\n",
        "  # Store the predicted values in the 'cols_at_end' column ON 'pd_predict' dataframe\n",
        "  if (pd_train_test.iloc[:, -1].dtype == 'float') or (pd_train_test.iloc[:, -1].dtype == 'int'):\n",
        "    pd_predict.iloc[:, -1] = imputed.iloc[:,-1]\n",
        "  else:\n",
        "    pd_predict.iloc[:, -1] = imputed.iloc[:,-2]\n",
        "  # Store the predicted values in the 'cols_at_end' column ON 'empty_train_test' dataframe\n",
        "  for i_predict in pd_predict['Id']:\n",
        "    for i_empty_train_test in empty_train_test['Id']:\n",
        "      if (i_predict == i_empty_train_test):\n",
        "        empty_train_test[cols_at_end].loc[empty_train_test['Id'] == i_empty_train_test] = pd_predict[cols_at_end].loc[pd_predict['Id'] == i_predict].copy()"
      ],
      "execution_count": 9,
      "outputs": [
        {
          "output_type": "stream",
          "name": "stdout",
          "text": [
            "####################################\n",
            "Current:  TotalBsmtSF\n",
            "####################################\n"
          ]
        },
        {
          "output_type": "stream",
          "name": "stderr",
          "text": [
            "2021-11-20 21:18:17,632 [INFO]  \n",
            "========== start: fit model\n",
            "2021-11-20 21:18:17,637 [WARNING]  Already bound, ignoring bind()\n",
            "2021-11-20 21:18:17,715 [INFO]  Epoch[0] Batch [0-66]\tSpeed: 14728.60 samples/sec\tcross-entropy=6.559373\tTotalBsmtSF-accuracy=0.000000\n",
            "2021-11-20 21:18:17,790 [INFO]  Epoch[0] Train-cross-entropy=5.351529\n",
            "2021-11-20 21:18:17,792 [INFO]  Epoch[0] Train-TotalBsmtSF-accuracy=0.000000\n",
            "2021-11-20 21:18:17,799 [INFO]  Epoch[0] Time cost=0.158\n",
            "2021-11-20 21:18:17,810 [INFO]  Saved checkpoint to \"totalbsmtsf/model-0000.params\"\n",
            "2021-11-20 21:18:17,821 [INFO]  Epoch[0] Validation-cross-entropy=2.379307\n",
            "2021-11-20 21:18:17,824 [INFO]  Epoch[0] Validation-TotalBsmtSF-accuracy=0.000000\n",
            "2021-11-20 21:18:17,898 [INFO]  Epoch[1] Batch [0-66]\tSpeed: 15344.27 samples/sec\tcross-entropy=3.024975\tTotalBsmtSF-accuracy=0.000000\n",
            "2021-11-20 21:18:17,986 [INFO]  Epoch[1] Train-cross-entropy=2.648353\n",
            "2021-11-20 21:18:17,989 [INFO]  Epoch[1] Train-TotalBsmtSF-accuracy=0.000000\n",
            "2021-11-20 21:18:17,992 [INFO]  Epoch[1] Time cost=0.167\n",
            "2021-11-20 21:18:18,004 [INFO]  Saved checkpoint to \"totalbsmtsf/model-0001.params\"\n",
            "2021-11-20 21:18:18,016 [INFO]  Epoch[1] Validation-cross-entropy=1.463937\n",
            "2021-11-20 21:18:18,018 [INFO]  Epoch[1] Validation-TotalBsmtSF-accuracy=0.000000\n",
            "2021-11-20 21:18:18,106 [INFO]  Epoch[2] Batch [0-66]\tSpeed: 12634.53 samples/sec\tcross-entropy=3.080254\tTotalBsmtSF-accuracy=0.000000\n",
            "2021-11-20 21:18:18,259 [INFO]  Epoch[2] Train-cross-entropy=2.465167\n",
            "2021-11-20 21:18:18,261 [INFO]  Epoch[2] Train-TotalBsmtSF-accuracy=0.000000\n",
            "2021-11-20 21:18:18,262 [INFO]  Epoch[2] Time cost=0.242\n",
            "2021-11-20 21:18:18,278 [INFO]  Saved checkpoint to \"totalbsmtsf/model-0002.params\"\n",
            "2021-11-20 21:18:18,289 [INFO]  Epoch[2] Validation-cross-entropy=1.446579\n",
            "2021-11-20 21:18:18,290 [INFO]  Epoch[2] Validation-TotalBsmtSF-accuracy=0.000000\n",
            "2021-11-20 21:18:18,366 [INFO]  Epoch[3] Batch [0-66]\tSpeed: 14746.79 samples/sec\tcross-entropy=0.727019\tTotalBsmtSF-accuracy=0.000000\n",
            "2021-11-20 21:18:18,459 [INFO]  Epoch[3] Train-cross-entropy=0.686702\n",
            "2021-11-20 21:18:18,463 [INFO]  Epoch[3] Train-TotalBsmtSF-accuracy=0.000000\n",
            "2021-11-20 21:18:18,465 [INFO]  Epoch[3] Time cost=0.173\n",
            "2021-11-20 21:18:18,480 [INFO]  Saved checkpoint to \"totalbsmtsf/model-0003.params\"\n",
            "2021-11-20 21:18:18,492 [INFO]  Epoch[3] Validation-cross-entropy=0.978755\n",
            "2021-11-20 21:18:18,494 [INFO]  Epoch[3] Validation-TotalBsmtSF-accuracy=0.000000\n",
            "2021-11-20 21:18:18,571 [INFO]  Epoch[4] Batch [0-66]\tSpeed: 14709.87 samples/sec\tcross-entropy=0.486781\tTotalBsmtSF-accuracy=0.000000\n",
            "2021-11-20 21:18:18,650 [INFO]  Epoch[4] Train-cross-entropy=0.525483\n",
            "2021-11-20 21:18:18,654 [INFO]  Epoch[4] Train-TotalBsmtSF-accuracy=0.000000\n",
            "2021-11-20 21:18:18,656 [INFO]  Epoch[4] Time cost=0.159\n",
            "2021-11-20 21:18:18,688 [INFO]  Saved checkpoint to \"totalbsmtsf/model-0004.params\"\n",
            "2021-11-20 21:18:18,700 [INFO]  Epoch[4] Validation-cross-entropy=0.953377\n",
            "2021-11-20 21:18:18,701 [INFO]  Epoch[4] Validation-TotalBsmtSF-accuracy=0.000000\n",
            "2021-11-20 21:18:18,783 [INFO]  Epoch[5] Batch [0-66]\tSpeed: 14279.72 samples/sec\tcross-entropy=0.325845\tTotalBsmtSF-accuracy=0.000000\n",
            "2021-11-20 21:18:18,860 [INFO]  Epoch[5] Train-cross-entropy=0.333572\n",
            "2021-11-20 21:18:18,865 [INFO]  Epoch[5] Train-TotalBsmtSF-accuracy=0.000000\n",
            "2021-11-20 21:18:18,867 [INFO]  Epoch[5] Time cost=0.160\n",
            "2021-11-20 21:18:18,878 [INFO]  Saved checkpoint to \"totalbsmtsf/model-0005.params\"\n",
            "2021-11-20 21:18:18,888 [INFO]  Epoch[5] Validation-cross-entropy=0.785453\n",
            "2021-11-20 21:18:18,889 [INFO]  Epoch[5] Validation-TotalBsmtSF-accuracy=0.000000\n",
            "2021-11-20 21:18:18,971 [INFO]  Epoch[6] Batch [0-66]\tSpeed: 13713.71 samples/sec\tcross-entropy=0.200898\tTotalBsmtSF-accuracy=0.000000\n",
            "2021-11-20 21:18:19,067 [INFO]  Epoch[6] Train-cross-entropy=0.182500\n",
            "2021-11-20 21:18:19,070 [INFO]  Epoch[6] Train-TotalBsmtSF-accuracy=0.000000\n",
            "2021-11-20 21:18:19,072 [INFO]  Epoch[6] Time cost=0.181\n",
            "2021-11-20 21:18:19,088 [INFO]  Saved checkpoint to \"totalbsmtsf/model-0006.params\"\n",
            "2021-11-20 21:18:19,098 [INFO]  Epoch[6] Validation-cross-entropy=0.537193\n",
            "2021-11-20 21:18:19,100 [INFO]  Epoch[6] Validation-TotalBsmtSF-accuracy=0.000000\n",
            "2021-11-20 21:18:19,176 [INFO]  Epoch[7] Batch [0-66]\tSpeed: 14739.38 samples/sec\tcross-entropy=0.206058\tTotalBsmtSF-accuracy=0.000000\n",
            "2021-11-20 21:18:19,249 [INFO]  Epoch[7] Train-cross-entropy=0.201578\n",
            "2021-11-20 21:18:19,254 [INFO]  Epoch[7] Train-TotalBsmtSF-accuracy=0.000000\n",
            "2021-11-20 21:18:19,256 [INFO]  Epoch[7] Time cost=0.154\n",
            "2021-11-20 21:18:19,267 [INFO]  Saved checkpoint to \"totalbsmtsf/model-0007.params\"\n",
            "2021-11-20 21:18:19,278 [INFO]  Epoch[7] Validation-cross-entropy=0.475028\n",
            "2021-11-20 21:18:19,279 [INFO]  Epoch[7] Validation-TotalBsmtSF-accuracy=0.000000\n",
            "2021-11-20 21:18:19,355 [INFO]  Epoch[8] Batch [0-66]\tSpeed: 14737.18 samples/sec\tcross-entropy=0.205569\tTotalBsmtSF-accuracy=0.000000\n",
            "2021-11-20 21:18:19,440 [INFO]  Epoch[8] Train-cross-entropy=0.194378\n",
            "2021-11-20 21:18:19,444 [INFO]  Epoch[8] Train-TotalBsmtSF-accuracy=0.000000\n",
            "2021-11-20 21:18:19,446 [INFO]  Epoch[8] Time cost=0.165\n",
            "2021-11-20 21:18:19,460 [INFO]  Saved checkpoint to \"totalbsmtsf/model-0008.params\"\n",
            "2021-11-20 21:18:19,475 [INFO]  Epoch[8] Validation-cross-entropy=0.627491\n",
            "2021-11-20 21:18:19,476 [INFO]  Epoch[8] Validation-TotalBsmtSF-accuracy=0.000000\n",
            "2021-11-20 21:18:19,552 [INFO]  Epoch[9] Batch [0-66]\tSpeed: 14900.94 samples/sec\tcross-entropy=0.265352\tTotalBsmtSF-accuracy=0.000000\n",
            "2021-11-20 21:18:19,632 [INFO]  Epoch[9] Train-cross-entropy=0.218279\n",
            "2021-11-20 21:18:19,634 [INFO]  Epoch[9] Train-TotalBsmtSF-accuracy=0.000000\n",
            "2021-11-20 21:18:19,637 [INFO]  Epoch[9] Time cost=0.158\n",
            "2021-11-20 21:18:19,649 [INFO]  Saved checkpoint to \"totalbsmtsf/model-0009.params\"\n",
            "2021-11-20 21:18:19,660 [INFO]  Epoch[9] Validation-cross-entropy=0.395784\n",
            "2021-11-20 21:18:19,663 [INFO]  Epoch[9] Validation-TotalBsmtSF-accuracy=0.000000\n",
            "2021-11-20 21:18:19,747 [INFO]  Epoch[10] Batch [0-66]\tSpeed: 13387.65 samples/sec\tcross-entropy=0.229009\tTotalBsmtSF-accuracy=0.000000\n",
            "2021-11-20 21:18:19,826 [INFO]  Epoch[10] Train-cross-entropy=0.238401\n",
            "2021-11-20 21:18:19,828 [INFO]  Epoch[10] Train-TotalBsmtSF-accuracy=0.000000\n",
            "2021-11-20 21:18:19,831 [INFO]  Epoch[10] Time cost=0.165\n",
            "2021-11-20 21:18:19,846 [INFO]  Saved checkpoint to \"totalbsmtsf/model-0010.params\"\n",
            "2021-11-20 21:18:19,857 [INFO]  Epoch[10] Validation-cross-entropy=0.576813\n",
            "2021-11-20 21:18:19,858 [INFO]  Epoch[10] Validation-TotalBsmtSF-accuracy=0.000000\n",
            "2021-11-20 21:18:19,936 [INFO]  Epoch[11] Batch [0-66]\tSpeed: 14982.24 samples/sec\tcross-entropy=0.156715\tTotalBsmtSF-accuracy=0.000000\n",
            "2021-11-20 21:18:20,013 [INFO]  Epoch[11] Train-cross-entropy=0.174754\n",
            "2021-11-20 21:18:20,017 [INFO]  Epoch[11] Train-TotalBsmtSF-accuracy=0.000000\n",
            "2021-11-20 21:18:20,019 [INFO]  Epoch[11] Time cost=0.158\n",
            "2021-11-20 21:18:20,033 [INFO]  Saved checkpoint to \"totalbsmtsf/model-0011.params\"\n",
            "2021-11-20 21:18:20,043 [INFO]  Epoch[11] Validation-cross-entropy=0.507735\n",
            "2021-11-20 21:18:20,046 [INFO]  Epoch[11] Validation-TotalBsmtSF-accuracy=0.000000\n",
            "2021-11-20 21:18:20,125 [INFO]  Epoch[12] Batch [0-66]\tSpeed: 14553.70 samples/sec\tcross-entropy=0.151695\tTotalBsmtSF-accuracy=0.000000\n",
            "2021-11-20 21:18:20,196 [INFO]  Epoch[12] Train-cross-entropy=0.235486\n",
            "2021-11-20 21:18:20,202 [INFO]  Epoch[12] Train-TotalBsmtSF-accuracy=0.000000\n",
            "2021-11-20 21:18:20,207 [INFO]  Epoch[12] Time cost=0.155\n",
            "2021-11-20 21:18:20,345 [INFO]  Saved checkpoint to \"totalbsmtsf/model-0012.params\"\n",
            "2021-11-20 21:18:20,357 [INFO]  Epoch[12] Validation-cross-entropy=0.743853\n",
            "2021-11-20 21:18:20,360 [INFO]  Epoch[12] Validation-TotalBsmtSF-accuracy=0.000000\n",
            "2021-11-20 21:18:20,444 [INFO]  Epoch[13] Batch [0-66]\tSpeed: 13360.11 samples/sec\tcross-entropy=0.240266\tTotalBsmtSF-accuracy=0.000000\n",
            "2021-11-20 21:18:20,517 [INFO]  Epoch[13] Train-cross-entropy=0.289347\n",
            "2021-11-20 21:18:20,521 [INFO]  Epoch[13] Train-TotalBsmtSF-accuracy=0.000000\n",
            "2021-11-20 21:18:20,524 [INFO]  Epoch[13] Time cost=0.163\n",
            "2021-11-20 21:18:20,536 [INFO]  Saved checkpoint to \"totalbsmtsf/model-0013.params\"\n",
            "2021-11-20 21:18:20,546 [INFO]  Epoch[13] Validation-cross-entropy=0.525312\n",
            "2021-11-20 21:18:20,548 [INFO]  Epoch[13] Validation-TotalBsmtSF-accuracy=0.000000\n",
            "2021-11-20 21:18:20,627 [INFO]  Epoch[14] Batch [0-66]\tSpeed: 14159.80 samples/sec\tcross-entropy=0.195262\tTotalBsmtSF-accuracy=0.000000\n",
            "2021-11-20 21:18:20,699 [INFO]  Epoch[14] Train-cross-entropy=0.297222\n",
            "2021-11-20 21:18:20,701 [INFO]  Epoch[14] Train-TotalBsmtSF-accuracy=0.000000\n",
            "2021-11-20 21:18:20,704 [INFO]  Epoch[14] Time cost=0.154\n",
            "2021-11-20 21:18:20,717 [INFO]  Saved checkpoint to \"totalbsmtsf/model-0014.params\"\n",
            "2021-11-20 21:18:20,728 [INFO]  No improvement detected for 5 epochs compared to 0.3957840579251448 last error obtained: 0.560902339220047, stopping here\n",
            "2021-11-20 21:18:20,729 [INFO]  \n",
            "========== done (3.0973100662231445 s) fit model\n",
            "/usr/local/lib/python3.7/dist-packages/datawig/calibration.py:92: RuntimeWarning: invalid value encountered in log\n",
            "  return np.log(probas)\n",
            "/usr/local/lib/python3.7/dist-packages/pandas/core/indexing.py:1732: SettingWithCopyWarning: \n",
            "A value is trying to be set on a copy of a slice from a DataFrame\n",
            "\n",
            "See the caveats in the documentation: https://pandas.pydata.org/pandas-docs/stable/user_guide/indexing.html#returning-a-view-versus-a-copy\n",
            "  self._setitem_single_block(indexer, value, name)\n"
          ]
        },
        {
          "output_type": "stream",
          "name": "stdout",
          "text": [
            "####################################\n",
            "Current:  GarageArea\n",
            "####################################\n"
          ]
        },
        {
          "output_type": "stream",
          "name": "stderr",
          "text": [
            "/usr/local/lib/python3.7/dist-packages/datawig/calibration.py:92: RuntimeWarning: invalid value encountered in log\n",
            "  return np.log(probas)\n",
            "/usr/local/lib/python3.7/dist-packages/pandas/core/indexing.py:1732: SettingWithCopyWarning: \n",
            "A value is trying to be set on a copy of a slice from a DataFrame\n",
            "\n",
            "See the caveats in the documentation: https://pandas.pydata.org/pandas-docs/stable/user_guide/indexing.html#returning-a-view-versus-a-copy\n",
            "  self._setitem_single_block(indexer, value, name)\n",
            "/usr/local/lib/python3.7/dist-packages/datawig/calibration.py:92: RuntimeWarning: invalid value encountered in log\n",
            "  return np.log(probas)\n"
          ]
        },
        {
          "output_type": "stream",
          "name": "stdout",
          "text": [
            "####################################\n",
            "Current:  GarageCars\n",
            "####################################\n"
          ]
        },
        {
          "output_type": "stream",
          "name": "stderr",
          "text": [
            "/usr/local/lib/python3.7/dist-packages/datawig/calibration.py:92: RuntimeWarning: invalid value encountered in log\n",
            "  return np.log(probas)\n"
          ]
        },
        {
          "output_type": "stream",
          "name": "stdout",
          "text": [
            "####################################\n",
            "Current:  KitchenQual\n",
            "####################################\n",
            "####################################\n",
            "Current:  Electrical\n",
            "####################################\n"
          ]
        },
        {
          "output_type": "stream",
          "name": "stderr",
          "text": [
            "/usr/local/lib/python3.7/dist-packages/sklearn/metrics/_classification.py:1308: UndefinedMetricWarning: Precision is ill-defined and being set to 0.0 in labels with no predicted samples. Use `zero_division` parameter to control this behavior.\n",
            "  _warn_prf(average, modifier, msg_start, len(result))\n",
            "/usr/local/lib/python3.7/dist-packages/sklearn/metrics/_classification.py:1308: UndefinedMetricWarning: Precision is ill-defined and being set to 0.0 in labels with no predicted samples. Use `zero_division` parameter to control this behavior.\n",
            "  _warn_prf(average, modifier, msg_start, len(result))\n",
            "/usr/local/lib/python3.7/dist-packages/sklearn/metrics/_classification.py:1308: UndefinedMetricWarning: Precision is ill-defined and being set to 0.0 in labels with no predicted samples. Use `zero_division` parameter to control this behavior.\n",
            "  _warn_prf(average, modifier, msg_start, len(result))\n",
            "/usr/local/lib/python3.7/dist-packages/sklearn/metrics/_classification.py:1308: UndefinedMetricWarning: Precision is ill-defined and being set to 0.0 in labels with no predicted samples. Use `zero_division` parameter to control this behavior.\n",
            "  _warn_prf(average, modifier, msg_start, len(result))\n",
            "/usr/local/lib/python3.7/dist-packages/sklearn/metrics/_classification.py:1308: UndefinedMetricWarning: Precision is ill-defined and being set to 0.0 in labels with no predicted samples. Use `zero_division` parameter to control this behavior.\n",
            "  _warn_prf(average, modifier, msg_start, len(result))\n",
            "/usr/local/lib/python3.7/dist-packages/sklearn/metrics/_classification.py:1308: UndefinedMetricWarning: Precision is ill-defined and being set to 0.0 in labels with no predicted samples. Use `zero_division` parameter to control this behavior.\n",
            "  _warn_prf(average, modifier, msg_start, len(result))\n"
          ]
        },
        {
          "output_type": "stream",
          "name": "stdout",
          "text": [
            "####################################\n",
            "Current:  BsmtUnfSF\n",
            "####################################\n"
          ]
        },
        {
          "output_type": "stream",
          "name": "stderr",
          "text": [
            "/usr/local/lib/python3.7/dist-packages/datawig/calibration.py:92: RuntimeWarning: invalid value encountered in log\n",
            "  return np.log(probas)\n",
            "/usr/local/lib/python3.7/dist-packages/pandas/core/indexing.py:1732: SettingWithCopyWarning: \n",
            "A value is trying to be set on a copy of a slice from a DataFrame\n",
            "\n",
            "See the caveats in the documentation: https://pandas.pydata.org/pandas-docs/stable/user_guide/indexing.html#returning-a-view-versus-a-copy\n",
            "  self._setitem_single_block(indexer, value, name)\n",
            "/usr/local/lib/python3.7/dist-packages/datawig/calibration.py:92: RuntimeWarning: invalid value encountered in log\n",
            "  return np.log(probas)\n"
          ]
        },
        {
          "output_type": "stream",
          "name": "stdout",
          "text": [
            "####################################\n",
            "Current:  BsmtFinSF2\n",
            "####################################\n"
          ]
        },
        {
          "output_type": "stream",
          "name": "stderr",
          "text": [
            "/usr/local/lib/python3.7/dist-packages/datawig/calibration.py:92: RuntimeWarning: invalid value encountered in log\n",
            "  return np.log(probas)\n",
            "/usr/local/lib/python3.7/dist-packages/pandas/core/indexing.py:1732: SettingWithCopyWarning: \n",
            "A value is trying to be set on a copy of a slice from a DataFrame\n",
            "\n",
            "See the caveats in the documentation: https://pandas.pydata.org/pandas-docs/stable/user_guide/indexing.html#returning-a-view-versus-a-copy\n",
            "  self._setitem_single_block(indexer, value, name)\n",
            "/usr/local/lib/python3.7/dist-packages/datawig/calibration.py:92: RuntimeWarning: invalid value encountered in log\n",
            "  return np.log(probas)\n"
          ]
        },
        {
          "output_type": "stream",
          "name": "stdout",
          "text": [
            "####################################\n",
            "Current:  BsmtFinSF1\n",
            "####################################\n"
          ]
        },
        {
          "output_type": "stream",
          "name": "stderr",
          "text": [
            "/usr/local/lib/python3.7/dist-packages/datawig/calibration.py:92: RuntimeWarning: invalid value encountered in log\n",
            "  return np.log(probas)\n",
            "/usr/local/lib/python3.7/dist-packages/pandas/core/indexing.py:1732: SettingWithCopyWarning: \n",
            "A value is trying to be set on a copy of a slice from a DataFrame\n",
            "\n",
            "See the caveats in the documentation: https://pandas.pydata.org/pandas-docs/stable/user_guide/indexing.html#returning-a-view-versus-a-copy\n",
            "  self._setitem_single_block(indexer, value, name)\n",
            "/usr/local/lib/python3.7/dist-packages/datawig/calibration.py:92: RuntimeWarning: invalid value encountered in log\n",
            "  return np.log(probas)\n"
          ]
        },
        {
          "output_type": "stream",
          "name": "stdout",
          "text": [
            "####################################\n",
            "Current:  SaleType\n",
            "####################################\n"
          ]
        },
        {
          "output_type": "stream",
          "name": "stderr",
          "text": [
            "/usr/local/lib/python3.7/dist-packages/sklearn/metrics/_classification.py:1308: UndefinedMetricWarning: Precision is ill-defined and being set to 0.0 in labels with no predicted samples. Use `zero_division` parameter to control this behavior.\n",
            "  _warn_prf(average, modifier, msg_start, len(result))\n",
            "/usr/local/lib/python3.7/dist-packages/sklearn/metrics/_classification.py:1308: UndefinedMetricWarning: Precision is ill-defined and being set to 0.0 in labels with no predicted samples. Use `zero_division` parameter to control this behavior.\n",
            "  _warn_prf(average, modifier, msg_start, len(result))\n",
            "/usr/local/lib/python3.7/dist-packages/sklearn/metrics/_classification.py:1308: UndefinedMetricWarning: Precision is ill-defined and being set to 0.0 in labels with no predicted samples. Use `zero_division` parameter to control this behavior.\n",
            "  _warn_prf(average, modifier, msg_start, len(result))\n",
            "/usr/local/lib/python3.7/dist-packages/sklearn/metrics/_classification.py:1308: UndefinedMetricWarning: Precision is ill-defined and being set to 0.0 in labels with no predicted samples. Use `zero_division` parameter to control this behavior.\n",
            "  _warn_prf(average, modifier, msg_start, len(result))\n",
            "/usr/local/lib/python3.7/dist-packages/sklearn/metrics/_classification.py:1308: UndefinedMetricWarning: Precision is ill-defined and being set to 0.0 in labels with no predicted samples. Use `zero_division` parameter to control this behavior.\n",
            "  _warn_prf(average, modifier, msg_start, len(result))\n",
            "/usr/local/lib/python3.7/dist-packages/sklearn/metrics/_classification.py:1308: UndefinedMetricWarning: Precision is ill-defined and being set to 0.0 in labels with no predicted samples. Use `zero_division` parameter to control this behavior.\n",
            "  _warn_prf(average, modifier, msg_start, len(result))\n"
          ]
        },
        {
          "output_type": "stream",
          "name": "stdout",
          "text": [
            "####################################\n",
            "Current:  Exterior1st\n",
            "####################################\n"
          ]
        },
        {
          "output_type": "stream",
          "name": "stderr",
          "text": [
            "/usr/local/lib/python3.7/dist-packages/sklearn/metrics/_classification.py:1308: UndefinedMetricWarning: Recall is ill-defined and being set to 0.0 in labels with no true samples. Use `zero_division` parameter to control this behavior.\n",
            "  _warn_prf(average, modifier, msg_start, len(result))\n",
            "/usr/local/lib/python3.7/dist-packages/sklearn/metrics/_classification.py:1308: UndefinedMetricWarning: Recall is ill-defined and being set to 0.0 in labels with no true samples. Use `zero_division` parameter to control this behavior.\n",
            "  _warn_prf(average, modifier, msg_start, len(result))\n",
            "/usr/local/lib/python3.7/dist-packages/sklearn/metrics/_classification.py:1308: UndefinedMetricWarning: Precision is ill-defined and being set to 0.0 in labels with no predicted samples. Use `zero_division` parameter to control this behavior.\n",
            "  _warn_prf(average, modifier, msg_start, len(result))\n",
            "/usr/local/lib/python3.7/dist-packages/sklearn/metrics/_classification.py:1308: UndefinedMetricWarning: Precision is ill-defined and being set to 0.0 in labels with no predicted samples. Use `zero_division` parameter to control this behavior.\n",
            "  _warn_prf(average, modifier, msg_start, len(result))\n",
            "/usr/local/lib/python3.7/dist-packages/sklearn/metrics/_classification.py:1308: UndefinedMetricWarning: Precision is ill-defined and being set to 0.0 in labels with no predicted samples. Use `zero_division` parameter to control this behavior.\n",
            "  _warn_prf(average, modifier, msg_start, len(result))\n"
          ]
        },
        {
          "output_type": "stream",
          "name": "stdout",
          "text": [
            "####################################\n",
            "Current:  Exterior2nd\n",
            "####################################\n"
          ]
        },
        {
          "output_type": "stream",
          "name": "stderr",
          "text": [
            "/usr/local/lib/python3.7/dist-packages/sklearn/metrics/_classification.py:1308: UndefinedMetricWarning: Precision is ill-defined and being set to 0.0 in labels with no predicted samples. Use `zero_division` parameter to control this behavior.\n",
            "  _warn_prf(average, modifier, msg_start, len(result))\n",
            "/usr/local/lib/python3.7/dist-packages/sklearn/metrics/_classification.py:1308: UndefinedMetricWarning: Precision is ill-defined and being set to 0.0 in labels with no predicted samples. Use `zero_division` parameter to control this behavior.\n",
            "  _warn_prf(average, modifier, msg_start, len(result))\n",
            "/usr/local/lib/python3.7/dist-packages/sklearn/metrics/_classification.py:1308: UndefinedMetricWarning: Precision is ill-defined and being set to 0.0 in labels with no predicted samples. Use `zero_division` parameter to control this behavior.\n",
            "  _warn_prf(average, modifier, msg_start, len(result))\n",
            "/usr/local/lib/python3.7/dist-packages/sklearn/metrics/_classification.py:1308: UndefinedMetricWarning: Precision is ill-defined and being set to 0.0 in labels with no predicted samples. Use `zero_division` parameter to control this behavior.\n",
            "  _warn_prf(average, modifier, msg_start, len(result))\n",
            "/usr/local/lib/python3.7/dist-packages/sklearn/metrics/_classification.py:1308: UndefinedMetricWarning: Precision is ill-defined and being set to 0.0 in labels with no predicted samples. Use `zero_division` parameter to control this behavior.\n",
            "  _warn_prf(average, modifier, msg_start, len(result))\n",
            "/usr/local/lib/python3.7/dist-packages/sklearn/metrics/_classification.py:1308: UndefinedMetricWarning: Precision is ill-defined and being set to 0.0 in labels with no predicted samples. Use `zero_division` parameter to control this behavior.\n",
            "  _warn_prf(average, modifier, msg_start, len(result))\n"
          ]
        },
        {
          "output_type": "stream",
          "name": "stdout",
          "text": [
            "####################################\n",
            "Current:  Functional\n",
            "####################################\n"
          ]
        },
        {
          "output_type": "stream",
          "name": "stderr",
          "text": [
            "/usr/local/lib/python3.7/dist-packages/sklearn/metrics/_classification.py:1308: UndefinedMetricWarning: Precision is ill-defined and being set to 0.0 in labels with no predicted samples. Use `zero_division` parameter to control this behavior.\n",
            "  _warn_prf(average, modifier, msg_start, len(result))\n",
            "/usr/local/lib/python3.7/dist-packages/sklearn/metrics/_classification.py:1308: UndefinedMetricWarning: Precision is ill-defined and being set to 0.0 in labels with no predicted samples. Use `zero_division` parameter to control this behavior.\n",
            "  _warn_prf(average, modifier, msg_start, len(result))\n",
            "/usr/local/lib/python3.7/dist-packages/sklearn/metrics/_classification.py:1308: UndefinedMetricWarning: Precision is ill-defined and being set to 0.0 in labels with no predicted samples. Use `zero_division` parameter to control this behavior.\n",
            "  _warn_prf(average, modifier, msg_start, len(result))\n",
            "/usr/local/lib/python3.7/dist-packages/sklearn/metrics/_classification.py:1308: UndefinedMetricWarning: Precision is ill-defined and being set to 0.0 in labels with no predicted samples. Use `zero_division` parameter to control this behavior.\n",
            "  _warn_prf(average, modifier, msg_start, len(result))\n",
            "/usr/local/lib/python3.7/dist-packages/sklearn/metrics/_classification.py:1308: UndefinedMetricWarning: Precision is ill-defined and being set to 0.0 in labels with no predicted samples. Use `zero_division` parameter to control this behavior.\n",
            "  _warn_prf(average, modifier, msg_start, len(result))\n",
            "/usr/local/lib/python3.7/dist-packages/sklearn/metrics/_classification.py:1308: UndefinedMetricWarning: Precision is ill-defined and being set to 0.0 in labels with no predicted samples. Use `zero_division` parameter to control this behavior.\n",
            "  _warn_prf(average, modifier, msg_start, len(result))\n",
            "/usr/local/lib/python3.7/dist-packages/pandas/core/indexing.py:1732: SettingWithCopyWarning: \n",
            "A value is trying to be set on a copy of a slice from a DataFrame\n",
            "\n",
            "See the caveats in the documentation: https://pandas.pydata.org/pandas-docs/stable/user_guide/indexing.html#returning-a-view-versus-a-copy\n",
            "  self._setitem_single_block(indexer, value, name)\n"
          ]
        },
        {
          "output_type": "stream",
          "name": "stdout",
          "text": [
            "####################################\n",
            "Current:  Utilities\n",
            "####################################\n"
          ]
        },
        {
          "output_type": "stream",
          "name": "stderr",
          "text": [
            "/usr/local/lib/python3.7/dist-packages/pandas/core/indexing.py:1732: SettingWithCopyWarning: \n",
            "A value is trying to be set on a copy of a slice from a DataFrame\n",
            "\n",
            "See the caveats in the documentation: https://pandas.pydata.org/pandas-docs/stable/user_guide/indexing.html#returning-a-view-versus-a-copy\n",
            "  self._setitem_single_block(indexer, value, name)\n"
          ]
        },
        {
          "output_type": "stream",
          "name": "stdout",
          "text": [
            "####################################\n",
            "Current:  BsmtHalfBath\n",
            "####################################\n"
          ]
        },
        {
          "output_type": "stream",
          "name": "stderr",
          "text": [
            "/usr/local/lib/python3.7/dist-packages/datawig/calibration.py:92: RuntimeWarning: invalid value encountered in log\n",
            "  return np.log(probas)\n",
            "/usr/local/lib/python3.7/dist-packages/pandas/core/indexing.py:1732: SettingWithCopyWarning: \n",
            "A value is trying to be set on a copy of a slice from a DataFrame\n",
            "\n",
            "See the caveats in the documentation: https://pandas.pydata.org/pandas-docs/stable/user_guide/indexing.html#returning-a-view-versus-a-copy\n",
            "  self._setitem_single_block(indexer, value, name)\n",
            "/usr/local/lib/python3.7/dist-packages/datawig/calibration.py:92: RuntimeWarning: invalid value encountered in log\n",
            "  return np.log(probas)\n",
            "/usr/local/lib/python3.7/dist-packages/pandas/core/indexing.py:1732: SettingWithCopyWarning: \n",
            "A value is trying to be set on a copy of a slice from a DataFrame\n",
            "\n",
            "See the caveats in the documentation: https://pandas.pydata.org/pandas-docs/stable/user_guide/indexing.html#returning-a-view-versus-a-copy\n",
            "  self._setitem_single_block(indexer, value, name)\n"
          ]
        },
        {
          "output_type": "stream",
          "name": "stdout",
          "text": [
            "####################################\n",
            "Current:  BsmtFullBath\n",
            "####################################\n"
          ]
        },
        {
          "output_type": "stream",
          "name": "stderr",
          "text": [
            "/usr/local/lib/python3.7/dist-packages/datawig/calibration.py:92: RuntimeWarning: invalid value encountered in log\n",
            "  return np.log(probas)\n",
            "/usr/local/lib/python3.7/dist-packages/pandas/core/indexing.py:1732: SettingWithCopyWarning: \n",
            "A value is trying to be set on a copy of a slice from a DataFrame\n",
            "\n",
            "See the caveats in the documentation: https://pandas.pydata.org/pandas-docs/stable/user_guide/indexing.html#returning-a-view-versus-a-copy\n",
            "  self._setitem_single_block(indexer, value, name)\n",
            "/usr/local/lib/python3.7/dist-packages/datawig/calibration.py:92: RuntimeWarning: invalid value encountered in log\n",
            "  return np.log(probas)\n",
            "/usr/local/lib/python3.7/dist-packages/pandas/core/indexing.py:1732: SettingWithCopyWarning: \n",
            "A value is trying to be set on a copy of a slice from a DataFrame\n",
            "\n",
            "See the caveats in the documentation: https://pandas.pydata.org/pandas-docs/stable/user_guide/indexing.html#returning-a-view-versus-a-copy\n",
            "  self._setitem_single_block(indexer, value, name)\n"
          ]
        },
        {
          "output_type": "stream",
          "name": "stdout",
          "text": [
            "####################################\n",
            "Current:  MSZoning\n",
            "####################################\n"
          ]
        },
        {
          "output_type": "stream",
          "name": "stderr",
          "text": [
            "/usr/local/lib/python3.7/dist-packages/sklearn/metrics/_classification.py:1308: UndefinedMetricWarning: Precision is ill-defined and being set to 0.0 in labels with no predicted samples. Use `zero_division` parameter to control this behavior.\n",
            "  _warn_prf(average, modifier, msg_start, len(result))\n",
            "/usr/local/lib/python3.7/dist-packages/sklearn/metrics/_classification.py:1308: UndefinedMetricWarning: Precision is ill-defined and being set to 0.0 in labels with no predicted samples. Use `zero_division` parameter to control this behavior.\n",
            "  _warn_prf(average, modifier, msg_start, len(result))\n",
            "/usr/local/lib/python3.7/dist-packages/sklearn/metrics/_classification.py:1308: UndefinedMetricWarning: Precision is ill-defined and being set to 0.0 in labels with no predicted samples. Use `zero_division` parameter to control this behavior.\n",
            "  _warn_prf(average, modifier, msg_start, len(result))\n",
            "/usr/local/lib/python3.7/dist-packages/sklearn/metrics/_classification.py:1308: UndefinedMetricWarning: Precision is ill-defined and being set to 0.0 in labels with no predicted samples. Use `zero_division` parameter to control this behavior.\n",
            "  _warn_prf(average, modifier, msg_start, len(result))\n",
            "/usr/local/lib/python3.7/dist-packages/sklearn/metrics/_classification.py:1308: UndefinedMetricWarning: Precision is ill-defined and being set to 0.0 in labels with no predicted samples. Use `zero_division` parameter to control this behavior.\n",
            "  _warn_prf(average, modifier, msg_start, len(result))\n",
            "/usr/local/lib/python3.7/dist-packages/sklearn/metrics/_classification.py:1308: UndefinedMetricWarning: Precision is ill-defined and being set to 0.0 in labels with no predicted samples. Use `zero_division` parameter to control this behavior.\n",
            "  _warn_prf(average, modifier, msg_start, len(result))\n",
            "/usr/local/lib/python3.7/dist-packages/pandas/core/indexing.py:1732: SettingWithCopyWarning: \n",
            "A value is trying to be set on a copy of a slice from a DataFrame\n",
            "\n",
            "See the caveats in the documentation: https://pandas.pydata.org/pandas-docs/stable/user_guide/indexing.html#returning-a-view-versus-a-copy\n",
            "  self._setitem_single_block(indexer, value, name)\n"
          ]
        },
        {
          "output_type": "stream",
          "name": "stdout",
          "text": [
            "####################################\n",
            "Current:  MasVnrArea\n",
            "####################################\n"
          ]
        },
        {
          "output_type": "stream",
          "name": "stderr",
          "text": [
            "/usr/local/lib/python3.7/dist-packages/datawig/calibration.py:92: RuntimeWarning: invalid value encountered in log\n",
            "  return np.log(probas)\n",
            "/usr/local/lib/python3.7/dist-packages/pandas/core/indexing.py:1732: SettingWithCopyWarning: \n",
            "A value is trying to be set on a copy of a slice from a DataFrame\n",
            "\n",
            "See the caveats in the documentation: https://pandas.pydata.org/pandas-docs/stable/user_guide/indexing.html#returning-a-view-versus-a-copy\n",
            "  self._setitem_single_block(indexer, value, name)\n",
            "/usr/local/lib/python3.7/dist-packages/datawig/calibration.py:92: RuntimeWarning: invalid value encountered in log\n",
            "  return np.log(probas)\n",
            "/usr/local/lib/python3.7/dist-packages/pandas/core/indexing.py:1732: SettingWithCopyWarning: \n",
            "A value is trying to be set on a copy of a slice from a DataFrame\n",
            "\n",
            "See the caveats in the documentation: https://pandas.pydata.org/pandas-docs/stable/user_guide/indexing.html#returning-a-view-versus-a-copy\n",
            "  self._setitem_single_block(indexer, value, name)\n"
          ]
        },
        {
          "output_type": "stream",
          "name": "stdout",
          "text": [
            "####################################\n",
            "Current:  MasVnrType\n",
            "####################################\n"
          ]
        },
        {
          "output_type": "stream",
          "name": "stderr",
          "text": [
            "/usr/local/lib/python3.7/dist-packages/sklearn/metrics/_classification.py:1308: UndefinedMetricWarning: Precision is ill-defined and being set to 0.0 in labels with no predicted samples. Use `zero_division` parameter to control this behavior.\n",
            "  _warn_prf(average, modifier, msg_start, len(result))\n",
            "/usr/local/lib/python3.7/dist-packages/sklearn/metrics/_classification.py:1308: UndefinedMetricWarning: Precision is ill-defined and being set to 0.0 in labels with no predicted samples. Use `zero_division` parameter to control this behavior.\n",
            "  _warn_prf(average, modifier, msg_start, len(result))\n",
            "/usr/local/lib/python3.7/dist-packages/sklearn/metrics/_classification.py:1308: UndefinedMetricWarning: Precision is ill-defined and being set to 0.0 in labels with no predicted samples. Use `zero_division` parameter to control this behavior.\n",
            "  _warn_prf(average, modifier, msg_start, len(result))\n",
            "/usr/local/lib/python3.7/dist-packages/datawig/calibration.py:92: RuntimeWarning: divide by zero encountered in log\n",
            "  return np.log(probas)\n",
            "/usr/local/lib/python3.7/dist-packages/sklearn/metrics/_classification.py:1308: UndefinedMetricWarning: Precision is ill-defined and being set to 0.0 in labels with no predicted samples. Use `zero_division` parameter to control this behavior.\n",
            "  _warn_prf(average, modifier, msg_start, len(result))\n",
            "/usr/local/lib/python3.7/dist-packages/sklearn/metrics/_classification.py:1308: UndefinedMetricWarning: Precision is ill-defined and being set to 0.0 in labels with no predicted samples. Use `zero_division` parameter to control this behavior.\n",
            "  _warn_prf(average, modifier, msg_start, len(result))\n",
            "/usr/local/lib/python3.7/dist-packages/sklearn/metrics/_classification.py:1308: UndefinedMetricWarning: Precision is ill-defined and being set to 0.0 in labels with no predicted samples. Use `zero_division` parameter to control this behavior.\n",
            "  _warn_prf(average, modifier, msg_start, len(result))\n",
            "/usr/local/lib/python3.7/dist-packages/pandas/core/indexing.py:1732: SettingWithCopyWarning: \n",
            "A value is trying to be set on a copy of a slice from a DataFrame\n",
            "\n",
            "See the caveats in the documentation: https://pandas.pydata.org/pandas-docs/stable/user_guide/indexing.html#returning-a-view-versus-a-copy\n",
            "  self._setitem_single_block(indexer, value, name)\n"
          ]
        },
        {
          "output_type": "stream",
          "name": "stdout",
          "text": [
            "####################################\n",
            "Current:  BsmtFinType1\n",
            "####################################\n"
          ]
        },
        {
          "output_type": "stream",
          "name": "stderr",
          "text": [
            "/usr/local/lib/python3.7/dist-packages/pandas/core/indexing.py:1732: SettingWithCopyWarning: \n",
            "A value is trying to be set on a copy of a slice from a DataFrame\n",
            "\n",
            "See the caveats in the documentation: https://pandas.pydata.org/pandas-docs/stable/user_guide/indexing.html#returning-a-view-versus-a-copy\n",
            "  self._setitem_single_block(indexer, value, name)\n"
          ]
        },
        {
          "output_type": "stream",
          "name": "stdout",
          "text": [
            "####################################\n",
            "Current:  BsmtFinType2\n",
            "####################################\n"
          ]
        },
        {
          "output_type": "stream",
          "name": "stderr",
          "text": [
            "/usr/local/lib/python3.7/dist-packages/sklearn/metrics/_classification.py:1308: UndefinedMetricWarning: Precision is ill-defined and being set to 0.0 in labels with no predicted samples. Use `zero_division` parameter to control this behavior.\n",
            "  _warn_prf(average, modifier, msg_start, len(result))\n",
            "/usr/local/lib/python3.7/dist-packages/sklearn/metrics/_classification.py:1308: UndefinedMetricWarning: Precision is ill-defined and being set to 0.0 in labels with no predicted samples. Use `zero_division` parameter to control this behavior.\n",
            "  _warn_prf(average, modifier, msg_start, len(result))\n",
            "/usr/local/lib/python3.7/dist-packages/sklearn/metrics/_classification.py:1308: UndefinedMetricWarning: Precision is ill-defined and being set to 0.0 in labels with no predicted samples. Use `zero_division` parameter to control this behavior.\n",
            "  _warn_prf(average, modifier, msg_start, len(result))\n",
            "/usr/local/lib/python3.7/dist-packages/pandas/core/indexing.py:1732: SettingWithCopyWarning: \n",
            "A value is trying to be set on a copy of a slice from a DataFrame\n",
            "\n",
            "See the caveats in the documentation: https://pandas.pydata.org/pandas-docs/stable/user_guide/indexing.html#returning-a-view-versus-a-copy\n",
            "  self._setitem_single_block(indexer, value, name)\n"
          ]
        },
        {
          "output_type": "stream",
          "name": "stdout",
          "text": [
            "####################################\n",
            "Current:  BsmtQual\n",
            "####################################\n"
          ]
        },
        {
          "output_type": "stream",
          "name": "stderr",
          "text": [
            "/usr/local/lib/python3.7/dist-packages/pandas/core/indexing.py:1732: SettingWithCopyWarning: \n",
            "A value is trying to be set on a copy of a slice from a DataFrame\n",
            "\n",
            "See the caveats in the documentation: https://pandas.pydata.org/pandas-docs/stable/user_guide/indexing.html#returning-a-view-versus-a-copy\n",
            "  self._setitem_single_block(indexer, value, name)\n"
          ]
        },
        {
          "output_type": "stream",
          "name": "stdout",
          "text": [
            "####################################\n",
            "Current:  BsmtCond\n",
            "####################################\n"
          ]
        },
        {
          "output_type": "stream",
          "name": "stderr",
          "text": [
            "/usr/local/lib/python3.7/dist-packages/sklearn/metrics/_classification.py:1308: UndefinedMetricWarning: Precision is ill-defined and being set to 0.0 in labels with no predicted samples. Use `zero_division` parameter to control this behavior.\n",
            "  _warn_prf(average, modifier, msg_start, len(result))\n",
            "/usr/local/lib/python3.7/dist-packages/sklearn/metrics/_classification.py:1308: UndefinedMetricWarning: Precision is ill-defined and being set to 0.0 in labels with no predicted samples. Use `zero_division` parameter to control this behavior.\n",
            "  _warn_prf(average, modifier, msg_start, len(result))\n",
            "/usr/local/lib/python3.7/dist-packages/sklearn/metrics/_classification.py:1308: UndefinedMetricWarning: Precision is ill-defined and being set to 0.0 in labels with no predicted samples. Use `zero_division` parameter to control this behavior.\n",
            "  _warn_prf(average, modifier, msg_start, len(result))\n",
            "/usr/local/lib/python3.7/dist-packages/pandas/core/indexing.py:1732: SettingWithCopyWarning: \n",
            "A value is trying to be set on a copy of a slice from a DataFrame\n",
            "\n",
            "See the caveats in the documentation: https://pandas.pydata.org/pandas-docs/stable/user_guide/indexing.html#returning-a-view-versus-a-copy\n",
            "  self._setitem_single_block(indexer, value, name)\n"
          ]
        },
        {
          "output_type": "stream",
          "name": "stdout",
          "text": [
            "####################################\n",
            "Current:  BsmtExposure\n",
            "####################################\n"
          ]
        },
        {
          "output_type": "stream",
          "name": "stderr",
          "text": [
            "/usr/local/lib/python3.7/dist-packages/datawig/calibration.py:92: RuntimeWarning: divide by zero encountered in log\n",
            "  return np.log(probas)\n",
            "/usr/local/lib/python3.7/dist-packages/pandas/core/indexing.py:1732: SettingWithCopyWarning: \n",
            "A value is trying to be set on a copy of a slice from a DataFrame\n",
            "\n",
            "See the caveats in the documentation: https://pandas.pydata.org/pandas-docs/stable/user_guide/indexing.html#returning-a-view-versus-a-copy\n",
            "  self._setitem_single_block(indexer, value, name)\n"
          ]
        },
        {
          "output_type": "stream",
          "name": "stdout",
          "text": [
            "####################################\n",
            "Current:  GarageType\n",
            "####################################\n"
          ]
        },
        {
          "output_type": "stream",
          "name": "stderr",
          "text": [
            "/usr/local/lib/python3.7/dist-packages/pandas/core/indexing.py:1732: SettingWithCopyWarning: \n",
            "A value is trying to be set on a copy of a slice from a DataFrame\n",
            "\n",
            "See the caveats in the documentation: https://pandas.pydata.org/pandas-docs/stable/user_guide/indexing.html#returning-a-view-versus-a-copy\n",
            "  self._setitem_single_block(indexer, value, name)\n"
          ]
        },
        {
          "output_type": "stream",
          "name": "stdout",
          "text": [
            "####################################\n",
            "Current:  GarageCond\n",
            "####################################\n"
          ]
        },
        {
          "output_type": "stream",
          "name": "stderr",
          "text": [
            "/usr/local/lib/python3.7/dist-packages/sklearn/metrics/_classification.py:1308: UndefinedMetricWarning: Precision is ill-defined and being set to 0.0 in labels with no predicted samples. Use `zero_division` parameter to control this behavior.\n",
            "  _warn_prf(average, modifier, msg_start, len(result))\n",
            "/usr/local/lib/python3.7/dist-packages/sklearn/metrics/_classification.py:1308: UndefinedMetricWarning: Precision is ill-defined and being set to 0.0 in labels with no predicted samples. Use `zero_division` parameter to control this behavior.\n",
            "  _warn_prf(average, modifier, msg_start, len(result))\n",
            "/usr/local/lib/python3.7/dist-packages/sklearn/metrics/_classification.py:1308: UndefinedMetricWarning: Precision is ill-defined and being set to 0.0 in labels with no predicted samples. Use `zero_division` parameter to control this behavior.\n",
            "  _warn_prf(average, modifier, msg_start, len(result))\n",
            "/usr/local/lib/python3.7/dist-packages/sklearn/metrics/_classification.py:1308: UndefinedMetricWarning: Precision is ill-defined and being set to 0.0 in labels with no predicted samples. Use `zero_division` parameter to control this behavior.\n",
            "  _warn_prf(average, modifier, msg_start, len(result))\n",
            "/usr/local/lib/python3.7/dist-packages/sklearn/metrics/_classification.py:1308: UndefinedMetricWarning: Precision is ill-defined and being set to 0.0 in labels with no predicted samples. Use `zero_division` parameter to control this behavior.\n",
            "  _warn_prf(average, modifier, msg_start, len(result))\n",
            "/usr/local/lib/python3.7/dist-packages/sklearn/metrics/_classification.py:1308: UndefinedMetricWarning: Precision is ill-defined and being set to 0.0 in labels with no predicted samples. Use `zero_division` parameter to control this behavior.\n",
            "  _warn_prf(average, modifier, msg_start, len(result))\n",
            "/usr/local/lib/python3.7/dist-packages/pandas/core/indexing.py:1732: SettingWithCopyWarning: \n",
            "A value is trying to be set on a copy of a slice from a DataFrame\n",
            "\n",
            "See the caveats in the documentation: https://pandas.pydata.org/pandas-docs/stable/user_guide/indexing.html#returning-a-view-versus-a-copy\n",
            "  self._setitem_single_block(indexer, value, name)\n"
          ]
        },
        {
          "output_type": "stream",
          "name": "stdout",
          "text": [
            "####################################\n",
            "Current:  GarageQual\n",
            "####################################\n"
          ]
        },
        {
          "output_type": "stream",
          "name": "stderr",
          "text": [
            "/usr/local/lib/python3.7/dist-packages/sklearn/metrics/_classification.py:1308: UndefinedMetricWarning: Precision is ill-defined and being set to 0.0 in labels with no predicted samples. Use `zero_division` parameter to control this behavior.\n",
            "  _warn_prf(average, modifier, msg_start, len(result))\n",
            "/usr/local/lib/python3.7/dist-packages/sklearn/metrics/_classification.py:1308: UndefinedMetricWarning: Recall is ill-defined and being set to 0.0 in labels with no true samples. Use `zero_division` parameter to control this behavior.\n",
            "  _warn_prf(average, modifier, msg_start, len(result))\n",
            "/usr/local/lib/python3.7/dist-packages/sklearn/metrics/_classification.py:1308: UndefinedMetricWarning: Precision is ill-defined and being set to 0.0 in labels with no predicted samples. Use `zero_division` parameter to control this behavior.\n",
            "  _warn_prf(average, modifier, msg_start, len(result))\n",
            "/usr/local/lib/python3.7/dist-packages/sklearn/metrics/_classification.py:1308: UndefinedMetricWarning: Recall is ill-defined and being set to 0.0 in labels with no true samples. Use `zero_division` parameter to control this behavior.\n",
            "  _warn_prf(average, modifier, msg_start, len(result))\n",
            "/usr/local/lib/python3.7/dist-packages/sklearn/metrics/_classification.py:1308: UndefinedMetricWarning: Precision is ill-defined and being set to 0.0 in labels with no predicted samples. Use `zero_division` parameter to control this behavior.\n",
            "  _warn_prf(average, modifier, msg_start, len(result))\n",
            "/usr/local/lib/python3.7/dist-packages/sklearn/metrics/_classification.py:1308: UndefinedMetricWarning: Precision is ill-defined and being set to 0.0 in labels with no predicted samples. Use `zero_division` parameter to control this behavior.\n",
            "  _warn_prf(average, modifier, msg_start, len(result))\n",
            "/usr/local/lib/python3.7/dist-packages/sklearn/metrics/_classification.py:1308: UndefinedMetricWarning: Precision is ill-defined and being set to 0.0 in labels with no predicted samples. Use `zero_division` parameter to control this behavior.\n",
            "  _warn_prf(average, modifier, msg_start, len(result))\n",
            "/usr/local/lib/python3.7/dist-packages/sklearn/metrics/_classification.py:1308: UndefinedMetricWarning: Precision is ill-defined and being set to 0.0 in labels with no predicted samples. Use `zero_division` parameter to control this behavior.\n",
            "  _warn_prf(average, modifier, msg_start, len(result))\n",
            "/usr/local/lib/python3.7/dist-packages/pandas/core/indexing.py:1732: SettingWithCopyWarning: \n",
            "A value is trying to be set on a copy of a slice from a DataFrame\n",
            "\n",
            "See the caveats in the documentation: https://pandas.pydata.org/pandas-docs/stable/user_guide/indexing.html#returning-a-view-versus-a-copy\n",
            "  self._setitem_single_block(indexer, value, name)\n"
          ]
        },
        {
          "output_type": "stream",
          "name": "stdout",
          "text": [
            "####################################\n",
            "Current:  GarageYrBlt\n",
            "####################################\n"
          ]
        },
        {
          "output_type": "stream",
          "name": "stderr",
          "text": [
            "/usr/local/lib/python3.7/dist-packages/pandas/core/indexing.py:1732: SettingWithCopyWarning: \n",
            "A value is trying to be set on a copy of a slice from a DataFrame\n",
            "\n",
            "See the caveats in the documentation: https://pandas.pydata.org/pandas-docs/stable/user_guide/indexing.html#returning-a-view-versus-a-copy\n",
            "  self._setitem_single_block(indexer, value, name)\n"
          ]
        },
        {
          "output_type": "stream",
          "name": "stdout",
          "text": [
            "####################################\n",
            "Current:  GarageFinish\n",
            "####################################\n"
          ]
        },
        {
          "output_type": "stream",
          "name": "stderr",
          "text": [
            "/usr/local/lib/python3.7/dist-packages/datawig/calibration.py:92: RuntimeWarning: divide by zero encountered in log\n",
            "  return np.log(probas)\n",
            "/usr/local/lib/python3.7/dist-packages/pandas/core/indexing.py:1732: SettingWithCopyWarning: \n",
            "A value is trying to be set on a copy of a slice from a DataFrame\n",
            "\n",
            "See the caveats in the documentation: https://pandas.pydata.org/pandas-docs/stable/user_guide/indexing.html#returning-a-view-versus-a-copy\n",
            "  self._setitem_single_block(indexer, value, name)\n"
          ]
        },
        {
          "output_type": "stream",
          "name": "stdout",
          "text": [
            "####################################\n",
            "Current:  LotFrontage\n",
            "####################################\n"
          ]
        },
        {
          "output_type": "stream",
          "name": "stderr",
          "text": [
            "/usr/local/lib/python3.7/dist-packages/pandas/core/indexing.py:1732: SettingWithCopyWarning: \n",
            "A value is trying to be set on a copy of a slice from a DataFrame\n",
            "\n",
            "See the caveats in the documentation: https://pandas.pydata.org/pandas-docs/stable/user_guide/indexing.html#returning-a-view-versus-a-copy\n",
            "  self._setitem_single_block(indexer, value, name)\n"
          ]
        }
      ]
    },
    {
      "cell_type": "code",
      "metadata": {
        "id": "Twwa8V-JQDt2"
      },
      "source": [
        "# Update the train dataframe with its new version (the previous empty values are all filled)\n",
        "train_test_X = pd.merge(empty_train_test, filled_train_test, on=\"Id\")"
      ],
      "execution_count": 10,
      "outputs": []
    },
    {
      "cell_type": "markdown",
      "metadata": {
        "id": "9NOCQXu-pA4M"
      },
      "source": [
        "Association Rule Mining (Apriori)"
      ]
    },
    {
      "cell_type": "code",
      "metadata": {
        "id": "VNFhdiIIpw6F"
      },
      "source": [
        "train_test_copy = train_test_X.iloc[:len(train),:].copy()\n",
        "train_test_copy['SalePrice'] = train['SalePrice'].copy()\n",
        "\n",
        "cols_at_end = train_test_copy.iloc[:, -1].name\n",
        "\n",
        "train_test_copy = train_test_copy[[c for c in train_test_copy if c == 'Id']\n",
        "              + [c for c in train_test_copy if c in cols_at_end]\n",
        "              + [c for c in train_test_copy if c not in cols_at_end and train_test_copy[c].dtype == 'float'] \n",
        "              + [c for c in train_test_copy if c not in cols_at_end and c != 'Id' and train_test_copy[c].dtype == 'int']\n",
        "              + [c for c in train_test_copy if c not in cols_at_end and train_test_copy[c].dtype == 'O']]\n",
        "\n",
        "list_O = [idx for idx,c in enumerate(train_test_copy) if c not in cols_at_end and c != 'Id' and train_test_copy[c].dtype == 'O']"
      ],
      "execution_count": 11,
      "outputs": []
    },
    {
      "cell_type": "code",
      "metadata": {
        "id": "LA3V3XAbsv0d"
      },
      "source": [
        "SalePrice_int = train_test_copy['SalePrice'].astype(int)"
      ],
      "execution_count": 12,
      "outputs": []
    },
    {
      "cell_type": "code",
      "metadata": {
        "id": "GyhBncF0raRp"
      },
      "source": [
        "labels = [\"{0} - {1}\".format(i, i + (70000-1)) for i in range(SalePrice_int.min(), SalePrice_int.max(), 70000)]\n",
        "train_test_copy[\"group_SalePrice\"] = pd.cut(SalePrice_int, len(labels), labels=labels)\n",
        "train_test_copy[\"group_SalePrice\"] = train_test_copy[\"group_SalePrice\"].astype(str)"
      ],
      "execution_count": 13,
      "outputs": []
    },
    {
      "cell_type": "code",
      "metadata": {
        "id": "xBJzngOPpAZM"
      },
      "source": [
        "transactions = train_test_copy.iloc[:,list_O[0]:].values.tolist()"
      ],
      "execution_count": 14,
      "outputs": []
    },
    {
      "cell_type": "code",
      "metadata": {
        "id": "lckDsn5uybap"
      },
      "source": [
        "rules = apriori(transactions = transactions, min_support = 0.003, min_confidence = 0.2, min_lift = 3, min_length = 2, max_length = 2)\n",
        "results = list(rules)"
      ],
      "execution_count": 15,
      "outputs": []
    },
    {
      "cell_type": "code",
      "metadata": {
        "colab": {
          "base_uri": "https://localhost:8080/"
        },
        "id": "TmZvTW2sy2lX",
        "outputId": "a6d204bd-1539-44e4-fbac-974c90d3edd9"
      },
      "source": [
        "results"
      ],
      "execution_count": 16,
      "outputs": [
        {
          "output_type": "execute_result",
          "data": {
            "text/plain": [
              "[RelationRecord(items=frozenset({'1.5Fin', 'Artery'}), support=0.015068493150684932, ordered_statistics=[OrderedStatistic(items_base=frozenset({'Artery'}), items_add=frozenset({'1.5Fin'}), confidence=0.45833333333333337, lift=4.345238095238096)]),\n",
              " RelationRecord(items=frozenset({'1.5Fin', 'AsbShng'}), support=0.005479452054794521, ordered_statistics=[OrderedStatistic(items_base=frozenset({'AsbShng'}), items_add=frozenset({'1.5Fin'}), confidence=0.34782608695652173, lift=3.297571993224167)]),\n",
              " RelationRecord(items=frozenset({'1.5Fin', 'BrkSide'}), support=0.017123287671232876, ordered_statistics=[OrderedStatistic(items_base=frozenset({'BrkSide'}), items_add=frozenset({'1.5Fin'}), confidence=0.4310344827586206, lift=4.086430810568741)]),\n",
              " RelationRecord(items=frozenset({'1.5Fin', 'BrkTil'}), support=0.03767123287671233, ordered_statistics=[OrderedStatistic(items_base=frozenset({'1.5Fin'}), items_add=frozenset({'BrkTil'}), confidence=0.35714285714285715, lift=3.571428571428571), OrderedStatistic(items_base=frozenset({'BrkTil'}), items_add=frozenset({'1.5Fin'}), confidence=0.37671232876712324, lift=3.571428571428571)]),\n",
              " RelationRecord(items=frozenset({'1.5Fin', 'GasW'}), support=0.004794520547945206, ordered_statistics=[OrderedStatistic(items_base=frozenset({'GasW'}), items_add=frozenset({'1.5Fin'}), confidence=0.3888888888888889, lift=3.686868686868687)]),\n",
              " RelationRecord(items=frozenset({'1.5Fin', 'IDOTRR'}), support=0.010958904109589041, ordered_statistics=[OrderedStatistic(items_base=frozenset({'IDOTRR'}), items_add=frozenset({'1.5Fin'}), confidence=0.43243243243243246, lift=4.0996840996841)]),\n",
              " RelationRecord(items=frozenset({'1.5Fin', 'Min2'}), support=0.007534246575342466, ordered_statistics=[OrderedStatistic(items_base=frozenset({'Min2'}), items_add=frozenset({'1.5Fin'}), confidence=0.3235294117647059, lift=3.0672268907563027)]),\n",
              " RelationRecord(items=frozenset({'1.5Fin', 'SWISU'}), support=0.00821917808219178, ordered_statistics=[OrderedStatistic(items_base=frozenset({'SWISU'}), items_add=frozenset({'1.5Fin'}), confidence=0.48, lift=4.55064935064935)]),\n",
              " RelationRecord(items=frozenset({'1.5Unf', 'BrkSide'}), support=0.00410958904109589, ordered_statistics=[OrderedStatistic(items_base=frozenset({'1.5Unf'}), items_add=frozenset({'BrkSide'}), confidence=0.4285714285714285, lift=10.788177339901475)]),\n",
              " RelationRecord(items=frozenset({'1.5Unf', 'BrkTil'}), support=0.005479452054794521, ordered_statistics=[OrderedStatistic(items_base=frozenset({'1.5Unf'}), items_add=frozenset({'BrkTil'}), confidence=0.5714285714285714, lift=5.7142857142857135)]),\n",
              " RelationRecord(items=frozenset({'1.5Unf', 'MetalSd'}), support=0.004794520547945206, ordered_statistics=[OrderedStatistic(items_base=frozenset({'1.5Unf'}), items_add=frozenset({'MetalSd'}), confidence=0.5, lift=3.288288288288288)]),\n",
              " RelationRecord(items=frozenset({'1.5Unf', 'N'}), support=0.00410958904109589, ordered_statistics=[OrderedStatistic(items_base=frozenset({'1.5Unf'}), items_add=frozenset({'N'}), confidence=0.4285714285714285, lift=4.143803216650897)]),\n",
              " RelationRecord(items=frozenset({'RM', '1.5Unf'}), support=0.004794520547945206, ordered_statistics=[OrderedStatistic(items_base=frozenset({'1.5Unf'}), items_add=frozenset({'RM'}), confidence=0.5, lift=3.3486238532110093)]),\n",
              " RelationRecord(items=frozenset({'1.5Unf', 'Wd Sdng'}), support=0.004794520547945206, ordered_statistics=[OrderedStatistic(items_base=frozenset({'1.5Unf'}), items_add=frozenset({'Wd Sdng'}), confidence=0.5, lift=3.230088495575221)]),\n",
              " RelationRecord(items=frozenset({'Wd Sdng', '2.5Fin'}), support=0.003424657534246575, ordered_statistics=[OrderedStatistic(items_base=frozenset({'2.5Fin'}), items_add=frozenset({'Wd Sdng'}), confidence=0.625, lift=4.037610619469026)]),\n",
              " RelationRecord(items=frozenset({'2.5Unf', 'BrkTil'}), support=0.004794520547945206, ordered_statistics=[OrderedStatistic(items_base=frozenset({'2.5Unf'}), items_add=frozenset({'BrkTil'}), confidence=0.6363636363636364, lift=6.363636363636363)]),\n",
              " RelationRecord(items=frozenset({'2.5Unf', 'Detchd'}), support=0.007534246575342466, ordered_statistics=[OrderedStatistic(items_base=frozenset({'2.5Unf'}), items_add=frozenset({'Detchd'}), confidence=1.0, lift=3.3181818181818183)]),\n",
              " RelationRecord(items=frozenset({'2.5Unf', 'Fa'}), support=0.00410958904109589, ordered_statistics=[OrderedStatistic(items_base=frozenset({'2.5Unf'}), items_add=frozenset({'Fa'}), confidence=0.5454545454545454, lift=4.001827318410233)]),\n",
              " RelationRecord(items=frozenset({'2.5Unf', 'N'}), support=0.004794520547945206, ordered_statistics=[OrderedStatistic(items_base=frozenset({'2.5Unf'}), items_add=frozenset({'N'}), confidence=0.6363636363636364, lift=6.152919927754365)]),\n",
              " RelationRecord(items=frozenset({'OldTown', '2.5Unf'}), support=0.005479452054794521, ordered_statistics=[OrderedStatistic(items_base=frozenset({'2.5Unf'}), items_add=frozenset({'OldTown'}), confidence=0.7272727272727273, lift=9.396621078037008)]),\n",
              " RelationRecord(items=frozenset({'RM', '2.5Unf'}), support=0.005479452054794521, ordered_statistics=[OrderedStatistic(items_base=frozenset({'2.5Unf'}), items_add=frozenset({'RM'}), confidence=0.7272727272727273, lift=4.870725604670559)]),\n",
              " RelationRecord(items=frozenset({'244900 - 314899', 'Flat'}), support=0.00410958904109589, ordered_statistics=[OrderedStatistic(items_base=frozenset({'Flat'}), items_add=frozenset({'244900 - 314899'}), confidence=0.4615384615384615, lift=3.9406207827260453)]),\n",
              " RelationRecord(items=frozenset({'NoRidge', '244900 - 314899'}), support=0.012328767123287671, ordered_statistics=[OrderedStatistic(items_base=frozenset({'NoRidge'}), items_add=frozenset({'244900 - 314899'}), confidence=0.43902439024390244, lift=3.748395378690629)]),\n",
              " RelationRecord(items=frozenset({'BrDale', '2Story'}), support=0.010958904109589041, ordered_statistics=[OrderedStatistic(items_base=frozenset({'BrDale'}), items_add=frozenset({'2Story'}), confidence=1.0, lift=3.2808988764044944)]),\n",
              " RelationRecord(items=frozenset({'Fa', '2fmCon'}), support=0.009589041095890411, ordered_statistics=[OrderedStatistic(items_base=frozenset({'2fmCon'}), items_add=frozenset({'Fa'}), confidence=0.4516129032258065, lift=3.3133408980385806)]),\n",
              " RelationRecord(items=frozenset({'Mn', '2fmCon'}), support=0.005479452054794521, ordered_statistics=[OrderedStatistic(items_base=frozenset({'2fmCon'}), items_add=frozenset({'Mn'}), confidence=0.25806451612903225, lift=3.248053392658509)]),\n",
              " RelationRecord(items=frozenset({'N', '2fmCon'}), support=0.014383561643835616, ordered_statistics=[OrderedStatistic(items_base=frozenset({'2fmCon'}), items_add=frozenset({'N'}), confidence=0.6774193548387097, lift=6.549882503738518)]),\n",
              " RelationRecord(items=frozenset({'OldTown', '2fmCon'}), support=0.009589041095890411, ordered_statistics=[OrderedStatistic(items_base=frozenset({'2fmCon'}), items_add=frozenset({'OldTown'}), confidence=0.4516129032258065, lift=5.834998572652013)]),\n",
              " RelationRecord(items=frozenset({'NoRidge', '314900 - 384899'}), support=0.008904109589041096, ordered_statistics=[OrderedStatistic(items_base=frozenset({'NoRidge'}), items_add=frozenset({'314900 - 384899'}), confidence=0.3170731707317073, lift=6.909355660720786)]),\n",
              " RelationRecord(items=frozenset({'314900 - 384899', 'NridgHt'}), support=0.0136986301369863, ordered_statistics=[OrderedStatistic(items_base=frozenset({'314900 - 384899'}), items_add=frozenset({'NridgHt'}), confidence=0.29850746268656714, lift=5.660011630160883), OrderedStatistic(items_base=frozenset({'NridgHt'}), items_add=frozenset({'314900 - 384899'}), confidence=0.2597402597402597, lift=5.660011630160883)]),\n",
              " RelationRecord(items=frozenset({'314900 - 384899', 'Stone'}), support=0.014383561643835616, ordered_statistics=[OrderedStatistic(items_base=frozenset({'314900 - 384899'}), items_add=frozenset({'Stone'}), confidence=0.31343283582089554, lift=3.2000834985909616)]),\n",
              " RelationRecord(items=frozenset({'34900 - 104899', 'AsbShng'}), support=0.0061643835616438354, ordered_statistics=[OrderedStatistic(items_base=frozenset({'AsbShng'}), items_add=frozenset({'34900 - 104899'}), confidence=0.3913043478260869, lift=4.64475079533404)]),\n",
              " RelationRecord(items=frozenset({'BrDale', '34900 - 104899'}), support=0.004794520547945206, ordered_statistics=[OrderedStatistic(items_base=frozenset({'BrDale'}), items_add=frozenset({'34900 - 104899'}), confidence=0.4375, lift=5.193089430894309)]),\n",
              " RelationRecord(items=frozenset({'34900 - 104899', 'BrkSide'}), support=0.010273972602739725, ordered_statistics=[OrderedStatistic(items_base=frozenset({'BrkSide'}), items_add=frozenset({'34900 - 104899'}), confidence=0.2586206896551724, lift=3.0698065601345665)]),\n",
              " RelationRecord(items=frozenset({'34900 - 104899', 'C (all)'}), support=0.004794520547945206, ordered_statistics=[OrderedStatistic(items_base=frozenset({'C (all)'}), items_add=frozenset({'34900 - 104899'}), confidence=0.7000000000000001, lift=8.308943089430896)]),\n",
              " RelationRecord(items=frozenset({'34900 - 104899', 'Fa'}), support=0.04589041095890411, ordered_statistics=[OrderedStatistic(items_base=frozenset({'34900 - 104899'}), items_add=frozenset({'Fa'}), confidence=0.5447154471544715, lift=3.9964047881684848), OrderedStatistic(items_base=frozenset({'Fa'}), items_add=frozenset({'34900 - 104899'}), confidence=0.33668341708542715, lift=3.9964047881684848)]),\n",
              " RelationRecord(items=frozenset({'34900 - 104899', 'FuseA'}), support=0.017123287671232876, ordered_statistics=[OrderedStatistic(items_base=frozenset({'34900 - 104899'}), items_add=frozenset({'FuseA'}), confidence=0.2032520325203252, lift=3.1568932710603703), OrderedStatistic(items_base=frozenset({'FuseA'}), items_add=frozenset({'34900 - 104899'}), confidence=0.26595744680851063, lift=3.15689327106037)]),\n",
              " RelationRecord(items=frozenset({'FuseF', '34900 - 104899'}), support=0.007534246575342466, ordered_statistics=[OrderedStatistic(items_base=frozenset({'FuseF'}), items_add=frozenset({'34900 - 104899'}), confidence=0.40740740740740744, lift=4.835892803372478)]),\n",
              " RelationRecord(items=frozenset({'34900 - 104899', 'Grav'}), support=0.00410958904109589, ordered_statistics=[OrderedStatistic(items_base=frozenset({'Grav'}), items_add=frozenset({'34900 - 104899'}), confidence=0.857142857142857, lift=10.174216027874563)]),\n",
              " RelationRecord(items=frozenset({'34900 - 104899', 'IDOTRR'}), support=0.010958904109589041, ordered_statistics=[OrderedStatistic(items_base=frozenset({'IDOTRR'}), items_add=frozenset({'34900 - 104899'}), confidence=0.43243243243243246, lift=5.132937815864645)]),\n",
              " RelationRecord(items=frozenset({'34900 - 104899', 'MeadowV'}), support=0.00821917808219178, ordered_statistics=[OrderedStatistic(items_base=frozenset({'MeadowV'}), items_add=frozenset({'34900 - 104899'}), confidence=0.7058823529411764, lift=8.37876614060258)]),\n",
              " RelationRecord(items=frozenset({'34900 - 104899', 'N'}), support=0.04315068493150685, ordered_statistics=[OrderedStatistic(items_base=frozenset({'34900 - 104899'}), items_add=frozenset({'N'}), confidence=0.5121951219512195, lift=4.952350185753513), OrderedStatistic(items_base=frozenset({'N'}), items_add=frozenset({'34900 - 104899'}), confidence=0.41721854304635764, lift=4.952350185753513)]),\n",
              " RelationRecord(items=frozenset({'34900 - 104899', 'Po'}), support=0.00410958904109589, ordered_statistics=[OrderedStatistic(items_base=frozenset({'Po'}), items_add=frozenset({'34900 - 104899'}), confidence=0.5454545454545454, lift=6.474501108647449)]),\n",
              " RelationRecord(items=frozenset({'RM', '34900 - 104899'}), support=0.038356164383561646, ordered_statistics=[OrderedStatistic(items_base=frozenset({'34900 - 104899'}), items_add=frozenset({'RM'}), confidence=0.4552845528455285, lift=3.04915342731409), OrderedStatistic(items_base=frozenset({'RM'}), items_add=frozenset({'34900 - 104899'}), confidence=0.25688073394495414, lift=3.04915342731409)]),\n",
              " RelationRecord(items=frozenset({'34900 - 104899', 'Slab'}), support=0.007534246575342466, ordered_statistics=[OrderedStatistic(items_base=frozenset({'Slab'}), items_add=frozenset({'34900 - 104899'}), confidence=0.45833333333333337, lift=5.440379403794038)]),\n",
              " RelationRecord(items=frozenset({'34900 - 104899', 'Stucco'}), support=0.0061643835616438354, ordered_statistics=[OrderedStatistic(items_base=frozenset({'Stucco'}), items_add=frozenset({'34900 - 104899'}), confidence=0.2903225806451613, lift=3.4461054287962236)]),\n",
              " RelationRecord(items=frozenset({'34900 - 104899', 'Twnhs'}), support=0.008904109589041096, ordered_statistics=[OrderedStatistic(items_base=frozenset({'Twnhs'}), items_add=frozenset({'34900 - 104899'}), confidence=0.3023255813953488, lift=3.58858007184723)]),\n",
              " RelationRecord(items=frozenset({'384900 - 454899', 'Fin'}), support=0.01643835616438356, ordered_statistics=[OrderedStatistic(items_base=frozenset({'384900 - 454899'}), items_add=frozenset({'Fin'}), confidence=0.7741935483870968, lift=3.2111436950146626)]),\n",
              " RelationRecord(items=frozenset({'384900 - 454899', 'Hip'}), support=0.0136986301369863, ordered_statistics=[OrderedStatistic(items_base=frozenset({'384900 - 454899'}), items_add=frozenset({'Hip'}), confidence=0.6451612903225806, lift=3.2934807128355517)]),\n",
              " RelationRecord(items=frozenset({'384900 - 454899', 'New'}), support=0.012328767123287671, ordered_statistics=[OrderedStatistic(items_base=frozenset({'384900 - 454899'}), items_add=frozenset({'New'}), confidence=0.5806451612903226, lift=6.9487043892120575)]),\n",
              " RelationRecord(items=frozenset({'384900 - 454899', 'NridgHt'}), support=0.008904109589041096, ordered_statistics=[OrderedStatistic(items_base=frozenset({'384900 - 454899'}), items_add=frozenset({'NridgHt'}), confidence=0.41935483870967744, lift=7.951403435274403)]),\n",
              " RelationRecord(items=frozenset({'384900 - 454899', 'Partial'}), support=0.012328767123287671, ordered_statistics=[OrderedStatistic(items_base=frozenset({'384900 - 454899'}), items_add=frozenset({'Partial'}), confidence=0.5806451612903226, lift=6.781935483870969)]),\n",
              " RelationRecord(items=frozenset({'384900 - 454899', 'Stone'}), support=0.00821917808219178, ordered_statistics=[OrderedStatistic(items_base=frozenset({'384900 - 454899'}), items_add=frozenset({'Stone'}), confidence=0.3870967741935484, lift=3.9521768554026617)]),\n",
              " RelationRecord(items=frozenset({'Hip', '454900 - 524899'}), support=0.00410958904109589, ordered_statistics=[OrderedStatistic(items_base=frozenset({'454900 - 524899'}), items_add=frozenset({'Hip'}), confidence=0.6, lift=3.062937062937063)]),\n",
              " RelationRecord(items=frozenset({'454900 - 524899', 'New'}), support=0.00410958904109589, ordered_statistics=[OrderedStatistic(items_base=frozenset({'454900 - 524899'}), items_add=frozenset({'New'}), confidence=0.6, lift=7.1803278688524586)]),\n",
              " RelationRecord(items=frozenset({'NridgHt', '454900 - 524899'}), support=0.00410958904109589, ordered_statistics=[OrderedStatistic(items_base=frozenset({'454900 - 524899'}), items_add=frozenset({'NridgHt'}), confidence=0.6, lift=11.376623376623376)]),\n",
              " RelationRecord(items=frozenset({'454900 - 524899', 'Partial'}), support=0.00410958904109589, ordered_statistics=[OrderedStatistic(items_base=frozenset({'454900 - 524899'}), items_add=frozenset({'Partial'}), confidence=0.6, lift=7.008)]),\n",
              " RelationRecord(items=frozenset({'ALQ', 'Brk Cmn'}), support=0.003424657534246575, ordered_statistics=[OrderedStatistic(items_base=frozenset({'Brk Cmn'}), items_add=frozenset({'ALQ'}), confidence=0.7142857142857142, lift=4.327208061647895)]),\n",
              " RelationRecord(items=frozenset({'ALQ', 'NPkVill'}), support=0.005479452054794521, ordered_statistics=[OrderedStatistic(items_base=frozenset({'NPkVill'}), items_add=frozenset({'ALQ'}), confidence=0.888888888888889, lift=5.384970032272937)]),\n",
              " RelationRecord(items=frozenset({'C (all)', 'Abnorml'}), support=0.003424657534246575, ordered_statistics=[OrderedStatistic(items_base=frozenset({'C (all)'}), items_add=frozenset({'Abnorml'}), confidence=0.5, lift=7.227722772277229)]),\n",
              " RelationRecord(items=frozenset({'COD', 'Abnorml'}), support=0.01643835616438356, ordered_statistics=[OrderedStatistic(items_base=frozenset({'Abnorml'}), items_add=frozenset({'COD'}), confidence=0.2376237623762376, lift=8.06815565277458), OrderedStatistic(items_base=frozenset({'COD'}), items_add=frozenset({'Abnorml'}), confidence=0.5581395348837209, lift=8.06815565277458)]),\n",
              " RelationRecord(items=frozenset({'RH', 'Abnorml'}), support=0.003424657534246575, ordered_statistics=[OrderedStatistic(items_base=frozenset({'RH'}), items_add=frozenset({'Abnorml'}), confidence=0.3125, lift=4.517326732673268)]),\n",
              " RelationRecord(items=frozenset({'Alloca', 'Bnk'}), support=0.003424657534246575, ordered_statistics=[OrderedStatistic(items_base=frozenset({'Alloca'}), items_add=frozenset({'Bnk'}), confidence=0.4166666666666667, lift=9.656084656084655)]),\n",
              " RelationRecord(items=frozenset({'Alloca', 'Duplex'}), support=0.004794520547945206, ordered_statistics=[OrderedStatistic(items_base=frozenset({'Alloca'}), items_add=frozenset({'Duplex'}), confidence=0.5833333333333334, lift=16.378205128205128)]),\n",
              " RelationRecord(items=frozenset({'Alloca', 'Plywood'}), support=0.00410958904109589, ordered_statistics=[OrderedStatistic(items_base=frozenset({'Alloca'}), items_add=frozenset({'Plywood'}), confidence=0.5, lift=4.740259740259741)]),\n",
              " RelationRecord(items=frozenset({'OldTown', 'Artery'}), support=0.015753424657534248, ordered_statistics=[OrderedStatistic(items_base=frozenset({'Artery'}), items_add=frozenset({'OldTown'}), confidence=0.47916666666666674, lift=6.191002949852508), OrderedStatistic(items_base=frozenset({'OldTown'}), items_add=frozenset({'Artery'}), confidence=0.20353982300884957, lift=6.191002949852508)]),\n",
              " RelationRecord(items=frozenset({'AsbShng', 'BrkTil'}), support=0.004794520547945206, ordered_statistics=[OrderedStatistic(items_base=frozenset({'AsbShng'}), items_add=frozenset({'BrkTil'}), confidence=0.30434782608695654, lift=3.0434782608695654)]),\n",
              " RelationRecord(items=frozenset({'Fa', 'AsbShng'}), support=0.00821917808219178, ordered_statistics=[OrderedStatistic(items_base=frozenset({'AsbShng'}), items_add=frozenset({'Fa'}), confidence=0.5217391304347825, lift=3.8278348263054394)]),\n",
              " RelationRecord(items=frozenset({'AsbShng', 'FuseA'}), support=0.00410958904109589, ordered_statistics=[OrderedStatistic(items_base=frozenset({'AsbShng'}), items_add=frozenset({'FuseA'}), confidence=0.26086956521739124, lift=4.051803885291396)]),\n",
              " RelationRecord(items=frozenset({'N', 'AsbShng'}), support=0.008904109589041096, ordered_statistics=[OrderedStatistic(items_base=frozenset({'AsbShng'}), items_add=frozenset({'N'}), confidence=0.5652173913043478, lift=5.465015836452634)]),\n",
              " RelationRecord(items=frozenset({'OldTown', 'AsbShng'}), support=0.004794520547945206, ordered_statistics=[OrderedStatistic(items_base=frozenset({'AsbShng'}), items_add=frozenset({'OldTown'}), confidence=0.30434782608695654, lift=3.932281646787226)]),\n",
              " RelationRecord(items=frozenset({'RM', 'AsbShng'}), support=0.00821917808219178, ordered_statistics=[OrderedStatistic(items_base=frozenset({'AsbShng'}), items_add=frozenset({'RM'}), confidence=0.5217391304347825, lift=3.4942161946549652)]),\n",
              " RelationRecord(items=frozenset({'SFoyer', 'Av'}), support=0.017123287671232876, ordered_statistics=[OrderedStatistic(items_base=frozenset({'SFoyer'}), items_add=frozenset({'Av'}), confidence=0.6756756756756757, lift=4.463739757857405)]),\n",
              " RelationRecord(items=frozenset({'Av', 'SLvl'}), support=0.021232876712328767, ordered_statistics=[OrderedStatistic(items_base=frozenset({'SLvl'}), items_add=frozenset({'Av'}), confidence=0.47692307692307695, lift=3.150713539853812)]),\n",
              " RelationRecord(items=frozenset({'Basment', 'Edwards'}), support=0.005479452054794521, ordered_statistics=[OrderedStatistic(items_base=frozenset({'Basment'}), items_add=frozenset({'Edwards'}), confidence=0.4, lift=5.840000000000001)]),\n",
              " RelationRecord(items=frozenset({'Basment', 'FuseA'}), support=0.003424657534246575, ordered_statistics=[OrderedStatistic(items_base=frozenset({'Basment'}), items_add=frozenset({'FuseA'}), confidence=0.25, lift=3.882978723404255)]),\n",
              " RelationRecord(items=frozenset({'Basment', 'SLvl'}), support=0.004794520547945206, ordered_statistics=[OrderedStatistic(items_base=frozenset({'Basment'}), items_add=frozenset({'SLvl'}), confidence=0.35000000000000003, lift=7.861538461538463)]),\n",
              " RelationRecord(items=frozenset({'Blmngtn', 'Fin'}), support=0.010958904109589041, ordered_statistics=[OrderedStatistic(items_base=frozenset({'Blmngtn'}), items_add=frozenset({'Fin'}), confidence=0.9411764705882353, lift=3.903743315508021)]),\n",
              " RelationRecord(items=frozenset({'Blmngtn', 'New'}), support=0.003424657534246575, ordered_statistics=[OrderedStatistic(items_base=frozenset({'Blmngtn'}), items_add=frozenset({'New'}), confidence=0.2941176470588235, lift=3.5197685631629696)]),\n",
              " RelationRecord(items=frozenset({'Blmngtn', 'Partial'}), support=0.003424657534246575, ordered_statistics=[OrderedStatistic(items_base=frozenset({'Blmngtn'}), items_add=frozenset({'Partial'}), confidence=0.2941176470588235, lift=3.4352941176470586)]),\n",
              " RelationRecord(items=frozenset({'TwnhsE', 'Blmngtn'}), support=0.010958904109589041, ordered_statistics=[OrderedStatistic(items_base=frozenset({'Blmngtn'}), items_add=frozenset({'TwnhsE'}), confidence=0.9411764705882353, lift=12.053663570691434)]),\n",
              " RelationRecord(items=frozenset({'Mod', 'Bnk'}), support=0.010273972602739725, ordered_statistics=[OrderedStatistic(items_base=frozenset({'Bnk'}), items_add=frozenset({'Mod'}), confidence=0.23809523809523805, lift=4.400241109101868)]),\n",
              " RelationRecord(items=frozenset({'N', 'Bnk'}), support=0.015068493150684932, ordered_statistics=[OrderedStatistic(items_base=frozenset({'Bnk'}), items_add=frozenset({'N'}), confidence=0.3492063492063492, lift=3.3764322506044357)]),\n",
              " RelationRecord(items=frozenset({'SWISU', 'Bnk'}), support=0.007534246575342466, ordered_statistics=[OrderedStatistic(items_base=frozenset({'SWISU'}), items_add=frozenset({'Bnk'}), confidence=0.44000000000000006, lift=10.196825396825398)]),\n",
              " RelationRecord(items=frozenset({'BrDale', 'HdBoard'}), support=0.009589041095890411, ordered_statistics=[OrderedStatistic(items_base=frozenset({'BrDale'}), items_add=frozenset({'HdBoard'}), confidence=0.875, lift=5.413135593220339)]),\n",
              " RelationRecord(items=frozenset({'BrDale', 'RM'}), support=0.010958904109589041, ordered_statistics=[OrderedStatistic(items_base=frozenset({'BrDale'}), items_add=frozenset({'RM'}), confidence=1.0, lift=6.697247706422019)]),\n",
              " RelationRecord(items=frozenset({'BrDale', 'Twnhs'}), support=0.00821917808219178, ordered_statistics=[OrderedStatistic(items_base=frozenset({'BrDale'}), items_add=frozenset({'Twnhs'}), confidence=0.7499999999999999, lift=25.465116279069765), OrderedStatistic(items_base=frozenset({'Twnhs'}), items_add=frozenset({'BrDale'}), confidence=0.27906976744186046, lift=25.46511627906977)]),\n",
              " RelationRecord(items=frozenset({'NPkVill', 'Brk Cmn'}), support=0.003424657534246575, ordered_statistics=[OrderedStatistic(items_base=frozenset({'Brk Cmn'}), items_add=frozenset({'NPkVill'}), confidence=0.7142857142857142, lift=115.87301587301586), OrderedStatistic(items_base=frozenset({'NPkVill'}), items_add=frozenset({'Brk Cmn'}), confidence=0.5555555555555556, lift=115.87301587301587)]),\n",
              " RelationRecord(items=frozenset({'Plywood', 'Brk Cmn'}), support=0.003424657534246575, ordered_statistics=[OrderedStatistic(items_base=frozenset({'Brk Cmn'}), items_add=frozenset({'Plywood'}), confidence=0.7142857142857142, lift=6.771799628942485)]),\n",
              " RelationRecord(items=frozenset({'BrkCmn', 'NAmes'}), support=0.004794520547945206, ordered_statistics=[OrderedStatistic(items_base=frozenset({'BrkCmn'}), items_add=frozenset({'NAmes'}), confidence=0.46666666666666673, lift=3.0281481481481483)]),\n",
              " RelationRecord(items=frozenset({'BrkCmn', 'Rec'}), support=0.00821917808219178, ordered_statistics=[OrderedStatistic(items_base=frozenset({'BrkCmn'}), items_add=frozenset({'Rec'}), confidence=0.7999999999999999, lift=6.245989304812833)]),\n",
              " RelationRecord(items=frozenset({'BrkSide', 'BrkTil'}), support=0.021917808219178082, ordered_statistics=[OrderedStatistic(items_base=frozenset({'BrkSide'}), items_add=frozenset({'BrkTil'}), confidence=0.5517241379310345, lift=5.517241379310344), OrderedStatistic(items_base=frozenset({'BrkTil'}), items_add=frozenset({'BrkSide'}), confidence=0.2191780821917808, lift=5.517241379310344)]),\n",
              " RelationRecord(items=frozenset({'Fa', 'BrkSide'}), support=0.01643835616438356, ordered_statistics=[OrderedStatistic(items_base=frozenset({'BrkSide'}), items_add=frozenset({'Fa'}), confidence=0.4137931034482758, lift=3.03586900017328)]),\n",
              " RelationRecord(items=frozenset({'BrkSide', 'FuseA'}), support=0.008904109589041096, ordered_statistics=[OrderedStatistic(items_base=frozenset({'BrkSide'}), items_add=frozenset({'FuseA'}), confidence=0.22413793103448273, lift=3.4812912692589872)]),\n",
              " RelationRecord(items=frozenset({'BrkSide', 'N'}), support=0.014383561643835616, ordered_statistics=[OrderedStatistic(items_base=frozenset({'BrkSide'}), items_add=frozenset({'N'}), confidence=0.3620689655172413, lift=3.5007992692395518)]),\n",
              " RelationRecord(items=frozenset({'RM', 'BrkSide'}), support=0.02054794520547945, ordered_statistics=[OrderedStatistic(items_base=frozenset({'BrkSide'}), items_add=frozenset({'RM'}), confidence=0.5172413793103448, lift=3.464093641252768)]),\n",
              " RelationRecord(items=frozenset({'RRAn', 'BrkSide'}), support=0.004794520547945206, ordered_statistics=[OrderedStatistic(items_base=frozenset({'RRAn'}), items_add=frozenset({'BrkSide'}), confidence=0.25925925925925924, lift=6.5261813537675595)]),\n",
              " RelationRecord(items=frozenset({'Crawfor', 'BrkTil'}), support=0.010958904109589041, ordered_statistics=[OrderedStatistic(items_base=frozenset({'Crawfor'}), items_add=frozenset({'BrkTil'}), confidence=0.3137254901960784, lift=3.1372549019607843)]),\n",
              " RelationRecord(items=frozenset({'Fa', 'BrkTil'}), support=0.05, ordered_statistics=[OrderedStatistic(items_base=frozenset({'BrkTil'}), items_add=frozenset({'Fa'}), confidence=0.5, lift=3.6683417085427137), OrderedStatistic(items_base=frozenset({'Fa'}), items_add=frozenset({'BrkTil'}), confidence=0.3668341708542714, lift=3.6683417085427137)]),\n",
              " RelationRecord(items=frozenset({'BrkTil', 'Gambrel'}), support=0.003424657534246575, ordered_statistics=[OrderedStatistic(items_base=frozenset({'Gambrel'}), items_add=frozenset({'BrkTil'}), confidence=0.45454545454545453, lift=4.545454545454545)]),\n",
              " RelationRecord(items=frozenset({'BrkTil', 'GasW'}), support=0.00684931506849315, ordered_statistics=[OrderedStatistic(items_base=frozenset({'GasW'}), items_add=frozenset({'BrkTil'}), confidence=0.5555555555555556, lift=5.555555555555555)]),\n",
              " RelationRecord(items=frozenset({'Grav', 'BrkTil'}), support=0.00410958904109589, ordered_statistics=[OrderedStatistic(items_base=frozenset({'Grav'}), items_add=frozenset({'BrkTil'}), confidence=0.857142857142857, lift=8.57142857142857)]),\n",
              " RelationRecord(items=frozenset({'N', 'BrkTil'}), support=0.045205479452054796, ordered_statistics=[OrderedStatistic(items_base=frozenset({'BrkTil'}), items_add=frozenset({'N'}), confidence=0.4520547945205479, lift=4.370860927152317), OrderedStatistic(items_base=frozenset({'N'}), items_add=frozenset({'BrkTil'}), confidence=0.4370860927152318, lift=4.370860927152318)]),\n",
              " RelationRecord(items=frozenset({'OldTown', 'BrkTil'}), support=0.036986301369863014, ordered_statistics=[OrderedStatistic(items_base=frozenset({'BrkTil'}), items_add=frozenset({'OldTown'}), confidence=0.3698630136986301, lift=4.778761061946902), OrderedStatistic(items_base=frozenset({'OldTown'}), items_add=frozenset({'BrkTil'}), confidence=0.4778761061946903, lift=4.778761061946903)]),\n",
              " RelationRecord(items=frozenset({'P', 'BrkTil'}), support=0.00821917808219178, ordered_statistics=[OrderedStatistic(items_base=frozenset({'P'}), items_add=frozenset({'BrkTil'}), confidence=0.39999999999999997, lift=3.9999999999999996)]),\n",
              " RelationRecord(items=frozenset({'Po', 'BrkTil'}), support=0.003424657534246575, ordered_statistics=[OrderedStatistic(items_base=frozenset({'Po'}), items_add=frozenset({'BrkTil'}), confidence=0.45454545454545453, lift=4.545454545454545)]),\n",
              " RelationRecord(items=frozenset({'RH', 'BrkTil'}), support=0.003424657534246575, ordered_statistics=[OrderedStatistic(items_base=frozenset({'RH'}), items_add=frozenset({'BrkTil'}), confidence=0.3125, lift=3.125)]),\n",
              " RelationRecord(items=frozenset({'RM', 'BrkTil'}), support=0.052054794520547946, ordered_statistics=[OrderedStatistic(items_base=frozenset({'BrkTil'}), items_add=frozenset({'RM'}), confidence=0.5205479452054794, lift=3.4862385321100917), OrderedStatistic(items_base=frozenset({'RM'}), items_add=frozenset({'BrkTil'}), confidence=0.3486238532110092, lift=3.4862385321100917)]),\n",
              " RelationRecord(items=frozenset({'SWISU', 'BrkTil'}), support=0.008904109589041096, ordered_statistics=[OrderedStatistic(items_base=frozenset({'SWISU'}), items_add=frozenset({'BrkTil'}), confidence=0.52, lift=5.2)]),\n",
              " RelationRecord(items=frozenset({'Stucco', 'BrkTil'}), support=0.010958904109589041, ordered_statistics=[OrderedStatistic(items_base=frozenset({'Stucco'}), items_add=frozenset({'BrkTil'}), confidence=0.5161290322580645, lift=5.161290322580645)]),\n",
              " RelationRecord(items=frozenset({'Wd Sdng', 'BrkTil'}), support=0.04657534246575343, ordered_statistics=[OrderedStatistic(items_base=frozenset({'BrkTil'}), items_add=frozenset({'Wd Sdng'}), confidence=0.4657534246575343, lift=3.008849557522124), OrderedStatistic(items_base=frozenset({'Wd Sdng'}), items_add=frozenset({'BrkTil'}), confidence=0.3008849557522124, lift=3.008849557522124)]),\n",
              " RelationRecord(items=frozenset({'BuiltIn', 'Gilbert'}), support=0.015753424657534248, ordered_statistics=[OrderedStatistic(items_base=frozenset({'BuiltIn'}), items_add=frozenset({'Gilbert'}), confidence=0.25842696629213485, lift=4.775992035272366), OrderedStatistic(items_base=frozenset({'Gilbert'}), items_add=frozenset({'BuiltIn'}), confidence=0.2911392405063291, lift=4.775992035272365)]),\n",
              " RelationRecord(items=frozenset({'BuiltIn', 'NridgHt'}), support=0.012328767123287671, ordered_statistics=[OrderedStatistic(items_base=frozenset({'BuiltIn'}), items_add=frozenset({'NridgHt'}), confidence=0.20224719101123595, lift=3.834816868524734), OrderedStatistic(items_base=frozenset({'NridgHt'}), items_add=frozenset({'BuiltIn'}), confidence=0.23376623376623376, lift=3.8348168685247335)]),\n",
              " RelationRecord(items=frozenset({'BuiltIn', 'StoneBr'}), support=0.003424657534246575, ordered_statistics=[OrderedStatistic(items_base=frozenset({'StoneBr'}), items_add=frozenset({'BuiltIn'}), confidence=0.2, lift=3.2808988764044944)]),\n",
              " RelationRecord(items=frozenset({'C (all)', 'Fa'}), support=0.003424657534246575, ordered_statistics=[OrderedStatistic(items_base=frozenset({'C (all)'}), items_add=frozenset({'Fa'}), confidence=0.5, lift=3.6683417085427137)]),\n",
              " RelationRecord(items=frozenset({'C (all)', 'IDOTRR'}), support=0.0061643835616438354, ordered_statistics=[OrderedStatistic(items_base=frozenset({'C (all)'}), items_add=frozenset({'IDOTRR'}), confidence=0.9, lift=35.513513513513516), OrderedStatistic(items_base=frozenset({'IDOTRR'}), items_add=frozenset({'C (all)'}), confidence=0.24324324324324323, lift=35.513513513513516)]),\n",
              " RelationRecord(items=frozenset({'MetalSd', 'C (all)'}), support=0.003424657534246575, ordered_statistics=[OrderedStatistic(items_base=frozenset({'C (all)'}), items_add=frozenset({'MetalSd'}), confidence=0.5, lift=3.288288288288288)]),\n",
              " RelationRecord(items=frozenset({'C (all)', 'N'}), support=0.004794520547945206, ordered_statistics=[OrderedStatistic(items_base=frozenset({'C (all)'}), items_add=frozenset({'N'}), confidence=0.7000000000000001, lift=6.768211920529802)]),\n",
              " RelationRecord(items=frozenset({'CarPort', 'Fa'}), support=0.003424657534246575, ordered_statistics=[OrderedStatistic(items_base=frozenset({'CarPort'}), items_add=frozenset({'Fa'}), confidence=0.5555555555555556, lift=4.075935231714126)]),\n",
              " RelationRecord(items=frozenset({'CmentBd', 'CemntBd'}), support=0.04041095890410959, ordered_statistics=[OrderedStatistic(items_base=frozenset({'CemntBd'}), items_add=frozenset({'CmentBd'}), confidence=0.9672131147540983, lift=23.53551912568306), OrderedStatistic(items_base=frozenset({'CmentBd'}), items_add=frozenset({'CemntBd'}), confidence=0.9833333333333334, lift=23.53551912568306)]),\n",
              " RelationRecord(items=frozenset({'MeadowV', 'CemntBd'}), support=0.011643835616438357, ordered_statistics=[OrderedStatistic(items_base=frozenset({'CemntBd'}), items_add=frozenset({'MeadowV'}), confidence=0.27868852459016397, lift=23.934426229508198), OrderedStatistic(items_base=frozenset({'MeadowV'}), items_add=frozenset({'CemntBd'}), confidence=1.0, lift=23.934426229508194)]),\n",
              " RelationRecord(items=frozenset({'New', 'CemntBd'}), support=0.010958904109589041, ordered_statistics=[OrderedStatistic(items_base=frozenset({'CemntBd'}), items_add=frozenset({'New'}), confidence=0.26229508196721313, lift=3.138941144853534)]),\n",
              " RelationRecord(items=frozenset({'Partial', 'CemntBd'}), support=0.010958904109589041, ordered_statistics=[OrderedStatistic(items_base=frozenset({'CemntBd'}), items_add=frozenset({'Partial'}), confidence=0.26229508196721313, lift=3.0636065573770495)]),\n",
              " RelationRecord(items=frozenset({'Stone', 'CemntBd'}), support=0.013013698630136987, ordered_statistics=[OrderedStatistic(items_base=frozenset({'CemntBd'}), items_add=frozenset({'Stone'}), confidence=0.3114754098360656, lift=3.1800985899346554)]),\n",
              " RelationRecord(items=frozenset({'StoneBr', 'CemntBd'}), support=0.004794520547945206, ordered_statistics=[OrderedStatistic(items_base=frozenset({'StoneBr'}), items_add=frozenset({'CemntBd'}), confidence=0.28, lift=6.701639344262295)]),\n",
              " RelationRecord(items=frozenset({'Twnhs', 'CemntBd'}), support=0.0061643835616438354, ordered_statistics=[OrderedStatistic(items_base=frozenset({'Twnhs'}), items_add=frozenset({'CemntBd'}), confidence=0.20930232558139533, lift=5.009531071292413)]),\n",
              " RelationRecord(items=frozenset({'TwnhsE', 'CemntBd'}), support=0.011643835616438357, ordered_statistics=[OrderedStatistic(items_base=frozenset({'CemntBd'}), items_add=frozenset({'TwnhsE'}), confidence=0.27868852459016397, lift=3.569168823698591)]),\n",
              " RelationRecord(items=frozenset({'CulDSac', 'ClearCr'}), support=0.00410958904109589, ordered_statistics=[OrderedStatistic(items_base=frozenset({'ClearCr'}), items_add=frozenset({'CulDSac'}), confidence=0.21428571428571425, lift=3.3282674772036467)]),\n",
              " RelationRecord(items=frozenset({'ClearCr', 'Flat'}), support=0.00410958904109589, ordered_statistics=[OrderedStatistic(items_base=frozenset({'ClearCr'}), items_add=frozenset({'Flat'}), confidence=0.21428571428571425, lift=24.065934065934062), OrderedStatistic(items_base=frozenset({'Flat'}), items_add=frozenset({'ClearCr'}), confidence=0.4615384615384615, lift=24.065934065934062)]),\n",
              " RelationRecord(items=frozenset({'ClearCr', 'Low'}), support=0.008904109589041096, ordered_statistics=[OrderedStatistic(items_base=frozenset({'ClearCr'}), items_add=frozenset({'Low'}), confidence=0.46428571428571425, lift=18.82936507936508), OrderedStatistic(items_base=frozenset({'Low'}), items_add=frozenset({'ClearCr'}), confidence=0.3611111111111111, lift=18.82936507936508)]),\n",
              " RelationRecord(items=frozenset({'Mod', 'ClearCr'}), support=0.005479452054794521, ordered_statistics=[OrderedStatistic(items_base=frozenset({'ClearCr'}), items_add=frozenset({'Mod'}), confidence=0.2857142857142857, lift=5.280289330922242)]),\n",
              " RelationRecord(items=frozenset({'Plywood', 'ClearCr'}), support=0.007534246575342466, ordered_statistics=[OrderedStatistic(items_base=frozenset({'ClearCr'}), items_add=frozenset({'Plywood'}), confidence=0.39285714285714285, lift=3.7244897959183674)]),\n",
              " RelationRecord(items=frozenset({'Sev', 'ClearCr'}), support=0.004794520547945206, ordered_statistics=[OrderedStatistic(items_base=frozenset({'ClearCr'}), items_add=frozenset({'Sev'}), confidence=0.25, lift=26.07142857142857), OrderedStatistic(items_base=frozenset({'Sev'}), items_add=frozenset({'ClearCr'}), confidence=0.5, lift=26.07142857142857)]),\n",
              " RelationRecord(items=frozenset({'MeadowV', 'CmentBd'}), support=0.011643835616438357, ordered_statistics=[OrderedStatistic(items_base=frozenset({'CmentBd'}), items_add=frozenset({'MeadowV'}), confidence=0.2833333333333334, lift=24.333333333333336), OrderedStatistic(items_base=frozenset({'MeadowV'}), items_add=frozenset({'CmentBd'}), confidence=1.0, lift=24.333333333333336)]),\n",
              " RelationRecord(items=frozenset({'CmentBd', 'New'}), support=0.010958904109589041, ordered_statistics=[OrderedStatistic(items_base=frozenset({'CmentBd'}), items_add=frozenset({'New'}), confidence=0.26666666666666666, lift=3.191256830601093)]),\n",
              " RelationRecord(items=frozenset({'CmentBd', 'Partial'}), support=0.010958904109589041, ordered_statistics=[OrderedStatistic(items_base=frozenset({'CmentBd'}), items_add=frozenset({'Partial'}), confidence=0.26666666666666666, lift=3.114666666666667)]),\n",
              " RelationRecord(items=frozenset({'Stone', 'CmentBd'}), support=0.013013698630136987, ordered_statistics=[OrderedStatistic(items_base=frozenset({'CmentBd'}), items_add=frozenset({'Stone'}), confidence=0.3166666666666667, lift=3.2331002331002336)]),\n",
              " RelationRecord(items=frozenset({'CmentBd', 'StoneBr'}), support=0.00410958904109589, ordered_statistics=[OrderedStatistic(items_base=frozenset({'StoneBr'}), items_add=frozenset({'CmentBd'}), confidence=0.24, lift=5.84)]),\n",
              " RelationRecord(items=frozenset({'Twnhs', 'CmentBd'}), support=0.0061643835616438354, ordered_statistics=[OrderedStatistic(items_base=frozenset({'Twnhs'}), items_add=frozenset({'CmentBd'}), confidence=0.20930232558139533, lift=5.093023255813954)]),\n",
              " RelationRecord(items=frozenset({'TwnhsE', 'CmentBd'}), support=0.011643835616438357, ordered_statistics=[OrderedStatistic(items_base=frozenset({'CmentBd'}), items_add=frozenset({'TwnhsE'}), confidence=0.2833333333333334, lift=3.6286549707602345)]),\n",
              " RelationRecord(items=frozenset({'Crawfor', 'HLS'}), support=0.00821917808219178, ordered_statistics=[OrderedStatistic(items_base=frozenset({'Crawfor'}), items_add=frozenset({'HLS'}), confidence=0.2352941176470588, lift=6.870588235294117), OrderedStatistic(items_base=frozenset({'HLS'}), items_add=frozenset({'Crawfor'}), confidence=0.24, lift=6.870588235294117)]),\n",
              " RelationRecord(items=frozenset({'Crawfor', 'Mod'}), support=0.00821917808219178, ordered_statistics=[OrderedStatistic(items_base=frozenset({'Crawfor'}), items_add=frozenset({'Mod'}), confidence=0.2352941176470588, lift=4.348473566641846)]),\n",
              " RelationRecord(items=frozenset({'Crawfor', 'Stucco'}), support=0.004794520547945206, ordered_statistics=[OrderedStatistic(items_base=frozenset({'Stucco'}), items_add=frozenset({'Crawfor'}), confidence=0.22580645161290325, lift=6.464263124604681)]),\n",
              " RelationRecord(items=frozenset({'CulDSac', 'Flat'}), support=0.00410958904109589, ordered_statistics=[OrderedStatistic(items_base=frozenset({'Flat'}), items_add=frozenset({'CulDSac'}), confidence=0.4615384615384615, lift=7.168576104746317)]),\n",
              " RelationRecord(items=frozenset({'CulDSac', 'IR2'}), support=0.009589041095890411, ordered_statistics=[OrderedStatistic(items_base=frozenset({'IR2'}), items_add=frozenset({'CulDSac'}), confidence=0.34146341463414637, lift=5.303580695381422)]),\n",
              " RelationRecord(items=frozenset({'CulDSac', 'Low'}), support=0.005479452054794521, ordered_statistics=[OrderedStatistic(items_base=frozenset({'Low'}), items_add=frozenset({'CulDSac'}), confidence=0.22222222222222224, lift=3.451536643026005)]),\n",
              " RelationRecord(items=frozenset({'CulDSac', 'Sev'}), support=0.003424657534246575, ordered_statistics=[OrderedStatistic(items_base=frozenset({'Sev'}), items_add=frozenset({'CulDSac'}), confidence=0.3571428571428571, lift=5.547112462006078)]),\n",
              " RelationRecord(items=frozenset({'CulDSac', 'StoneBr'}), support=0.00410958904109589, ordered_statistics=[OrderedStatistic(items_base=frozenset({'StoneBr'}), items_add=frozenset({'CulDSac'}), confidence=0.24, lift=3.727659574468085)]),\n",
              " RelationRecord(items=frozenset({'Detchd', 'Gambrel'}), support=0.00684931506849315, ordered_statistics=[OrderedStatistic(items_base=frozenset({'Gambrel'}), items_add=frozenset({'Detchd'}), confidence=0.9090909090909091, lift=3.0165289256198347)]),\n",
              " RelationRecord(items=frozenset({'Detchd', 'Po'}), support=0.007534246575342466, ordered_statistics=[OrderedStatistic(items_base=frozenset({'Po'}), items_add=frozenset({'Detchd'}), confidence=1.0, lift=3.3181818181818183)]),\n",
              " RelationRecord(items=frozenset({'Plywood', 'Duplex'}), support=0.011643835616438357, ordered_statistics=[OrderedStatistic(items_base=frozenset({'Duplex'}), items_add=frozenset({'Plywood'}), confidence=0.3269230769230769, lift=3.0994005994005995)]),\n",
              " RelationRecord(items=frozenset({'SFoyer', 'Duplex'}), support=0.0061643835616438354, ordered_statistics=[OrderedStatistic(items_base=frozenset({'SFoyer'}), items_add=frozenset({'Duplex'}), confidence=0.24324324324324323, lift=6.82952182952183)]),\n",
              " RelationRecord(items=frozenset({'Duplex', 'Slab'}), support=0.00684931506849315, ordered_statistics=[OrderedStatistic(items_base=frozenset({'Slab'}), items_add=frozenset({'Duplex'}), confidence=0.4166666666666667, lift=11.698717948717949)]),\n",
              " RelationRecord(items=frozenset({'FuseF', 'Edwards'}), support=0.0061643835616438354, ordered_statistics=[OrderedStatistic(items_base=frozenset({'FuseF'}), items_add=frozenset({'Edwards'}), confidence=0.3333333333333333, lift=4.866666666666666)]),\n",
              " RelationRecord(items=frozenset({'Edwards', 'Maj1'}), support=0.003424657534246575, ordered_statistics=[OrderedStatistic(items_base=frozenset({'Maj1'}), items_add=frozenset({'Edwards'}), confidence=0.3571428571428571, lift=5.2142857142857135)]),\n",
              " RelationRecord(items=frozenset({'P', 'Edwards'}), support=0.004794520547945206, ordered_statistics=[OrderedStatistic(items_base=frozenset({'P'}), items_add=frozenset({'Edwards'}), confidence=0.23333333333333336, lift=3.406666666666667)]),\n",
              " RelationRecord(items=frozenset({'Edwards', 'Slab'}), support=0.00410958904109589, ordered_statistics=[OrderedStatistic(items_base=frozenset({'Slab'}), items_add=frozenset({'Edwards'}), confidence=0.25, lift=3.6500000000000004)]),\n",
              " RelationRecord(items=frozenset({'WdShing', 'Edwards'}), support=0.00410958904109589, ordered_statistics=[OrderedStatistic(items_base=frozenset({'WdShing'}), items_add=frozenset({'Edwards'}), confidence=0.23076923076923075, lift=3.3692307692307693)]),\n",
              " RelationRecord(items=frozenset({'FV', 'New'}), support=0.015068493150684932, ordered_statistics=[OrderedStatistic(items_base=frozenset({'FV'}), items_add=frozenset({'New'}), confidence=0.3384615384615385, lift=4.050441361916771)]),\n",
              " RelationRecord(items=frozenset({'FV', 'Partial'}), support=0.015068493150684932, ordered_statistics=[OrderedStatistic(items_base=frozenset({'FV'}), items_add=frozenset({'Partial'}), confidence=0.3384615384615385, lift=3.9532307692307698)]),\n",
              " RelationRecord(items=frozenset({'FV', 'Somerst'}), support=0.04452054794520548, ordered_statistics=[OrderedStatistic(items_base=frozenset({'FV'}), items_add=frozenset({'Somerst'}), confidence=1.0, lift=16.97674418604651), OrderedStatistic(items_base=frozenset({'Somerst'}), items_add=frozenset({'FV'}), confidence=0.755813953488372, lift=16.97674418604651)]),\n",
              " RelationRecord(items=frozenset({'FV', 'Twnhs'}), support=0.0061643835616438354, ordered_statistics=[OrderedStatistic(items_base=frozenset({'Twnhs'}), items_add=frozenset({'FV'}), confidence=0.20930232558139533, lift=4.701252236135957)]),\n",
              " RelationRecord(items=frozenset({'FV', 'TwnhsE'}), support=0.012328767123287671, ordered_statistics=[OrderedStatistic(items_base=frozenset({'FV'}), items_add=frozenset({'TwnhsE'}), confidence=0.27692307692307694, lift=3.5465587044534415)]),\n",
              " RelationRecord(items=frozenset({'Fa', 'FuseA'}), support=0.0273972602739726, ordered_statistics=[OrderedStatistic(items_base=frozenset({'Fa'}), items_add=frozenset({'FuseA'}), confidence=0.20100502512562812, lift=3.121992943440607), OrderedStatistic(items_base=frozenset({'FuseA'}), items_add=frozenset({'Fa'}), confidence=0.425531914893617, lift=3.1219929434406075)]),\n",
              " RelationRecord(items=frozenset({'FuseF', 'Fa'}), support=0.013013698630136987, ordered_statistics=[OrderedStatistic(items_base=frozenset({'FuseF'}), items_add=frozenset({'Fa'}), confidence=0.7037037037037037, lift=5.16285129350456)]),\n",
              " RelationRecord(items=frozenset({'Fa', 'GasW'}), support=0.0061643835616438354, ordered_statistics=[OrderedStatistic(items_base=frozenset({'GasW'}), items_add=frozenset({'Fa'}), confidence=0.5, lift=3.6683417085427137)]),\n",
              " RelationRecord(items=frozenset({'Grav', 'Fa'}), support=0.004794520547945206, ordered_statistics=[OrderedStatistic(items_base=frozenset({'Grav'}), items_add=frozenset({'Fa'}), confidence=1.0, lift=7.336683417085427)]),\n",
              " RelationRecord(items=frozenset({'Fa', 'IDOTRR'}), support=0.010958904109589041, ordered_statistics=[OrderedStatistic(items_base=frozenset({'IDOTRR'}), items_add=frozenset({'Fa'}), confidence=0.43243243243243246, lift=3.172619856036942)]),\n",
              " RelationRecord(items=frozenset({'Fa', 'N'}), support=0.057534246575342465, ordered_statistics=[OrderedStatistic(items_base=frozenset({'Fa'}), items_add=frozenset({'N'}), confidence=0.4221105527638191, lift=4.081333821425005), OrderedStatistic(items_base=frozenset({'N'}), items_add=frozenset({'Fa'}), confidence=0.5562913907284768, lift=4.081333821425005)]),\n",
              " RelationRecord(items=frozenset({'OldTown', 'Fa'}), support=0.03767123287671233, ordered_statistics=[OrderedStatistic(items_base=frozenset({'Fa'}), items_add=frozenset({'OldTown'}), confidence=0.27638190954773867, lift=3.570952105661048), OrderedStatistic(items_base=frozenset({'OldTown'}), items_add=frozenset({'Fa'}), confidence=0.48672566371681414, lift=3.5709521056610485)]),\n",
              " RelationRecord(items=frozenset({'Fa', 'P'}), support=0.010273972602739725, ordered_statistics=[OrderedStatistic(items_base=frozenset({'P'}), items_add=frozenset({'Fa'}), confidence=0.5, lift=3.6683417085427137)]),\n",
              " RelationRecord(items=frozenset({'Fa', 'Po'}), support=0.00684931506849315, ordered_statistics=[OrderedStatistic(items_base=frozenset({'Po'}), items_add=frozenset({'Fa'}), confidence=0.9090909090909091, lift=6.669712197350388)]),\n",
              " RelationRecord(items=frozenset({'Fa', 'SWISU'}), support=0.007534246575342466, ordered_statistics=[OrderedStatistic(items_base=frozenset({'SWISU'}), items_add=frozenset({'Fa'}), confidence=0.44000000000000006, lift=3.2281407035175884)]),\n",
              " RelationRecord(items=frozenset({'Fa', 'Slab'}), support=0.008904109589041096, ordered_statistics=[OrderedStatistic(items_base=frozenset({'Slab'}), items_add=frozenset({'Fa'}), confidence=0.5416666666666667, lift=3.974036850921274)]),\n",
              " RelationRecord(items=frozenset({'Fa', 'Stucco'}), support=0.010958904109589041, ordered_statistics=[OrderedStatistic(items_base=frozenset({'Stucco'}), items_add=frozenset({'Fa'}), confidence=0.5161290322580645, lift=3.7866753120440912)]),\n",
              " RelationRecord(items=frozenset({'Feedr', 'SWISU'}), support=0.003424657534246575, ordered_statistics=[OrderedStatistic(items_base=frozenset({'SWISU'}), items_add=frozenset({'Feedr'}), confidence=0.2, lift=3.3953488372093026)]),\n",
              " RelationRecord(items=frozenset({'Low', 'Flat'}), support=0.003424657534246575, ordered_statistics=[OrderedStatistic(items_base=frozenset({'Flat'}), items_add=frozenset({'Low'}), confidence=0.3846153846153846, lift=15.598290598290598)]),\n",
              " RelationRecord(items=frozenset({'Plywood', 'Flat'}), support=0.0061643835616438354, ordered_statistics=[OrderedStatistic(items_base=frozenset({'Flat'}), items_add=frozenset({'Plywood'}), confidence=0.6923076923076923, lift=6.5634365634365635)]),\n",
              " RelationRecord(items=frozenset({'Sev', 'Flat'}), support=0.003424657534246575, ordered_statistics=[OrderedStatistic(items_base=frozenset({'Flat'}), items_add=frozenset({'Sev'}), confidence=0.3846153846153846, lift=40.1098901098901), OrderedStatistic(items_base=frozenset({'Sev'}), items_add=frozenset({'Flat'}), confidence=0.3571428571428571, lift=40.1098901098901)]),\n",
              " RelationRecord(items=frozenset({'Tar&Grv', 'Flat'}), support=0.00684931506849315, ordered_statistics=[OrderedStatistic(items_base=frozenset({'Flat'}), items_add=frozenset({'Tar&Grv'}), confidence=0.7692307692307692, lift=102.09790209790208), OrderedStatistic(items_base=frozenset({'Tar&Grv'}), items_add=frozenset({'Flat'}), confidence=0.9090909090909091, lift=102.0979020979021)]),\n",
              " RelationRecord(items=frozenset({'FuseA', 'IDOTRR'}), support=0.00684931506849315, ordered_statistics=[OrderedStatistic(items_base=frozenset({'IDOTRR'}), items_add=frozenset({'FuseA'}), confidence=0.27027027027027023, lift=4.197814836112708)]),\n",
              " RelationRecord(items=frozenset({'FuseF', 'N'}), support=0.0136986301369863, ordered_statistics=[OrderedStatistic(items_base=frozenset({'FuseF'}), items_add=frozenset({'N'}), confidence=0.7407407407407407, lift=7.162129016433651)]),\n",
              " RelationRecord(items=frozenset({'N', 'Gambrel'}), support=0.004794520547945206, ordered_statistics=[OrderedStatistic(items_base=frozenset({'Gambrel'}), items_add=frozenset({'N'}), confidence=0.6363636363636364, lift=6.152919927754365)]),\n",
              " RelationRecord(items=frozenset({'N', 'GasW'}), support=0.008904109589041096, ordered_statistics=[OrderedStatistic(items_base=frozenset({'GasW'}), items_add=frozenset({'N'}), confidence=0.7222222222222222, lift=6.98307579102281)]),\n",
              " RelationRecord(items=frozenset({'OldTown', 'GasW'}), support=0.005479452054794521, ordered_statistics=[OrderedStatistic(items_base=frozenset({'GasW'}), items_add=frozenset({'OldTown'}), confidence=0.4444444444444445, lift=5.742379547689283)]),\n",
              " RelationRecord(items=frozenset({'Stucco', 'GasW'}), support=0.00410958904109589, ordered_statistics=[OrderedStatistic(items_base=frozenset({'GasW'}), items_add=frozenset({'Stucco'}), confidence=0.3333333333333333, lift=15.698924731182796)]),\n",
              " RelationRecord(items=frozenset({'RRAn', 'Gilbert'}), support=0.005479452054794521, ordered_statistics=[OrderedStatistic(items_base=frozenset({'RRAn'}), items_add=frozenset({'Gilbert'}), confidence=0.2962962962962963, lift=5.475855602437881)]),\n",
              " RelationRecord(items=frozenset({'Grav', 'N'}), support=0.004794520547945206, ordered_statistics=[OrderedStatistic(items_base=frozenset({'Grav'}), items_add=frozenset({'N'}), confidence=1.0, lift=9.66887417218543)]),\n",
              " RelationRecord(items=frozenset({'HLS', 'Mod'}), support=0.010958904109589041, ordered_statistics=[OrderedStatistic(items_base=frozenset({'HLS'}), items_add=frozenset({'Mod'}), confidence=0.32, lift=5.913924050632912), OrderedStatistic(items_base=frozenset({'Mod'}), items_add=frozenset({'HLS'}), confidence=0.20253164556962025, lift=5.913924050632912)]),\n",
              " RelationRecord(items=frozenset({'HLS', 'StoneBr'}), support=0.00410958904109589, ordered_statistics=[OrderedStatistic(items_base=frozenset({'StoneBr'}), items_add=frozenset({'HLS'}), confidence=0.24, lift=7.008)]),\n",
              " RelationRecord(items=frozenset({'HLS', 'Timber'}), support=0.00684931506849315, ordered_statistics=[OrderedStatistic(items_base=frozenset({'HLS'}), items_add=frozenset({'Timber'}), confidence=0.2, lift=7.684210526315789), OrderedStatistic(items_base=frozenset({'Timber'}), items_add=frozenset({'HLS'}), confidence=0.2631578947368421, lift=7.684210526315789)]),\n",
              " RelationRecord(items=frozenset({'N', 'IDOTRR'}), support=0.014383561643835616, ordered_statistics=[OrderedStatistic(items_base=frozenset({'IDOTRR'}), items_add=frozenset({'N'}), confidence=0.5675675675675675, lift=5.487739395024163)]),\n",
              " RelationRecord(items=frozenset({'RM', 'IDOTRR'}), support=0.019178082191780823, ordered_statistics=[OrderedStatistic(items_base=frozenset({'IDOTRR'}), items_add=frozenset({'RM'}), confidence=0.7567567567567568, lift=5.068187453508555)]),\n",
              " RelationRecord(items=frozenset({'Mod', 'Low'}), support=0.013013698630136987, ordered_statistics=[OrderedStatistic(items_base=frozenset({'Low'}), items_add=frozenset({'Mod'}), confidence=0.5277777777777778, lift=9.753867791842476), OrderedStatistic(items_base=frozenset({'Mod'}), items_add=frozenset({'Low'}), confidence=0.24050632911392406, lift=9.753867791842476)]),\n",
              " RelationRecord(items=frozenset({'Sev', 'Low'}), support=0.0061643835616438354, ordered_statistics=[OrderedStatistic(items_base=frozenset({'Low'}), items_add=frozenset({'Sev'}), confidence=0.25, lift=26.07142857142857), OrderedStatistic(items_base=frozenset({'Sev'}), items_add=frozenset({'Low'}), confidence=0.6428571428571428, lift=26.07142857142857)]),\n",
              " RelationRecord(items=frozenset({'Min1', 'LwQ'}), support=0.005479452054794521, ordered_statistics=[OrderedStatistic(items_base=frozenset({'Min1'}), items_add=frozenset({'LwQ'}), confidence=0.25806451612903225, lift=3.139784946236559)]),\n",
              " RelationRecord(items=frozenset({'Stone', 'Maj1'}), support=0.003424657534246575, ordered_statistics=[OrderedStatistic(items_base=frozenset({'Maj1'}), items_add=frozenset({'Stone'}), confidence=0.3571428571428571, lift=3.6463536463536457)]),\n",
              " RelationRecord(items=frozenset({'RM', 'MeadowV'}), support=0.011643835616438357, ordered_statistics=[OrderedStatistic(items_base=frozenset({'MeadowV'}), items_add=frozenset({'RM'}), confidence=1.0, lift=6.697247706422019)]),\n",
              " RelationRecord(items=frozenset({'SFoyer', 'MeadowV'}), support=0.00410958904109589, ordered_statistics=[OrderedStatistic(items_base=frozenset({'MeadowV'}), items_add=frozenset({'SFoyer'}), confidence=0.3529411764705882, lift=13.926868044515102)]),\n",
              " RelationRecord(items=frozenset({'Twnhs', 'MeadowV'}), support=0.004794520547945206, ordered_statistics=[OrderedStatistic(items_base=frozenset({'MeadowV'}), items_add=frozenset({'Twnhs'}), confidence=0.4117647058823529, lift=13.980848153214774)]),\n",
              " RelationRecord(items=frozenset({'TwnhsE', 'MeadowV'}), support=0.00684931506849315, ordered_statistics=[OrderedStatistic(items_base=frozenset({'MeadowV'}), items_add=frozenset({'TwnhsE'}), confidence=0.588235294117647, lift=7.533539731682145)]),\n",
              " RelationRecord(items=frozenset({'OldTown', 'Min2'}), support=0.005479452054794521, ordered_statistics=[OrderedStatistic(items_base=frozenset({'Min2'}), items_add=frozenset({'OldTown'}), confidence=0.23529411764705882, lift=3.040083289953149)]),\n",
              " RelationRecord(items=frozenset({'Min2', 'Sawyer'}), support=0.004794520547945206, ordered_statistics=[OrderedStatistic(items_base=frozenset({'Min2'}), items_add=frozenset({'Sawyer'}), confidence=0.20588235294117646, lift=4.0620031796502385)]),\n",
              " RelationRecord(items=frozenset({'OldTown', 'N'}), support=0.030821917808219176, ordered_statistics=[OrderedStatistic(items_base=frozenset({'N'}), items_add=frozenset({'OldTown'}), confidence=0.29801324503311255, lift=3.8504366172419853), OrderedStatistic(items_base=frozenset({'OldTown'}), items_add=frozenset({'N'}), confidence=0.3982300884955752, lift=3.850436617241985)]),\n",
              " RelationRecord(items=frozenset({'N', 'Po'}), support=0.0061643835616438354, ordered_statistics=[OrderedStatistic(items_base=frozenset({'Po'}), items_add=frozenset({'N'}), confidence=0.8181818181818181, lift=7.910897049969897)]),\n",
              " RelationRecord(items=frozenset({'RH', 'N'}), support=0.0061643835616438354, ordered_statistics=[OrderedStatistic(items_base=frozenset({'RH'}), items_add=frozenset({'N'}), confidence=0.5625, lift=5.438741721854305)]),\n",
              " RelationRecord(items=frozenset({'N', 'SWISU'}), support=0.0061643835616438354, ordered_statistics=[OrderedStatistic(items_base=frozenset({'SWISU'}), items_add=frozenset({'N'}), confidence=0.36, lift=3.4807947019867544)]),\n",
              " RelationRecord(items=frozenset({'N', 'Slab'}), support=0.00684931506849315, ordered_statistics=[OrderedStatistic(items_base=frozenset({'Slab'}), items_add=frozenset({'N'}), confidence=0.4166666666666667, lift=4.02869757174393)]),\n",
              " RelationRecord(items=frozenset({'Stucco', 'N'}), support=0.00821917808219178, ordered_statistics=[OrderedStatistic(items_base=frozenset({'Stucco'}), items_add=frozenset({'N'}), confidence=0.3870967741935484, lift=3.7427900021362954)]),\n",
              " RelationRecord(items=frozenset({'NPkVill', 'Plywood'}), support=0.0061643835616438354, ordered_statistics=[OrderedStatistic(items_base=frozenset({'NPkVill'}), items_add=frozenset({'Plywood'}), confidence=1.0, lift=9.480519480519481)]),\n",
              " RelationRecord(items=frozenset({'NPkVill', 'TwnhsE'}), support=0.00410958904109589, ordered_statistics=[OrderedStatistic(items_base=frozenset({'NPkVill'}), items_add=frozenset({'TwnhsE'}), confidence=0.6666666666666666, lift=8.538011695906432)]),\n",
              " RelationRecord(items=frozenset({'NWAmes', 'PosN'}), support=0.00410958904109589, ordered_statistics=[OrderedStatistic(items_base=frozenset({'PosN'}), items_add=frozenset({'NWAmes'}), confidence=0.3157894736842105, lift=6.31578947368421)]),\n",
              " RelationRecord(items=frozenset({'NWAmes', 'RRAn'}), support=0.004794520547945206, ordered_statistics=[OrderedStatistic(items_base=frozenset({'RRAn'}), items_add=frozenset({'NWAmes'}), confidence=0.25925925925925924, lift=5.185185185185184)]),\n",
              " RelationRecord(items=frozenset({'NridgHt', 'New'}), support=0.021917808219178082, ordered_statistics=[OrderedStatistic(items_base=frozenset({'New'}), items_add=frozenset({'NridgHt'}), confidence=0.26229508196721313, lift=4.973387268469236), OrderedStatistic(items_base=frozenset({'NridgHt'}), items_add=frozenset({'New'}), confidence=0.4155844155844156, lift=4.973387268469236)]),\n",
              " RelationRecord(items=frozenset({'Partial', 'New'}), support=0.08356164383561644, ordered_statistics=[OrderedStatistic(items_base=frozenset({'New'}), items_add=frozenset({'Partial'}), confidence=1.0, lift=11.680000000000001), OrderedStatistic(items_base=frozenset({'Partial'}), items_add=frozenset({'New'}), confidence=0.9760000000000001, lift=11.68)]),\n",
              " RelationRecord(items=frozenset({'Somerst', 'New'}), support=0.021917808219178082, ordered_statistics=[OrderedStatistic(items_base=frozenset({'New'}), items_add=frozenset({'Somerst'}), confidence=0.26229508196721313, lift=4.452916507815479), OrderedStatistic(items_base=frozenset({'Somerst'}), items_add=frozenset({'New'}), confidence=0.37209302325581395, lift=4.452916507815478)]),\n",
              " RelationRecord(items=frozenset({'Stone', 'New'}), support=0.03493150684931507, ordered_statistics=[OrderedStatistic(items_base=frozenset({'New'}), items_add=frozenset({'Stone'}), confidence=0.4180327868852459, lift=4.268027054912301), OrderedStatistic(items_base=frozenset({'Stone'}), items_add=frozenset({'New'}), confidence=0.35664335664335667, lift=4.2680270549123005)]),\n",
              " RelationRecord(items=frozenset({'StoneBr', 'New'}), support=0.005479452054794521, ordered_statistics=[OrderedStatistic(items_base=frozenset({'StoneBr'}), items_add=frozenset({'New'}), confidence=0.32, lift=3.8295081967213114)]),\n",
              " RelationRecord(items=frozenset({'NridgHt', 'Partial'}), support=0.021917808219178082, ordered_statistics=[OrderedStatistic(items_base=frozenset({'NridgHt'}), items_add=frozenset({'Partial'}), confidence=0.4155844155844156, lift=4.854025974025975), OrderedStatistic(items_base=frozenset({'Partial'}), items_add=frozenset({'NridgHt'}), confidence=0.256, lift=4.854025974025975)]),\n",
              " RelationRecord(items=frozenset({'NridgHt', 'Stone'}), support=0.028767123287671233, ordered_statistics=[OrderedStatistic(items_base=frozenset({'NridgHt'}), items_add=frozenset({'Stone'}), confidence=0.5454545454545454, lift=5.568976478067387), OrderedStatistic(items_base=frozenset({'Stone'}), items_add=frozenset({'NridgHt'}), confidence=0.2937062937062937, lift=5.568976478067387)]),\n",
              " RelationRecord(items=frozenset({'RM', 'OldTown'}), support=0.06506849315068493, ordered_statistics=[OrderedStatistic(items_base=frozenset({'OldTown'}), items_add=frozenset({'RM'}), confidence=0.8407079646017699, lift=5.630429487699927), OrderedStatistic(items_base=frozenset({'RM'}), items_add=frozenset({'OldTown'}), confidence=0.43577981651376146, lift=5.630429487699927)]),\n",
              " RelationRecord(items=frozenset({'OldTown', 'Stucco'}), support=0.00684931506849315, ordered_statistics=[OrderedStatistic(items_base=frozenset({'Stucco'}), items_add=frozenset({'OldTown'}), confidence=0.3225806451612903, lift=4.167856123322866)]),\n",
              " RelationRecord(items=frozenset({'Somerst', 'Partial'}), support=0.022602739726027398, ordered_statistics=[OrderedStatistic(items_base=frozenset({'Partial'}), items_add=frozenset({'Somerst'}), confidence=0.264, lift=4.481860465116279), OrderedStatistic(items_base=frozenset({'Somerst'}), items_add=frozenset({'Partial'}), confidence=0.38372093023255816, lift=4.48186046511628)]),\n",
              " RelationRecord(items=frozenset({'Stone', 'Partial'}), support=0.03561643835616438, ordered_statistics=[OrderedStatistic(items_base=frozenset({'Partial'}), items_add=frozenset({'Stone'}), confidence=0.41600000000000004, lift=4.247272727272728), OrderedStatistic(items_base=frozenset({'Stone'}), items_add=frozenset({'Partial'}), confidence=0.36363636363636365, lift=4.247272727272728)]),\n",
              " RelationRecord(items=frozenset({'StoneBr', 'Partial'}), support=0.005479452054794521, ordered_statistics=[OrderedStatistic(items_base=frozenset({'StoneBr'}), items_add=frozenset({'Partial'}), confidence=0.32, lift=3.7376000000000005)]),\n",
              " RelationRecord(items=frozenset({'Sev', 'Plywood'}), support=0.005479452054794521, ordered_statistics=[OrderedStatistic(items_base=frozenset({'Sev'}), items_add=frozenset({'Plywood'}), confidence=0.5714285714285714, lift=5.417439703153989)]),\n",
              " RelationRecord(items=frozenset({'Plywood', 'Tar&Grv'}), support=0.004794520547945206, ordered_statistics=[OrderedStatistic(items_base=frozenset({'Tar&Grv'}), items_add=frozenset({'Plywood'}), confidence=0.6363636363636364, lift=6.033057851239669)]),\n",
              " RelationRecord(items=frozenset({'Plywood', 'Veenker'}), support=0.003424657534246575, ordered_statistics=[OrderedStatistic(items_base=frozenset({'Veenker'}), items_add=frozenset({'Plywood'}), confidence=0.45454545454545453, lift=4.309327036599764)]),\n",
              " RelationRecord(items=frozenset({'RM', 'Po'}), support=0.003424657534246575, ordered_statistics=[OrderedStatistic(items_base=frozenset({'Po'}), items_add=frozenset({'RM'}), confidence=0.45454545454545453, lift=3.0442035029190992)]),\n",
              " RelationRecord(items=frozenset({'RH', 'SWISU'}), support=0.003424657534246575, ordered_statistics=[OrderedStatistic(items_base=frozenset({'RH'}), items_add=frozenset({'SWISU'}), confidence=0.3125, lift=18.25), OrderedStatistic(items_base=frozenset({'SWISU'}), items_add=frozenset({'RH'}), confidence=0.2, lift=18.25)]),\n",
              " RelationRecord(items=frozenset({'RH', 'SawyerW'}), support=0.003424657534246575, ordered_statistics=[OrderedStatistic(items_base=frozenset({'RH'}), items_add=frozenset({'SawyerW'}), confidence=0.3125, lift=7.733050847457627)]),\n",
              " RelationRecord(items=frozenset({'RM', 'Twnhs'}), support=0.01643835616438356, ordered_statistics=[OrderedStatistic(items_base=frozenset({'Twnhs'}), items_add=frozenset({'RM'}), confidence=0.5581395348837209, lift=3.737998719863452)]),\n",
              " RelationRecord(items=frozenset({'RRAe', 'Sawyer'}), support=0.004794520547945206, ordered_statistics=[OrderedStatistic(items_base=frozenset({'RRAe'}), items_add=frozenset({'Sawyer'}), confidence=0.5833333333333334, lift=11.50900900900901)]),\n",
              " RelationRecord(items=frozenset({'Wd Sdng', 'SWISU'}), support=0.010273972602739725, ordered_statistics=[OrderedStatistic(items_base=frozenset({'SWISU'}), items_add=frozenset({'Wd Sdng'}), confidence=0.6, lift=3.8761061946902653)]),\n",
              " RelationRecord(items=frozenset({'Somerst', 'Stone'}), support=0.01986301369863014, ordered_statistics=[OrderedStatistic(items_base=frozenset({'Somerst'}), items_add=frozenset({'Stone'}), confidence=0.33720930232558144, lift=3.4428362335339084), OrderedStatistic(items_base=frozenset({'Stone'}), items_add=frozenset({'Somerst'}), confidence=0.2027972027972028, lift=3.442836233533908)]),\n",
              " RelationRecord(items=frozenset({'Somerst', 'Twnhs'}), support=0.0061643835616438354, ordered_statistics=[OrderedStatistic(items_base=frozenset({'Twnhs'}), items_add=frozenset({'Somerst'}), confidence=0.20930232558139533, lift=3.553272038939967)]),\n",
              " RelationRecord(items=frozenset({'TwnhsE', 'StoneBr'}), support=0.00821917808219178, ordered_statistics=[OrderedStatistic(items_base=frozenset({'StoneBr'}), items_add=frozenset({'TwnhsE'}), confidence=0.48, lift=6.147368421052631)]),\n",
              " RelationRecord(items=frozenset({'WdShing', 'Wd Shng'}), support=0.011643835616438357, ordered_statistics=[OrderedStatistic(items_base=frozenset({'Wd Shng'}), items_add=frozenset({'WdShing'}), confidence=0.4473684210526316, lift=25.121457489878544), OrderedStatistic(items_base=frozenset({'WdShing'}), items_add=frozenset({'Wd Shng'}), confidence=0.6538461538461539, lift=25.12145748987854)])]"
            ]
          },
          "metadata": {},
          "execution_count": 16
        }
      ]
    },
    {
      "cell_type": "code",
      "metadata": {
        "id": "Km8HFhQFyn1L"
      },
      "source": [
        "def inspect(results):\n",
        "    lhs         = [tuple(result[2][0][0])[0] for result in results]\n",
        "    rhs         = [tuple(result[2][0][1])[0] for result in results]\n",
        "    supports    = [result[1] for result in results]\n",
        "    confidences = [result[2][0][2] for result in results]\n",
        "    lifts       = [result[2][0][3] for result in results]\n",
        "    return list(zip(lhs, rhs, supports, confidences, lifts))\n",
        "resultsinDataFrame = pd.DataFrame(inspect(results), columns = ['Left Hand Side', 'Right Hand Side', 'Support', 'Confidence', 'Lift'])"
      ],
      "execution_count": 17,
      "outputs": []
    },
    {
      "cell_type": "code",
      "metadata": {
        "colab": {
          "base_uri": "https://localhost:8080/",
          "height": 552
        },
        "id": "sB09Faocyp_H",
        "outputId": "3b1752d8-2a84-4ea7-af6a-210aae36f952"
      },
      "source": [
        "resultsinDataFrame[resultsinDataFrame['Left Hand Side'].isin(labels)].sort_values(by=['Support','Confidence','Lift'], ascending=False)"
      ],
      "execution_count": 18,
      "outputs": [
        {
          "output_type": "execute_result",
          "data": {
            "text/html": [
              "<div>\n",
              "<style scoped>\n",
              "    .dataframe tbody tr th:only-of-type {\n",
              "        vertical-align: middle;\n",
              "    }\n",
              "\n",
              "    .dataframe tbody tr th {\n",
              "        vertical-align: top;\n",
              "    }\n",
              "\n",
              "    .dataframe thead th {\n",
              "        text-align: right;\n",
              "    }\n",
              "</style>\n",
              "<table border=\"1\" class=\"dataframe\">\n",
              "  <thead>\n",
              "    <tr style=\"text-align: right;\">\n",
              "      <th></th>\n",
              "      <th>Left Hand Side</th>\n",
              "      <th>Right Hand Side</th>\n",
              "      <th>Support</th>\n",
              "      <th>Confidence</th>\n",
              "      <th>Lift</th>\n",
              "    </tr>\n",
              "  </thead>\n",
              "  <tbody>\n",
              "    <tr>\n",
              "      <th>35</th>\n",
              "      <td>34900 - 104899</td>\n",
              "      <td>Fa</td>\n",
              "      <td>0.045890</td>\n",
              "      <td>0.544715</td>\n",
              "      <td>3.996405</td>\n",
              "    </tr>\n",
              "    <tr>\n",
              "      <th>41</th>\n",
              "      <td>34900 - 104899</td>\n",
              "      <td>N</td>\n",
              "      <td>0.043151</td>\n",
              "      <td>0.512195</td>\n",
              "      <td>4.952350</td>\n",
              "    </tr>\n",
              "    <tr>\n",
              "      <th>43</th>\n",
              "      <td>34900 - 104899</td>\n",
              "      <td>RM</td>\n",
              "      <td>0.038356</td>\n",
              "      <td>0.455285</td>\n",
              "      <td>3.049153</td>\n",
              "    </tr>\n",
              "    <tr>\n",
              "      <th>36</th>\n",
              "      <td>34900 - 104899</td>\n",
              "      <td>FuseA</td>\n",
              "      <td>0.017123</td>\n",
              "      <td>0.203252</td>\n",
              "      <td>3.156893</td>\n",
              "    </tr>\n",
              "    <tr>\n",
              "      <th>47</th>\n",
              "      <td>384900 - 454899</td>\n",
              "      <td>Fin</td>\n",
              "      <td>0.016438</td>\n",
              "      <td>0.774194</td>\n",
              "      <td>3.211144</td>\n",
              "    </tr>\n",
              "    <tr>\n",
              "      <th>30</th>\n",
              "      <td>314900 - 384899</td>\n",
              "      <td>Stone</td>\n",
              "      <td>0.014384</td>\n",
              "      <td>0.313433</td>\n",
              "      <td>3.200083</td>\n",
              "    </tr>\n",
              "    <tr>\n",
              "      <th>48</th>\n",
              "      <td>384900 - 454899</td>\n",
              "      <td>Hip</td>\n",
              "      <td>0.013699</td>\n",
              "      <td>0.645161</td>\n",
              "      <td>3.293481</td>\n",
              "    </tr>\n",
              "    <tr>\n",
              "      <th>29</th>\n",
              "      <td>314900 - 384899</td>\n",
              "      <td>NridgHt</td>\n",
              "      <td>0.013699</td>\n",
              "      <td>0.298507</td>\n",
              "      <td>5.660012</td>\n",
              "    </tr>\n",
              "    <tr>\n",
              "      <th>49</th>\n",
              "      <td>384900 - 454899</td>\n",
              "      <td>New</td>\n",
              "      <td>0.012329</td>\n",
              "      <td>0.580645</td>\n",
              "      <td>6.948704</td>\n",
              "    </tr>\n",
              "    <tr>\n",
              "      <th>51</th>\n",
              "      <td>384900 - 454899</td>\n",
              "      <td>Partial</td>\n",
              "      <td>0.012329</td>\n",
              "      <td>0.580645</td>\n",
              "      <td>6.781935</td>\n",
              "    </tr>\n",
              "    <tr>\n",
              "      <th>50</th>\n",
              "      <td>384900 - 454899</td>\n",
              "      <td>NridgHt</td>\n",
              "      <td>0.008904</td>\n",
              "      <td>0.419355</td>\n",
              "      <td>7.951403</td>\n",
              "    </tr>\n",
              "    <tr>\n",
              "      <th>52</th>\n",
              "      <td>384900 - 454899</td>\n",
              "      <td>Stone</td>\n",
              "      <td>0.008219</td>\n",
              "      <td>0.387097</td>\n",
              "      <td>3.952177</td>\n",
              "    </tr>\n",
              "    <tr>\n",
              "      <th>55</th>\n",
              "      <td>454900 - 524899</td>\n",
              "      <td>NridgHt</td>\n",
              "      <td>0.004110</td>\n",
              "      <td>0.600000</td>\n",
              "      <td>11.376623</td>\n",
              "    </tr>\n",
              "    <tr>\n",
              "      <th>54</th>\n",
              "      <td>454900 - 524899</td>\n",
              "      <td>New</td>\n",
              "      <td>0.004110</td>\n",
              "      <td>0.600000</td>\n",
              "      <td>7.180328</td>\n",
              "    </tr>\n",
              "    <tr>\n",
              "      <th>56</th>\n",
              "      <td>454900 - 524899</td>\n",
              "      <td>Partial</td>\n",
              "      <td>0.004110</td>\n",
              "      <td>0.600000</td>\n",
              "      <td>7.008000</td>\n",
              "    </tr>\n",
              "    <tr>\n",
              "      <th>53</th>\n",
              "      <td>454900 - 524899</td>\n",
              "      <td>Hip</td>\n",
              "      <td>0.004110</td>\n",
              "      <td>0.600000</td>\n",
              "      <td>3.062937</td>\n",
              "    </tr>\n",
              "  </tbody>\n",
              "</table>\n",
              "</div>"
            ],
            "text/plain": [
              "     Left Hand Side Right Hand Side   Support  Confidence       Lift\n",
              "35   34900 - 104899              Fa  0.045890    0.544715   3.996405\n",
              "41   34900 - 104899               N  0.043151    0.512195   4.952350\n",
              "43   34900 - 104899              RM  0.038356    0.455285   3.049153\n",
              "36   34900 - 104899           FuseA  0.017123    0.203252   3.156893\n",
              "47  384900 - 454899             Fin  0.016438    0.774194   3.211144\n",
              "30  314900 - 384899           Stone  0.014384    0.313433   3.200083\n",
              "48  384900 - 454899             Hip  0.013699    0.645161   3.293481\n",
              "29  314900 - 384899         NridgHt  0.013699    0.298507   5.660012\n",
              "49  384900 - 454899             New  0.012329    0.580645   6.948704\n",
              "51  384900 - 454899         Partial  0.012329    0.580645   6.781935\n",
              "50  384900 - 454899         NridgHt  0.008904    0.419355   7.951403\n",
              "52  384900 - 454899           Stone  0.008219    0.387097   3.952177\n",
              "55  454900 - 524899         NridgHt  0.004110    0.600000  11.376623\n",
              "54  454900 - 524899             New  0.004110    0.600000   7.180328\n",
              "56  454900 - 524899         Partial  0.004110    0.600000   7.008000\n",
              "53  454900 - 524899             Hip  0.004110    0.600000   3.062937"
            ]
          },
          "metadata": {},
          "execution_count": 18
        }
      ]
    },
    {
      "cell_type": "code",
      "metadata": {
        "colab": {
          "base_uri": "https://localhost:8080/",
          "height": 520
        },
        "id": "7qqGaLaG5hJT",
        "outputId": "6588e088-cdef-485c-910f-60b36031f708"
      },
      "source": [
        "resultsinDataFrame[resultsinDataFrame['Right Hand Side'].isin(labels)].sort_values(by=['Support','Confidence','Lift'], ascending=False)"
      ],
      "execution_count": 19,
      "outputs": [
        {
          "output_type": "execute_result",
          "data": {
            "text/html": [
              "<div>\n",
              "<style scoped>\n",
              "    .dataframe tbody tr th:only-of-type {\n",
              "        vertical-align: middle;\n",
              "    }\n",
              "\n",
              "    .dataframe tbody tr th {\n",
              "        vertical-align: top;\n",
              "    }\n",
              "\n",
              "    .dataframe thead th {\n",
              "        text-align: right;\n",
              "    }\n",
              "</style>\n",
              "<table border=\"1\" class=\"dataframe\">\n",
              "  <thead>\n",
              "    <tr style=\"text-align: right;\">\n",
              "      <th></th>\n",
              "      <th>Left Hand Side</th>\n",
              "      <th>Right Hand Side</th>\n",
              "      <th>Support</th>\n",
              "      <th>Confidence</th>\n",
              "      <th>Lift</th>\n",
              "    </tr>\n",
              "  </thead>\n",
              "  <tbody>\n",
              "    <tr>\n",
              "      <th>22</th>\n",
              "      <td>NoRidge</td>\n",
              "      <td>244900 - 314899</td>\n",
              "      <td>0.012329</td>\n",
              "      <td>0.439024</td>\n",
              "      <td>3.748395</td>\n",
              "    </tr>\n",
              "    <tr>\n",
              "      <th>39</th>\n",
              "      <td>IDOTRR</td>\n",
              "      <td>34900 - 104899</td>\n",
              "      <td>0.010959</td>\n",
              "      <td>0.432432</td>\n",
              "      <td>5.132938</td>\n",
              "    </tr>\n",
              "    <tr>\n",
              "      <th>33</th>\n",
              "      <td>BrkSide</td>\n",
              "      <td>34900 - 104899</td>\n",
              "      <td>0.010274</td>\n",
              "      <td>0.258621</td>\n",
              "      <td>3.069807</td>\n",
              "    </tr>\n",
              "    <tr>\n",
              "      <th>28</th>\n",
              "      <td>NoRidge</td>\n",
              "      <td>314900 - 384899</td>\n",
              "      <td>0.008904</td>\n",
              "      <td>0.317073</td>\n",
              "      <td>6.909356</td>\n",
              "    </tr>\n",
              "    <tr>\n",
              "      <th>46</th>\n",
              "      <td>Twnhs</td>\n",
              "      <td>34900 - 104899</td>\n",
              "      <td>0.008904</td>\n",
              "      <td>0.302326</td>\n",
              "      <td>3.588580</td>\n",
              "    </tr>\n",
              "    <tr>\n",
              "      <th>40</th>\n",
              "      <td>MeadowV</td>\n",
              "      <td>34900 - 104899</td>\n",
              "      <td>0.008219</td>\n",
              "      <td>0.705882</td>\n",
              "      <td>8.378766</td>\n",
              "    </tr>\n",
              "    <tr>\n",
              "      <th>44</th>\n",
              "      <td>Slab</td>\n",
              "      <td>34900 - 104899</td>\n",
              "      <td>0.007534</td>\n",
              "      <td>0.458333</td>\n",
              "      <td>5.440379</td>\n",
              "    </tr>\n",
              "    <tr>\n",
              "      <th>37</th>\n",
              "      <td>FuseF</td>\n",
              "      <td>34900 - 104899</td>\n",
              "      <td>0.007534</td>\n",
              "      <td>0.407407</td>\n",
              "      <td>4.835893</td>\n",
              "    </tr>\n",
              "    <tr>\n",
              "      <th>31</th>\n",
              "      <td>AsbShng</td>\n",
              "      <td>34900 - 104899</td>\n",
              "      <td>0.006164</td>\n",
              "      <td>0.391304</td>\n",
              "      <td>4.644751</td>\n",
              "    </tr>\n",
              "    <tr>\n",
              "      <th>45</th>\n",
              "      <td>Stucco</td>\n",
              "      <td>34900 - 104899</td>\n",
              "      <td>0.006164</td>\n",
              "      <td>0.290323</td>\n",
              "      <td>3.446105</td>\n",
              "    </tr>\n",
              "    <tr>\n",
              "      <th>34</th>\n",
              "      <td>C (all)</td>\n",
              "      <td>34900 - 104899</td>\n",
              "      <td>0.004795</td>\n",
              "      <td>0.700000</td>\n",
              "      <td>8.308943</td>\n",
              "    </tr>\n",
              "    <tr>\n",
              "      <th>32</th>\n",
              "      <td>BrDale</td>\n",
              "      <td>34900 - 104899</td>\n",
              "      <td>0.004795</td>\n",
              "      <td>0.437500</td>\n",
              "      <td>5.193089</td>\n",
              "    </tr>\n",
              "    <tr>\n",
              "      <th>38</th>\n",
              "      <td>Grav</td>\n",
              "      <td>34900 - 104899</td>\n",
              "      <td>0.004110</td>\n",
              "      <td>0.857143</td>\n",
              "      <td>10.174216</td>\n",
              "    </tr>\n",
              "    <tr>\n",
              "      <th>42</th>\n",
              "      <td>Po</td>\n",
              "      <td>34900 - 104899</td>\n",
              "      <td>0.004110</td>\n",
              "      <td>0.545455</td>\n",
              "      <td>6.474501</td>\n",
              "    </tr>\n",
              "    <tr>\n",
              "      <th>21</th>\n",
              "      <td>Flat</td>\n",
              "      <td>244900 - 314899</td>\n",
              "      <td>0.004110</td>\n",
              "      <td>0.461538</td>\n",
              "      <td>3.940621</td>\n",
              "    </tr>\n",
              "  </tbody>\n",
              "</table>\n",
              "</div>"
            ],
            "text/plain": [
              "   Left Hand Side  Right Hand Side   Support  Confidence       Lift\n",
              "22        NoRidge  244900 - 314899  0.012329    0.439024   3.748395\n",
              "39         IDOTRR   34900 - 104899  0.010959    0.432432   5.132938\n",
              "33        BrkSide   34900 - 104899  0.010274    0.258621   3.069807\n",
              "28        NoRidge  314900 - 384899  0.008904    0.317073   6.909356\n",
              "46          Twnhs   34900 - 104899  0.008904    0.302326   3.588580\n",
              "40        MeadowV   34900 - 104899  0.008219    0.705882   8.378766\n",
              "44           Slab   34900 - 104899  0.007534    0.458333   5.440379\n",
              "37          FuseF   34900 - 104899  0.007534    0.407407   4.835893\n",
              "31        AsbShng   34900 - 104899  0.006164    0.391304   4.644751\n",
              "45         Stucco   34900 - 104899  0.006164    0.290323   3.446105\n",
              "34        C (all)   34900 - 104899  0.004795    0.700000   8.308943\n",
              "32         BrDale   34900 - 104899  0.004795    0.437500   5.193089\n",
              "38           Grav   34900 - 104899  0.004110    0.857143  10.174216\n",
              "42             Po   34900 - 104899  0.004110    0.545455   6.474501\n",
              "21           Flat  244900 - 314899  0.004110    0.461538   3.940621"
            ]
          },
          "metadata": {},
          "execution_count": 19
        }
      ]
    },
    {
      "cell_type": "markdown",
      "metadata": {
        "id": "L4-NOXlz34UR"
      },
      "source": [
        "Visualization"
      ]
    },
    {
      "cell_type": "code",
      "metadata": {
        "id": "rJf519GOvKiv"
      },
      "source": [
        "dict_plot_rmsle = dict(sorted(dict_plot_rmsle.items(), key=lambda x: x[1]))\n",
        "dict_plot_acc = dict(sorted(dict_plot_acc.items(), key=lambda x: -x[1]))"
      ],
      "execution_count": 20,
      "outputs": []
    },
    {
      "cell_type": "code",
      "metadata": {
        "id": "9I_XtXvHGfHZ",
        "colab": {
          "base_uri": "https://localhost:8080/",
          "height": 620
        },
        "outputId": "fade533e-84a1-4e3e-8919-39ec0598a050"
      },
      "source": [
        "features = list(dict_plot_rmsle.keys())\n",
        "rmsle = list(dict_plot_rmsle.values())\n",
        "\n",
        "fig = plt.figure(figsize = (20, 10))\n",
        " \n",
        "# creating the bar plot\n",
        "plt.bar(features, rmsle, color ='red', width = 0.4)\n",
        " \n",
        "plt.xlabel(\"PREDICTED FEATURES\")\n",
        "plt.ylabel(\"RMSLE\")\n",
        "plt.title(\"Predict and Fill Up the CATEGORICAL Missing Values using DataWig\")\n",
        "plt.show()"
      ],
      "execution_count": 21,
      "outputs": [
        {
          "output_type": "display_data",
          "data": {
            "image/png": "[encoded data removed]",
            "text/plain": [
              "<Figure size 1440x720 with 1 Axes>"
            ]
          },
          "metadata": {
            "needs_background": "light"
          }
        }
      ]
    },
    {
      "cell_type": "code",
      "metadata": {
        "id": "hIO3gEarot3m",
        "colab": {
          "base_uri": "https://localhost:8080/",
          "height": 691
        },
        "outputId": "67069817-f7d4-45f2-8aa2-fe5888c8c6b4"
      },
      "source": [
        "fig, ax = plt.subplots()\n",
        "features_plot = []\n",
        "rmsle_plot = []\n",
        "for r in rmsle:\n",
        "  rmsle_plot.append([r])\n",
        "ax.table(rowLabels=features,loc=\"center\", cellText=rmsle_plot).scale(1, 5)\n",
        "ax.axis('tight')\n",
        "ax.axis('off')\n",
        "plt.show()"
      ],
      "execution_count": 22,
      "outputs": [
        {
          "output_type": "display_data",
          "data": {
            "image/png": "[encoded data removed]",
            "text/plain": [
              "<Figure size 432x288 with 1 Axes>"
            ]
          },
          "metadata": {
            "needs_background": "light"
          }
        }
      ]
    },
    {
      "cell_type": "code",
      "metadata": {
        "id": "gY6i2w36UHkY",
        "colab": {
          "base_uri": "https://localhost:8080/",
          "height": 620
        },
        "outputId": "d23691c3-7f2a-4100-c2ba-2f32bc4b8bf1"
      },
      "source": [
        "features = list(dict_plot_acc.keys())\n",
        "acc = list(dict_plot_acc.values())\n",
        "  \n",
        "fig = plt.figure(figsize = (20, 10))\n",
        " \n",
        "# creating the bar plot\n",
        "plt.bar(features, acc, color ='cyan', width = 0.4)\n",
        " \n",
        "plt.xlabel(\"PREDICTED FEATURES\")\n",
        "plt.ylabel(\"ACCURACY\")\n",
        "plt.title(\"Predict and Fill Up the NUMERICAL Missing Values using DataWig\")\n",
        "plt.show()"
      ],
      "execution_count": 23,
      "outputs": [
        {
          "output_type": "display_data",
          "data": {
            "image/png": "[encoded data removed]",
            "text/plain": [
              "<Figure size 1440x720 with 1 Axes>"
            ]
          },
          "metadata": {
            "needs_background": "light"
          }
        }
      ]
    },
    {
      "cell_type": "code",
      "metadata": {
        "id": "jkNV1qKoDhMl",
        "colab": {
          "base_uri": "https://localhost:8080/",
          "height": 1000
        },
        "outputId": "b649ddaa-75b9-4ba8-95df-5aa7b38efa79"
      },
      "source": [
        "fig, ax = plt.subplots()\n",
        "features_plot = []\n",
        "acc_plot = []\n",
        "for a in acc:\n",
        "  acc_plot.append([a*100])\n",
        "ax.table(rowLabels=features,loc=\"center\", cellText=acc_plot).scale(1, 5)\n",
        "ax.axis('tight')\n",
        "ax.axis('off')\n",
        "plt.show()"
      ],
      "execution_count": 24,
      "outputs": [
        {
          "output_type": "display_data",
          "data": {
            "image/png": "[encoded data removed]",
            "text/plain": [
              "<Figure size 432x288 with 1 Axes>"
            ]
          },
          "metadata": {
            "needs_background": "light"
          }
        }
      ]
    },
    {
      "cell_type": "code",
      "metadata": {
        "id": "hh1WT2OZuTJL",
        "colab": {
          "base_uri": "https://localhost:8080/"
        },
        "outputId": "a8971fa9-4ed0-4fd9-ef5a-b8f09eb17537"
      },
      "source": [
        "list_empty_columns_true"
      ],
      "execution_count": 25,
      "outputs": [
        {
          "output_type": "execute_result",
          "data": {
            "text/plain": [
              "TotalBsmtSF       1\n",
              "GarageArea        1\n",
              "GarageCars        1\n",
              "KitchenQual       1\n",
              "Electrical        1\n",
              "BsmtUnfSF         1\n",
              "BsmtFinSF2        1\n",
              "BsmtFinSF1        1\n",
              "SaleType          1\n",
              "Exterior1st       1\n",
              "Exterior2nd       1\n",
              "Functional        2\n",
              "Utilities         2\n",
              "BsmtHalfBath      2\n",
              "BsmtFullBath      2\n",
              "MSZoning          4\n",
              "MasVnrArea       23\n",
              "MasVnrType       24\n",
              "BsmtFinType1     79\n",
              "BsmtFinType2     80\n",
              "BsmtQual         81\n",
              "BsmtCond         82\n",
              "BsmtExposure     82\n",
              "GarageType      157\n",
              "GarageCond      159\n",
              "GarageQual      159\n",
              "GarageYrBlt     159\n",
              "GarageFinish    159\n",
              "LotFrontage     486\n",
              "dtype: int64"
            ]
          },
          "metadata": {},
          "execution_count": 25
        }
      ]
    },
    {
      "cell_type": "code",
      "metadata": {
        "id": "KHG8HfvR-aXa"
      },
      "source": [
        "train_test_copy_copy = train_test_copy.copy()\n",
        "train_test_X_copy = train_test_X.copy()"
      ],
      "execution_count": 28,
      "outputs": []
    },
    {
      "cell_type": "code",
      "metadata": {
        "id": "uGTfiTDqse4B"
      },
      "source": [
        "cols_at_end = train_test_copy_copy.iloc[:, -1].name\n",
        "\n",
        "train_test_X_copy = train_test_X_copy[[c for c in train_test_X_copy if c == 'Id']\n",
        "                                      + [c for c in train_test_X_copy if train_test_X_copy[c].dtype == 'O']\n",
        "                                      + [c for c in train_test_X_copy if train_test_X_copy[c].dtype == 'float'] \n",
        "                                      + [c for c in train_test_X_copy if c != 'Id' and train_test_X_copy[c].dtype == 'int']]\n",
        "\n",
        "list_float = [idx for idx,c in enumerate(train_test_X_copy) if train_test_X_copy[c].dtype == 'float']\n",
        "list_O = [idx for idx,c in enumerate(train_test_X_copy) if train_test_X_copy[c].dtype == 'O']\n",
        "list_int = [idx for idx,c in enumerate(train_test_X_copy) if c != 'Id' and train_test_X_copy[c].dtype == 'int']\n",
        "start_idx_list_float = list_float[0]\n",
        "end_idx_list_float = list_float[-1]\n",
        "start_idx_list_int = list_float[0]\n",
        "end_idx_list_int = list_float[-1]\n",
        "start_idx_list_O = list_O[0]\n",
        "end_idx_list_O = list_O[-1]\n",
        "\n",
        "sc_y = MinMaxScaler(feature_range=(0,1))\n",
        "y = train_test_copy_copy.iloc[:,1].values.reshape(-1, 1)\n",
        "y = sc_y.fit_transform(y)\n",
        "\n",
        "one_hot = pd.get_dummies(train_test_X_copy.iloc[:, start_idx_list_O:end_idx_list_O+1])\n",
        "end_idx_np_float = one_hot.shape[1]-1\n",
        "\n",
        "sc_X = MinMaxScaler(feature_range=(0,1))\n",
        "X = sc_X.fit_transform(train_test_X_copy.iloc[:, start_idx_list_float:end_idx_list_int+1])\n",
        "\n",
        "X = np.concatenate([one_hot,X], axis = 1)"
      ],
      "execution_count": 29,
      "outputs": []
    },
    {
      "cell_type": "code",
      "metadata": {
        "id": "AxUIEr4DK83h"
      },
      "source": [
        "X_train = X[:len(train)]\n",
        "X_test = X[len(train):]"
      ],
      "execution_count": 30,
      "outputs": []
    },
    {
      "cell_type": "markdown",
      "metadata": {
        "id": "1tRBCKJUbqYX"
      },
      "source": [
        "Predictive Analytics"
      ]
    },
    {
      "cell_type": "markdown",
      "metadata": {
        "id": "L-RWFzpTo_ID"
      },
      "source": [
        "- https://www.researchgate.net/post/What-do-you-consider-a-good-standard-deviation"
      ]
    },
    {
      "cell_type": "markdown",
      "metadata": {
        "id": "Z_XrbydIbvl-"
      },
      "source": [
        "- Support Vector Regression\n",
        "- Polynomial Regression\n",
        "- Decision Tree Regression\n",
        "- Random Forest Regression\n",
        "- Neural Network Regression\n",
        "- K-Nearest Neighbour\n",
        "- Gaussian Process regression\n",
        "- XGBoost Regressor"
      ]
    },
    {
      "cell_type": "code",
      "metadata": {
        "id": "4IhSg7QVcMo4"
      },
      "source": [
        "from sklearn.metrics import r2_score, mean_squared_error, make_scorer\n",
        "import math\n",
        "from sklearn.model_selection import GridSearchCV\n",
        "from sklearn.model_selection import RepeatedKFold\n",
        "from sklearn.model_selection import cross_val_score"
      ],
      "execution_count": 31,
      "outputs": []
    },
    {
      "cell_type": "code",
      "metadata": {
        "id": "aAyWgzoxBXx-"
      },
      "source": [
        "dict_plot_rmsle = {}\n",
        "dict_plot_std = {}\n",
        "dict_best_hyperparams = {}\n",
        "\n",
        "# define evaluation\n",
        "# cv = RepeatedKFold(n_splits=10, n_repeats=10, random_state=1)\n",
        "# cv = RepeatedKFold(n_splits=10, n_repeats=2, random_state=1)\n",
        "# cv = 10\n",
        "cv = 5"
      ],
      "execution_count": 32,
      "outputs": []
    },
    {
      "cell_type": "code",
      "metadata": {
        "id": "Sry1Mn_2UaY2"
      },
      "source": [
        "def rmsle_score(preds, true):\n",
        "    rmsle_score = (np.sum((np.log1p(preds)-np.log1p(true))**2)/len(true))**0.5\n",
        "    return rmsle_score"
      ],
      "execution_count": 33,
      "outputs": []
    },
    {
      "cell_type": "code",
      "metadata": {
        "id": "eAFCmcIQSUSQ"
      },
      "source": [
        "def get_cv_scores_rmsle(model):\n",
        "    scores = cross_val_score(model,\n",
        "                             X_train,\n",
        "                             y.ravel(),\n",
        "                             scoring=make_scorer(rmsle_score),\n",
        "                             cv=cv)\n",
        "    \n",
        "    print('CV Mean: ', np.mean(scores))\n",
        "    dict_plot_rmsle[type(model).__name__] = np.mean(scores)\n",
        "    print('STD: ', np.std(scores))\n",
        "    dict_plot_std[type(model).__name__] = np.std(scores)\n",
        "    print('\\n')"
      ],
      "execution_count": 34,
      "outputs": []
    },
    {
      "cell_type": "markdown",
      "metadata": {
        "id": "FCu5P1etcG5f"
      },
      "source": [
        "Support Vector Regressor"
      ]
    },
    {
      "cell_type": "code",
      "metadata": {
        "id": "68G2gu61hsaw"
      },
      "source": [
        "from sklearn.svm import SVR\n",
        "regressor_SVR = SVR()"
      ],
      "execution_count": 35,
      "outputs": []
    },
    {
      "cell_type": "code",
      "metadata": {
        "colab": {
          "base_uri": "https://localhost:8080/"
        },
        "id": "ewMX04vIhlD8",
        "outputId": "537844ac-98f6-4bc5-9ee8-81323e60f587"
      },
      "source": [
        "# define search\n",
        "parameters = [{'C': [0.1,1, 10, 100], 'gamma': [1,0.1,0.01,0.001],'kernel': ['rbf', 'poly', 'sigmoid']}]\n",
        "search_SVR = GridSearchCV(regressor_SVR, param_grid = parameters, scoring=make_scorer(rmsle_score), n_jobs=-1, cv=cv)\n",
        "result = search_SVR.fit(X_train, y.ravel())\n",
        "# summarize result\n",
        "print('Best Hyperparameters: %s' % result.best_params_)\n",
        "dict_best_hyperparams[type(regressor_SVR).__name__] =  result.best_params_"
      ],
      "execution_count": 36,
      "outputs": [
        {
          "output_type": "stream",
          "name": "stderr",
          "text": [
            "/usr/local/lib/python3.7/dist-packages/sklearn/model_selection/_search.py:972: UserWarning: One or more of the test scores are non-finite: [0.08894104 0.04983143 0.08633033 0.06031903 0.04983143 0.07175781\n",
            " 0.05286074 0.06517414 0.05523635 0.06527174 0.0862487  0.06970506\n",
            " 0.09224507 0.04983143 0.08633033 0.05936652 0.04983143        nan\n",
            " 0.04849964 0.05367371 0.04766732 0.0515379  0.08551188 0.0549323\n",
            " 0.09224507 0.04983143 0.08633032 0.05936652 0.04983143        nan\n",
            " 0.05071926 0.0500089  0.16110708 0.04791984 0.08032525 0.04794711\n",
            " 0.09224507 0.04983143 0.08633028 0.05936652 0.04983143        nan\n",
            " 0.05071926 0.04983143        nan 0.05386234 0.06517414 0.05181054]\n",
            "  category=UserWarning,\n"
          ]
        },
        {
          "output_type": "stream",
          "name": "stdout",
          "text": [
            "Best Hyperparameters: {'C': 10, 'gamma': 0.01, 'kernel': 'sigmoid'}\n"
          ]
        }
      ]
    },
    {
      "cell_type": "markdown",
      "metadata": {
        "id": "c6mDVo1PijGh"
      },
      "source": [
        "Neural Network Regressor"
      ]
    },
    {
      "cell_type": "code",
      "metadata": {
        "id": "HNarD_igjZpT"
      },
      "source": [
        "from sklearn.neural_network import MLPRegressor\n",
        "regressor_MLPRegressor = MLPRegressor()"
      ],
      "execution_count": 37,
      "outputs": []
    },
    {
      "cell_type": "code",
      "metadata": {
        "id": "z8mkx79kbws5",
        "colab": {
          "base_uri": "https://localhost:8080/"
        },
        "outputId": "27b0f564-0f19-4d26-dbe2-472cab8597e5"
      },
      "source": [
        "# define search\n",
        "parameters = [{'activation': ['relu', 'tanh', 'logistic', 'identity'],\n",
        "          'hidden_layer_sizes': [(100,), (50,100,), (50,75,100,)],\n",
        "          'solver': ['adam', 'sgd', 'lbfgs'],\n",
        "          'learning_rate' : ['constant', 'adaptive']\n",
        "         }]\n",
        "search_MLPRegressor = GridSearchCV(regressor_MLPRegressor, param_grid = parameters, scoring=make_scorer(rmsle_score), n_jobs=-1, cv=cv)\n",
        "result = search_MLPRegressor.fit(X_train, y.ravel())\n",
        "# summarize result\n",
        "print('Best Hyperparameters: %s' % result.best_params_)\n",
        "dict_best_hyperparams[type(regressor_MLPRegressor).__name__] =  result.best_params_"
      ],
      "execution_count": 38,
      "outputs": [
        {
          "output_type": "stream",
          "name": "stdout",
          "text": [
            "Best Hyperparameters: {'activation': 'relu', 'hidden_layer_sizes': (100,), 'learning_rate': 'constant', 'solver': 'sgd'}\n"
          ]
        }
      ]
    },
    {
      "cell_type": "markdown",
      "metadata": {
        "id": "yP8_vsGg3TCj"
      },
      "source": [
        "Decision Tree Regressor"
      ]
    },
    {
      "cell_type": "code",
      "metadata": {
        "id": "RlJ6IQab21DD"
      },
      "source": [
        "from sklearn.tree import DecisionTreeRegressor\n",
        "regressor_DecisionTreeRegressor = DecisionTreeRegressor()"
      ],
      "execution_count": 39,
      "outputs": []
    },
    {
      "cell_type": "code",
      "metadata": {
        "id": "JgfLnx8T21E5",
        "colab": {
          "base_uri": "https://localhost:8080/"
        },
        "outputId": "fefaa66d-8755-42a8-88c2-52b8fb050827"
      },
      "source": [
        "# define search\n",
        "parameters=[{\"splitter\":[\"best\",\"random\"],\n",
        "            \"max_depth\" : [5, 7, 11, 13],\n",
        "            \"min_samples_leaf\":[3, 5, 7, 9],\n",
        "            \"min_weight_fraction_leaf\":[0, 0.25, 0.5],\n",
        "            \"max_features\":[\"auto\",\"log2\",\"sqrt\",None],\n",
        "            \"max_leaf_nodes\":[20, 60, 80, 100] }]\n",
        "search_DecisionTreeRegressor = GridSearchCV(regressor_DecisionTreeRegressor, param_grid = parameters, scoring=make_scorer(rmsle_score), n_jobs=-1, cv=cv)\n",
        "result = search_DecisionTreeRegressor.fit(X_train, y.ravel())\n",
        "# summarize result\n",
        "print('Best Hyperparameters: %s' % result.best_params_)\n",
        "dict_best_hyperparams[type(regressor_DecisionTreeRegressor).__name__] =  result.best_params_"
      ],
      "execution_count": 40,
      "outputs": [
        {
          "output_type": "stream",
          "name": "stdout",
          "text": [
            "Best Hyperparameters: {'max_depth': 5, 'max_features': 'log2', 'max_leaf_nodes': 20, 'min_samples_leaf': 3, 'min_weight_fraction_leaf': 0.5, 'splitter': 'random'}\n"
          ]
        }
      ]
    },
    {
      "cell_type": "markdown",
      "metadata": {
        "id": "tGA3A_oP7N5z"
      },
      "source": [
        "Random Forest Regressor"
      ]
    },
    {
      "cell_type": "code",
      "metadata": {
        "id": "p5dwC_IW7d31"
      },
      "source": [
        "from sklearn.ensemble import RandomForestRegressor\n",
        "regressor_RandomForestRegressor = RandomForestRegressor()"
      ],
      "execution_count": 41,
      "outputs": []
    },
    {
      "cell_type": "code",
      "metadata": {
        "id": "zwthHoof7Qko",
        "colab": {
          "base_uri": "https://localhost:8080/"
        },
        "outputId": "555194ad-925d-49a5-c750-ddcb8bfda0f2"
      },
      "source": [
        "# define search\n",
        "parameters=[{'bootstrap': [True, False],\n",
        "            'max_depth': [5, 7, 11],\n",
        "            'max_features': ['auto', 'sqrt'],\n",
        "            'min_samples_leaf': [3, 5, 7],\n",
        "            'min_samples_split': [4, 8],\n",
        "            'n_estimators': [25, 50] }]\n",
        "search_RandomForestRegressor = GridSearchCV(regressor_RandomForestRegressor, param_grid = parameters, scoring=make_scorer(rmsle_score), n_jobs=-1, cv=cv)\n",
        "result = search_RandomForestRegressor.fit(X_train, y.ravel())\n",
        "# summarize result\n",
        "print('Best Hyperparameters: %s' % result.best_params_)\n",
        "dict_best_hyperparams[type(regressor_RandomForestRegressor).__name__] =  result.best_params_"
      ],
      "execution_count": 42,
      "outputs": [
        {
          "output_type": "stream",
          "name": "stdout",
          "text": [
            "Best Hyperparameters: {'bootstrap': False, 'max_depth': 11, 'max_features': 'auto', 'min_samples_leaf': 3, 'min_samples_split': 4, 'n_estimators': 25}\n"
          ]
        }
      ]
    },
    {
      "cell_type": "markdown",
      "metadata": {
        "id": "RaXRYP14-PJ7"
      },
      "source": [
        "K-Nearest Neighbour Regressor"
      ]
    },
    {
      "cell_type": "code",
      "metadata": {
        "id": "Ng4nmsd4-bsA"
      },
      "source": [
        "from sklearn.neighbors import KNeighborsRegressor\n",
        "regressor_KNeighborsRegressor = KNeighborsRegressor()"
      ],
      "execution_count": 43,
      "outputs": []
    },
    {
      "cell_type": "code",
      "metadata": {
        "id": "Csol6vfR81Ro",
        "colab": {
          "base_uri": "https://localhost:8080/"
        },
        "outputId": "cc44b841-c15e-402a-8b71-1d7ad5bce947"
      },
      "source": [
        "# define search\n",
        "parameters = [{'weights': ['uniform', 'distance'], \n",
        "               'n_neighbors': [20, 60, 100]}]\n",
        "search_KNeighborsRegressor = GridSearchCV(regressor_KNeighborsRegressor, param_grid = parameters, scoring=make_scorer(rmsle_score), n_jobs=-1, cv=cv)\n",
        "result = search_KNeighborsRegressor.fit(X_train, y.ravel())\n",
        "# summarize result\n",
        "print('Best Hyperparameters: %s' % result.best_params_)\n",
        "dict_best_hyperparams[type(regressor_KNeighborsRegressor).__name__] =  result.best_params_"
      ],
      "execution_count": 44,
      "outputs": [
        {
          "output_type": "stream",
          "name": "stdout",
          "text": [
            "Best Hyperparameters: {'n_neighbors': 100, 'weights': 'uniform'}\n"
          ]
        }
      ]
    },
    {
      "cell_type": "markdown",
      "metadata": {
        "id": "xe_2Votz_Hsc"
      },
      "source": [
        "Gaussian Process Regressor"
      ]
    },
    {
      "cell_type": "code",
      "metadata": {
        "id": "B9m003j9BVru"
      },
      "source": [
        "from sklearn.gaussian_process import GaussianProcessRegressor\n",
        "from sklearn.gaussian_process.kernels import RBF, DotProduct\n",
        "regressor_GaussianProcessRegressor = GaussianProcessRegressor()"
      ],
      "execution_count": 45,
      "outputs": []
    },
    {
      "cell_type": "code",
      "metadata": {
        "id": "O8Hib2jvBBYj",
        "colab": {
          "base_uri": "https://localhost:8080/"
        },
        "outputId": "6b233b07-8803-4585-c83d-321ad9a83ad0"
      },
      "source": [
        "# define search\n",
        "parameters = [{\n",
        "    \"alpha\":  [1e-2, 1e-3],\n",
        "    \"kernel\": [RBF(l) for l in np.logspace(-1, 1, 2)]\n",
        "}, {\n",
        "    \"alpha\":  [1e-2, 1e-3],\n",
        "    \"kernel\": [DotProduct(sigma_0) for sigma_0 in np.logspace(-1, 1, 2)]\n",
        "}]\n",
        "search_GaussianProcessRegressor = GridSearchCV(regressor_GaussianProcessRegressor, param_grid = parameters, scoring=make_scorer(rmsle_score), n_jobs=-1, cv=cv)\n",
        "result = search_GaussianProcessRegressor.fit(X_train, y.ravel())\n",
        "# summarize result\n",
        "print('Best Hyperparameters: %s' % result.best_params_)\n",
        "dict_best_hyperparams[type(regressor_GaussianProcessRegressor).__name__] =  result.best_params_"
      ],
      "execution_count": 46,
      "outputs": [
        {
          "output_type": "stream",
          "name": "stdout",
          "text": [
            "Best Hyperparameters: {'alpha': 0.001, 'kernel': DotProduct(sigma_0=0.1)}\n"
          ]
        }
      ]
    },
    {
      "cell_type": "markdown",
      "metadata": {
        "id": "zuENnS8pHQaA"
      },
      "source": [
        "XGBoost Regressor"
      ]
    },
    {
      "cell_type": "code",
      "metadata": {
        "id": "w9-A1WZqHYRh"
      },
      "source": [
        "from xgboost import XGBRegressor\n",
        "regressor_XGBRegressor = XGBRegressor()"
      ],
      "execution_count": 47,
      "outputs": []
    },
    {
      "cell_type": "code",
      "metadata": {
        "id": "yCkKrXMSHPyY",
        "colab": {
          "base_uri": "https://localhost:8080/"
        },
        "outputId": "3cb0ebb9-5883-47d4-ea38-1354914ef803"
      },
      "source": [
        "# define search\n",
        "parameters = [ {\"max_depth\": [max_depth for max_depth in range(9,12)],\n",
        "                \"min_child_weight\": [min_child_weight for min_child_weight in range(5,8)], \n",
        "                \"objective\": ['reg:squarederror'] \n",
        " } ]\n",
        "search_XGBRegressor = GridSearchCV(regressor_XGBRegressor, param_grid = parameters, scoring=make_scorer(rmsle_score), n_jobs=-1, cv=cv)\n",
        "result = search_XGBRegressor.fit(X_train, y.ravel())\n",
        "# summarize result\n",
        "print('Best Hyperparameters: %s' % result.best_params_)\n",
        "dict_best_hyperparams[type(regressor_XGBRegressor).__name__] =  result.best_params_"
      ],
      "execution_count": 48,
      "outputs": [
        {
          "output_type": "stream",
          "name": "stdout",
          "text": [
            "Best Hyperparameters: {'max_depth': 11, 'min_child_weight': 6, 'objective': 'reg:squarederror'}\n"
          ]
        }
      ]
    },
    {
      "cell_type": "code",
      "metadata": {
        "id": "Nyql27XkYiaG"
      },
      "source": [
        "for keys in dict_best_hyperparams.keys():\n",
        "    dict_best_hyperparams[keys] = str(dict_best_hyperparams[keys])"
      ],
      "execution_count": 49,
      "outputs": []
    },
    {
      "cell_type": "code",
      "metadata": {
        "colab": {
          "base_uri": "https://localhost:8080/"
        },
        "id": "n6bOxHalaaEX",
        "outputId": "d6a5ab2a-852d-4bdb-f40d-7861984aff23"
      },
      "source": [
        "dict_best_hyperparams"
      ],
      "execution_count": 50,
      "outputs": [
        {
          "output_type": "execute_result",
          "data": {
            "text/plain": [
              "{'DecisionTreeRegressor': \"{'max_depth': 5, 'max_features': 'log2', 'max_leaf_nodes': 20, 'min_samples_leaf': 3, 'min_weight_fraction_leaf': 0.5, 'splitter': 'random'}\",\n",
              " 'GaussianProcessRegressor': \"{'alpha': 0.001, 'kernel': DotProduct(sigma_0=0.1)}\",\n",
              " 'KNeighborsRegressor': \"{'n_neighbors': 100, 'weights': 'uniform'}\",\n",
              " 'MLPRegressor': \"{'activation': 'relu', 'hidden_layer_sizes': (100,), 'learning_rate': 'constant', 'solver': 'sgd'}\",\n",
              " 'RandomForestRegressor': \"{'bootstrap': False, 'max_depth': 11, 'max_features': 'auto', 'min_samples_leaf': 3, 'min_samples_split': 4, 'n_estimators': 25}\",\n",
              " 'SVR': \"{'C': 10, 'gamma': 0.01, 'kernel': 'sigmoid'}\",\n",
              " 'XGBRegressor': \"{'max_depth': 11, 'min_child_weight': 6, 'objective': 'reg:squarederror'}\"}"
            ]
          },
          "metadata": {},
          "execution_count": 50
        }
      ]
    },
    {
      "cell_type": "markdown",
      "metadata": {
        "id": "ZfiwGmTs8oax"
      },
      "source": [
        "Model Evaluation"
      ]
    },
    {
      "cell_type": "code",
      "metadata": {
        "colab": {
          "base_uri": "https://localhost:8080/"
        },
        "id": "SH916wOCAo0s",
        "outputId": "8d2e1598-3033-44a0-be15-30e7be647dbb"
      },
      "source": [
        "regressor_SVR = SVR(C= 10, gamma= 0.01, kernel= 'sigmoid').fit(X_train, y.ravel())\n",
        "get_cv_scores_rmsle(regressor_SVR)"
      ],
      "execution_count": 62,
      "outputs": [
        {
          "output_type": "stream",
          "name": "stdout",
          "text": [
            "CV Mean:  0.16110708151747027\n",
            "STD:  0.13253594084677467\n",
            "\n",
            "\n"
          ]
        }
      ]
    },
    {
      "cell_type": "code",
      "metadata": {
        "colab": {
          "base_uri": "https://localhost:8080/"
        },
        "id": "ybfRrs9GAaSm",
        "outputId": "71643319-cd02-4adb-921a-05f2d0a2c871"
      },
      "source": [
        "regressor_MLPRegressor = MLPRegressor(activation='relu', hidden_layer_sizes=(100,), learning_rate= 'constant', solver= 'sgd').fit(X_train, y.ravel())\n",
        "get_cv_scores_rmsle(regressor_MLPRegressor)"
      ],
      "execution_count": 63,
      "outputs": [
        {
          "output_type": "stream",
          "name": "stdout",
          "text": [
            "CV Mean:  0.11257868384210241\n",
            "STD:  0.00770386725320005\n",
            "\n",
            "\n"
          ]
        }
      ]
    },
    {
      "cell_type": "code",
      "metadata": {
        "colab": {
          "base_uri": "https://localhost:8080/"
        },
        "id": "2h9FuPvKAFYo",
        "outputId": "bf2ddfbc-498e-4889-b847-a53c21445b86"
      },
      "source": [
        "regressor_DecisionTreeRegressor = DecisionTreeRegressor(max_depth= 5, max_features= 'log2', max_leaf_nodes= 20, min_samples_leaf= 3, min_weight_fraction_leaf= 0.5, splitter= 'random').fit(X_train, y.ravel())\n",
        "get_cv_scores_rmsle(regressor_DecisionTreeRegressor)"
      ],
      "execution_count": 64,
      "outputs": [
        {
          "output_type": "stream",
          "name": "stdout",
          "text": [
            "CV Mean:  0.0859695133245385\n",
            "STD:  0.004643700950599636\n",
            "\n",
            "\n"
          ]
        }
      ]
    },
    {
      "cell_type": "code",
      "metadata": {
        "colab": {
          "base_uri": "https://localhost:8080/"
        },
        "id": "QCPKEkW7a75s",
        "outputId": "161736e6-0eb2-4b27-cadf-5f6799774cfe"
      },
      "source": [
        "regressor_RandomForestRegressor = RandomForestRegressor(bootstrap= False, max_depth= 11, max_features= 'auto', min_samples_leaf= 3, min_samples_split= 4, n_estimators= 25).fit(X_train, y.ravel())\n",
        "get_cv_scores_rmsle(regressor_RandomForestRegressor)"
      ],
      "execution_count": 65,
      "outputs": [
        {
          "output_type": "stream",
          "name": "stdout",
          "text": [
            "CV Mean:  0.050605647478438376\n",
            "STD:  0.002494779293481288\n",
            "\n",
            "\n"
          ]
        }
      ]
    },
    {
      "cell_type": "code",
      "metadata": {
        "colab": {
          "base_uri": "https://localhost:8080/"
        },
        "id": "WoW_6Xa1_8we",
        "outputId": "64a4ae6c-a1a8-4bef-8824-4194089929a9"
      },
      "source": [
        "regressor_KNeighborsRegressor = KNeighborsRegressor(n_neighbors= 100, weights= 'uniform').fit(X_train, y.ravel())\n",
        "get_cv_scores_rmsle(regressor_KNeighborsRegressor)"
      ],
      "execution_count": 66,
      "outputs": [
        {
          "output_type": "stream",
          "name": "stdout",
          "text": [
            "CV Mean:  0.052294604284692216\n",
            "STD:  0.0048452661108487425\n",
            "\n",
            "\n"
          ]
        }
      ]
    },
    {
      "cell_type": "code",
      "metadata": {
        "colab": {
          "base_uri": "https://localhost:8080/"
        },
        "id": "YEmisziP_0zJ",
        "outputId": "ad56f071-725c-4ac8-9499-53c331d419a0"
      },
      "source": [
        "regressor_GaussianProcessRegressor = GaussianProcessRegressor(alpha= 0.001, kernel= DotProduct(sigma_0=0.1)).fit(X_train, y.ravel())\n",
        "get_cv_scores_rmsle(regressor_GaussianProcessRegressor)"
      ],
      "execution_count": 67,
      "outputs": [
        {
          "output_type": "stream",
          "name": "stdout",
          "text": [
            "CV Mean:  0.03895177446851341\n",
            "STD:  0.006376129837225\n",
            "\n",
            "\n"
          ]
        }
      ]
    },
    {
      "cell_type": "code",
      "metadata": {
        "colab": {
          "base_uri": "https://localhost:8080/"
        },
        "id": "na5UUFL0_qga",
        "outputId": "e346110d-8923-47ad-9c3a-0f750b1a2a2c"
      },
      "source": [
        "regressor_XGBRegressor = XGBRegressor(max_depth= 11, min_child_weight= 6, objective='reg:squarederror').fit(X_train, y.ravel())\n",
        "get_cv_scores_rmsle(regressor_XGBRegressor)"
      ],
      "execution_count": 68,
      "outputs": [
        {
          "output_type": "stream",
          "name": "stdout",
          "text": [
            "CV Mean:  0.03515858957232358\n",
            "STD:  0.004764888571874359\n",
            "\n",
            "\n"
          ]
        }
      ]
    },
    {
      "cell_type": "code",
      "metadata": {
        "colab": {
          "base_uri": "https://localhost:8080/"
        },
        "id": "VIm1pfB2mLhP",
        "outputId": "fa9021ff-b924-490f-df46-3b113b387d31"
      },
      "source": [
        "dict_plot_rmsle"
      ],
      "execution_count": 69,
      "outputs": [
        {
          "output_type": "execute_result",
          "data": {
            "text/plain": [
              "{'DecisionTreeRegressor': 0.0859695133245385,\n",
              " 'GaussianProcessRegressor': 0.03895177446851341,\n",
              " 'KNeighborsRegressor': 0.052294604284692216,\n",
              " 'MLPRegressor': 0.11257868384210241,\n",
              " 'RandomForestRegressor': 0.050605647478438376,\n",
              " 'SVR': 0.16110708151747027,\n",
              " 'XGBRegressor': 0.03515858957232358}"
            ]
          },
          "metadata": {},
          "execution_count": 69
        }
      ]
    },
    {
      "cell_type": "code",
      "metadata": {
        "colab": {
          "base_uri": "https://localhost:8080/"
        },
        "id": "la-jz3N8mXRX",
        "outputId": "69df1f78-eba9-4cf8-a702-8dc901a99d7d"
      },
      "source": [
        "dict_plot_std"
      ],
      "execution_count": 70,
      "outputs": [
        {
          "output_type": "execute_result",
          "data": {
            "text/plain": [
              "{'DecisionTreeRegressor': 0.004643700950599636,\n",
              " 'GaussianProcessRegressor': 0.006376129837225,\n",
              " 'KNeighborsRegressor': 0.0048452661108487425,\n",
              " 'MLPRegressor': 0.00770386725320005,\n",
              " 'RandomForestRegressor': 0.002494779293481288,\n",
              " 'SVR': 0.13253594084677467,\n",
              " 'XGBRegressor': 0.004764888571874359}"
            ]
          },
          "metadata": {},
          "execution_count": 70
        }
      ]
    },
    {
      "cell_type": "code",
      "metadata": {
        "id": "ydpGkQTpmjGh"
      },
      "source": [
        "pd_model_performance = pd.DataFrame({'Root_Mean_Squared_Log_Error':pd.Series(dict_plot_rmsle),'Standard_Deviation':pd.Series(dict_plot_std)}).sort_values(by=['Root_Mean_Squared_Log_Error', 'Standard_Deviation'])"
      ],
      "execution_count": 71,
      "outputs": []
    },
    {
      "cell_type": "code",
      "metadata": {
        "colab": {
          "base_uri": "https://localhost:8080/",
          "height": 268
        },
        "id": "Cl7sRwI3nL83",
        "outputId": "b45cd1ed-49a4-44f0-a5c1-9fbe9168b3d6"
      },
      "source": [
        "pd_model_performance"
      ],
      "execution_count": 72,
      "outputs": [
        {
          "output_type": "execute_result",
          "data": {
            "text/html": [
              "<div>\n",
              "<style scoped>\n",
              "    .dataframe tbody tr th:only-of-type {\n",
              "        vertical-align: middle;\n",
              "    }\n",
              "\n",
              "    .dataframe tbody tr th {\n",
              "        vertical-align: top;\n",
              "    }\n",
              "\n",
              "    .dataframe thead th {\n",
              "        text-align: right;\n",
              "    }\n",
              "</style>\n",
              "<table border=\"1\" class=\"dataframe\">\n",
              "  <thead>\n",
              "    <tr style=\"text-align: right;\">\n",
              "      <th></th>\n",
              "      <th>Root_Mean_Squared_Log_Error</th>\n",
              "      <th>Standard_Deviation</th>\n",
              "    </tr>\n",
              "  </thead>\n",
              "  <tbody>\n",
              "    <tr>\n",
              "      <th>XGBRegressor</th>\n",
              "      <td>0.035159</td>\n",
              "      <td>0.004765</td>\n",
              "    </tr>\n",
              "    <tr>\n",
              "      <th>GaussianProcessRegressor</th>\n",
              "      <td>0.038952</td>\n",
              "      <td>0.006376</td>\n",
              "    </tr>\n",
              "    <tr>\n",
              "      <th>RandomForestRegressor</th>\n",
              "      <td>0.050606</td>\n",
              "      <td>0.002495</td>\n",
              "    </tr>\n",
              "    <tr>\n",
              "      <th>KNeighborsRegressor</th>\n",
              "      <td>0.052295</td>\n",
              "      <td>0.004845</td>\n",
              "    </tr>\n",
              "    <tr>\n",
              "      <th>DecisionTreeRegressor</th>\n",
              "      <td>0.085970</td>\n",
              "      <td>0.004644</td>\n",
              "    </tr>\n",
              "    <tr>\n",
              "      <th>MLPRegressor</th>\n",
              "      <td>0.112579</td>\n",
              "      <td>0.007704</td>\n",
              "    </tr>\n",
              "    <tr>\n",
              "      <th>SVR</th>\n",
              "      <td>0.161107</td>\n",
              "      <td>0.132536</td>\n",
              "    </tr>\n",
              "  </tbody>\n",
              "</table>\n",
              "</div>"
            ],
            "text/plain": [
              "                          Root_Mean_Squared_Log_Error  Standard_Deviation\n",
              "XGBRegressor                                 0.035159            0.004765\n",
              "GaussianProcessRegressor                     0.038952            0.006376\n",
              "RandomForestRegressor                        0.050606            0.002495\n",
              "KNeighborsRegressor                          0.052295            0.004845\n",
              "DecisionTreeRegressor                        0.085970            0.004644\n",
              "MLPRegressor                                 0.112579            0.007704\n",
              "SVR                                          0.161107            0.132536"
            ]
          },
          "metadata": {},
          "execution_count": 72
        }
      ]
    },
    {
      "cell_type": "markdown",
      "metadata": {
        "id": "79dH3_HL35rB"
      },
      "source": [
        "Predict on Test Dataset [with XGBRegressor]"
      ]
    },
    {
      "cell_type": "code",
      "metadata": {
        "id": "PD3uSf6kEjUQ"
      },
      "source": [
        "y_pred = sc_y.inverse_transform(regressor_XGBRegressor.predict(X_test).reshape(-1,1))"
      ],
      "execution_count": 73,
      "outputs": []
    },
    {
      "cell_type": "code",
      "metadata": {
        "id": "f6vmsefusNGe"
      },
      "source": [
        "predicted_prices = pd.DataFrame({'Id': test.Id})\n",
        "predicted_prices['SalePrice'] = y_pred.astype(int)"
      ],
      "execution_count": 75,
      "outputs": []
    },
    {
      "cell_type": "code",
      "metadata": {
        "colab": {
          "base_uri": "https://localhost:8080/",
          "height": 424
        },
        "id": "W9PjejZ4tzKr",
        "outputId": "e9c3efd2-4d4d-4122-ff0c-7a538acb95fd"
      },
      "source": [
        "predicted_prices"
      ],
      "execution_count": 76,
      "outputs": [
        {
          "output_type": "execute_result",
          "data": {
            "text/html": [
              "<div>\n",
              "<style scoped>\n",
              "    .dataframe tbody tr th:only-of-type {\n",
              "        vertical-align: middle;\n",
              "    }\n",
              "\n",
              "    .dataframe tbody tr th {\n",
              "        vertical-align: top;\n",
              "    }\n",
              "\n",
              "    .dataframe thead th {\n",
              "        text-align: right;\n",
              "    }\n",
              "</style>\n",
              "<table border=\"1\" class=\"dataframe\">\n",
              "  <thead>\n",
              "    <tr style=\"text-align: right;\">\n",
              "      <th></th>\n",
              "      <th>Id</th>\n",
              "      <th>SalePrice</th>\n",
              "    </tr>\n",
              "  </thead>\n",
              "  <tbody>\n",
              "    <tr>\n",
              "      <th>0</th>\n",
              "      <td>1461</td>\n",
              "      <td>132704</td>\n",
              "    </tr>\n",
              "    <tr>\n",
              "      <th>1</th>\n",
              "      <td>1462</td>\n",
              "      <td>158344</td>\n",
              "    </tr>\n",
              "    <tr>\n",
              "      <th>2</th>\n",
              "      <td>1463</td>\n",
              "      <td>195763</td>\n",
              "    </tr>\n",
              "    <tr>\n",
              "      <th>3</th>\n",
              "      <td>1464</td>\n",
              "      <td>192488</td>\n",
              "    </tr>\n",
              "    <tr>\n",
              "      <th>4</th>\n",
              "      <td>1465</td>\n",
              "      <td>192094</td>\n",
              "    </tr>\n",
              "    <tr>\n",
              "      <th>...</th>\n",
              "      <td>...</td>\n",
              "      <td>...</td>\n",
              "    </tr>\n",
              "    <tr>\n",
              "      <th>1454</th>\n",
              "      <td>2915</td>\n",
              "      <td>90233</td>\n",
              "    </tr>\n",
              "    <tr>\n",
              "      <th>1455</th>\n",
              "      <td>2916</td>\n",
              "      <td>84800</td>\n",
              "    </tr>\n",
              "    <tr>\n",
              "      <th>1456</th>\n",
              "      <td>2917</td>\n",
              "      <td>140051</td>\n",
              "    </tr>\n",
              "    <tr>\n",
              "      <th>1457</th>\n",
              "      <td>2918</td>\n",
              "      <td>119041</td>\n",
              "    </tr>\n",
              "    <tr>\n",
              "      <th>1458</th>\n",
              "      <td>2919</td>\n",
              "      <td>213306</td>\n",
              "    </tr>\n",
              "  </tbody>\n",
              "</table>\n",
              "<p>1459 rows × 2 columns</p>\n",
              "</div>"
            ],
            "text/plain": [
              "        Id  SalePrice\n",
              "0     1461     132704\n",
              "1     1462     158344\n",
              "2     1463     195763\n",
              "3     1464     192488\n",
              "4     1465     192094\n",
              "...    ...        ...\n",
              "1454  2915      90233\n",
              "1455  2916      84800\n",
              "1456  2917     140051\n",
              "1457  2918     119041\n",
              "1458  2919     213306\n",
              "\n",
              "[1459 rows x 2 columns]"
            ]
          },
          "metadata": {},
          "execution_count": 76
        }
      ]
    },
    {
      "cell_type": "code",
      "metadata": {
        "id": "DjNGGhkFrxo4"
      },
      "source": [
        "predicted_prices.to_csv('submission.csv', index=False)"
      ],
      "execution_count": 77,
      "outputs": []
    },
    {
      "cell_type": "code",
      "metadata": {
        "id": "2L9fRTL_S6wU"
      },
      "source": [
        ""
      ],
      "execution_count": null,
      "outputs": []
    }
  ]
}